{
 "cells": [
  {
   "cell_type": "markdown",
   "metadata": {},
   "source": [
    "# Identify Customer Segments\n",
    "\n",
    "In this project, I applied unsupervised learning techniques to identify segments of the population that form the core customer base for a mail-order sales company in Germany. These segments can then be used to direct marketing campaigns towards audiences that will have the highest expected rate of returns. "
   ]
  },
  {
   "cell_type": "code",
   "execution_count": 1,
   "metadata": {},
   "outputs": [],
   "source": [
    "# import libraries here; add more as necessary\n",
    "import numpy as np\n",
    "import pandas as pd\n",
    "import matplotlib.pyplot as plt\n",
    "import seaborn as sns\n",
    "from sklearn.preprocessing import Imputer, StandardScaler\n",
    "from sklearn.decomposition import PCA\n",
    "from sklearn.cluster import KMeans\n",
    "# magic word for producing visualizations in notebook\n",
    "%matplotlib inline"
   ]
  },
  {
   "cell_type": "markdown",
   "metadata": {},
   "source": [
    "### Step 0: Load the Data\n",
    "\n",
    "There are four files associated with this project:\n",
    "\n",
    "- `Udacity_AZDIAS_Subset.csv`: Demographics data for the general population of Germany; 891211 persons (rows) x 85 features (columns).\n",
    "- `Udacity_CUSTOMERS_Subset.csv`: Demographics data for customers of a mail-order company; 191652 persons (rows) x 85 features (columns).\n",
    "- `Data_Dictionary.md`: Detailed information file about the features in the provided datasets.\n",
    "- `AZDIAS_Feature_Summary.csv`: Summary of feature attributes for demographics data; 85 features (rows) x 4 columns\n",
    "\n",
    "Each row of the demographics files represents a single person, but also includes information outside of individuals, including information about their household, building, and neighborhood. I used this information to cluster the general population into groups with similar demographic properties. Then, I examined how the people in the customers dataset fit into those created clusters. The hypothesis was that certain clusters were over-represented in the customers data, as compared to the general population; those over-represented clusters would be assumed to be part of the core userbase. This information can then be used for further applications, such as targeting for a marketing campaign."
   ]
  },
  {
   "cell_type": "code",
   "execution_count": 2,
   "metadata": {},
   "outputs": [
    {
     "data": {
      "text/html": [
       "<div>\n",
       "<style scoped>\n",
       "    .dataframe tbody tr th:only-of-type {\n",
       "        vertical-align: middle;\n",
       "    }\n",
       "\n",
       "    .dataframe tbody tr th {\n",
       "        vertical-align: top;\n",
       "    }\n",
       "\n",
       "    .dataframe thead th {\n",
       "        text-align: right;\n",
       "    }\n",
       "</style>\n",
       "<table border=\"1\" class=\"dataframe\">\n",
       "  <thead>\n",
       "    <tr style=\"text-align: right;\">\n",
       "      <th></th>\n",
       "      <th>AGER_TYP</th>\n",
       "      <th>ALTERSKATEGORIE_GROB</th>\n",
       "      <th>ANREDE_KZ</th>\n",
       "      <th>CJT_GESAMTTYP</th>\n",
       "      <th>FINANZ_MINIMALIST</th>\n",
       "      <th>FINANZ_SPARER</th>\n",
       "      <th>FINANZ_VORSORGER</th>\n",
       "      <th>FINANZ_ANLEGER</th>\n",
       "      <th>FINANZ_UNAUFFAELLIGER</th>\n",
       "      <th>FINANZ_HAUSBAUER</th>\n",
       "      <th>...</th>\n",
       "      <th>PLZ8_ANTG1</th>\n",
       "      <th>PLZ8_ANTG2</th>\n",
       "      <th>PLZ8_ANTG3</th>\n",
       "      <th>PLZ8_ANTG4</th>\n",
       "      <th>PLZ8_BAUMAX</th>\n",
       "      <th>PLZ8_HHZ</th>\n",
       "      <th>PLZ8_GBZ</th>\n",
       "      <th>ARBEIT</th>\n",
       "      <th>ORTSGR_KLS9</th>\n",
       "      <th>RELAT_AB</th>\n",
       "    </tr>\n",
       "  </thead>\n",
       "  <tbody>\n",
       "    <tr>\n",
       "      <th>0</th>\n",
       "      <td>-1</td>\n",
       "      <td>2</td>\n",
       "      <td>1</td>\n",
       "      <td>2.0</td>\n",
       "      <td>3</td>\n",
       "      <td>4</td>\n",
       "      <td>3</td>\n",
       "      <td>5</td>\n",
       "      <td>5</td>\n",
       "      <td>3</td>\n",
       "      <td>...</td>\n",
       "      <td>NaN</td>\n",
       "      <td>NaN</td>\n",
       "      <td>NaN</td>\n",
       "      <td>NaN</td>\n",
       "      <td>NaN</td>\n",
       "      <td>NaN</td>\n",
       "      <td>NaN</td>\n",
       "      <td>NaN</td>\n",
       "      <td>NaN</td>\n",
       "      <td>NaN</td>\n",
       "    </tr>\n",
       "    <tr>\n",
       "      <th>1</th>\n",
       "      <td>-1</td>\n",
       "      <td>1</td>\n",
       "      <td>2</td>\n",
       "      <td>5.0</td>\n",
       "      <td>1</td>\n",
       "      <td>5</td>\n",
       "      <td>2</td>\n",
       "      <td>5</td>\n",
       "      <td>4</td>\n",
       "      <td>5</td>\n",
       "      <td>...</td>\n",
       "      <td>2.0</td>\n",
       "      <td>3.0</td>\n",
       "      <td>2.0</td>\n",
       "      <td>1.0</td>\n",
       "      <td>1.0</td>\n",
       "      <td>5.0</td>\n",
       "      <td>4.0</td>\n",
       "      <td>3.0</td>\n",
       "      <td>5.0</td>\n",
       "      <td>4.0</td>\n",
       "    </tr>\n",
       "    <tr>\n",
       "      <th>2</th>\n",
       "      <td>-1</td>\n",
       "      <td>3</td>\n",
       "      <td>2</td>\n",
       "      <td>3.0</td>\n",
       "      <td>1</td>\n",
       "      <td>4</td>\n",
       "      <td>1</td>\n",
       "      <td>2</td>\n",
       "      <td>3</td>\n",
       "      <td>5</td>\n",
       "      <td>...</td>\n",
       "      <td>3.0</td>\n",
       "      <td>3.0</td>\n",
       "      <td>1.0</td>\n",
       "      <td>0.0</td>\n",
       "      <td>1.0</td>\n",
       "      <td>4.0</td>\n",
       "      <td>4.0</td>\n",
       "      <td>3.0</td>\n",
       "      <td>5.0</td>\n",
       "      <td>2.0</td>\n",
       "    </tr>\n",
       "    <tr>\n",
       "      <th>3</th>\n",
       "      <td>2</td>\n",
       "      <td>4</td>\n",
       "      <td>2</td>\n",
       "      <td>2.0</td>\n",
       "      <td>4</td>\n",
       "      <td>2</td>\n",
       "      <td>5</td>\n",
       "      <td>2</td>\n",
       "      <td>1</td>\n",
       "      <td>2</td>\n",
       "      <td>...</td>\n",
       "      <td>2.0</td>\n",
       "      <td>2.0</td>\n",
       "      <td>2.0</td>\n",
       "      <td>0.0</td>\n",
       "      <td>1.0</td>\n",
       "      <td>3.0</td>\n",
       "      <td>4.0</td>\n",
       "      <td>2.0</td>\n",
       "      <td>3.0</td>\n",
       "      <td>3.0</td>\n",
       "    </tr>\n",
       "    <tr>\n",
       "      <th>4</th>\n",
       "      <td>-1</td>\n",
       "      <td>3</td>\n",
       "      <td>1</td>\n",
       "      <td>5.0</td>\n",
       "      <td>4</td>\n",
       "      <td>3</td>\n",
       "      <td>4</td>\n",
       "      <td>1</td>\n",
       "      <td>3</td>\n",
       "      <td>2</td>\n",
       "      <td>...</td>\n",
       "      <td>2.0</td>\n",
       "      <td>4.0</td>\n",
       "      <td>2.0</td>\n",
       "      <td>1.0</td>\n",
       "      <td>2.0</td>\n",
       "      <td>3.0</td>\n",
       "      <td>3.0</td>\n",
       "      <td>4.0</td>\n",
       "      <td>6.0</td>\n",
       "      <td>5.0</td>\n",
       "    </tr>\n",
       "  </tbody>\n",
       "</table>\n",
       "<p>5 rows × 85 columns</p>\n",
       "</div>"
      ],
      "text/plain": [
       "   AGER_TYP  ALTERSKATEGORIE_GROB  ANREDE_KZ  CJT_GESAMTTYP  \\\n",
       "0        -1                     2          1            2.0   \n",
       "1        -1                     1          2            5.0   \n",
       "2        -1                     3          2            3.0   \n",
       "3         2                     4          2            2.0   \n",
       "4        -1                     3          1            5.0   \n",
       "\n",
       "   FINANZ_MINIMALIST  FINANZ_SPARER  FINANZ_VORSORGER  FINANZ_ANLEGER  \\\n",
       "0                  3              4                 3               5   \n",
       "1                  1              5                 2               5   \n",
       "2                  1              4                 1               2   \n",
       "3                  4              2                 5               2   \n",
       "4                  4              3                 4               1   \n",
       "\n",
       "   FINANZ_UNAUFFAELLIGER  FINANZ_HAUSBAUER    ...     PLZ8_ANTG1  PLZ8_ANTG2  \\\n",
       "0                      5                 3    ...            NaN         NaN   \n",
       "1                      4                 5    ...            2.0         3.0   \n",
       "2                      3                 5    ...            3.0         3.0   \n",
       "3                      1                 2    ...            2.0         2.0   \n",
       "4                      3                 2    ...            2.0         4.0   \n",
       "\n",
       "   PLZ8_ANTG3  PLZ8_ANTG4  PLZ8_BAUMAX  PLZ8_HHZ  PLZ8_GBZ  ARBEIT  \\\n",
       "0         NaN         NaN          NaN       NaN       NaN     NaN   \n",
       "1         2.0         1.0          1.0       5.0       4.0     3.0   \n",
       "2         1.0         0.0          1.0       4.0       4.0     3.0   \n",
       "3         2.0         0.0          1.0       3.0       4.0     2.0   \n",
       "4         2.0         1.0          2.0       3.0       3.0     4.0   \n",
       "\n",
       "   ORTSGR_KLS9  RELAT_AB  \n",
       "0          NaN       NaN  \n",
       "1          5.0       4.0  \n",
       "2          5.0       2.0  \n",
       "3          3.0       3.0  \n",
       "4          6.0       5.0  \n",
       "\n",
       "[5 rows x 85 columns]"
      ]
     },
     "execution_count": 2,
     "metadata": {},
     "output_type": "execute_result"
    }
   ],
   "source": [
    "# Load in the general demographics data.\n",
    "azdias = pd.read_csv('Udacity_AZDIAS_Subset.csv', sep = ';')\n",
    "original_columns = set(azdias.columns)\n",
    "azdias.head()"
   ]
  },
  {
   "cell_type": "code",
   "execution_count": 3,
   "metadata": {},
   "outputs": [
    {
     "data": {
      "text/html": [
       "<div>\n",
       "<style scoped>\n",
       "    .dataframe tbody tr th:only-of-type {\n",
       "        vertical-align: middle;\n",
       "    }\n",
       "\n",
       "    .dataframe tbody tr th {\n",
       "        vertical-align: top;\n",
       "    }\n",
       "\n",
       "    .dataframe thead th {\n",
       "        text-align: right;\n",
       "    }\n",
       "</style>\n",
       "<table border=\"1\" class=\"dataframe\">\n",
       "  <thead>\n",
       "    <tr style=\"text-align: right;\">\n",
       "      <th></th>\n",
       "      <th>attribute</th>\n",
       "      <th>information_level</th>\n",
       "      <th>type</th>\n",
       "      <th>missing_or_unknown</th>\n",
       "    </tr>\n",
       "  </thead>\n",
       "  <tbody>\n",
       "    <tr>\n",
       "      <th>0</th>\n",
       "      <td>AGER_TYP</td>\n",
       "      <td>person</td>\n",
       "      <td>categorical</td>\n",
       "      <td>[-1,0]</td>\n",
       "    </tr>\n",
       "    <tr>\n",
       "      <th>1</th>\n",
       "      <td>ALTERSKATEGORIE_GROB</td>\n",
       "      <td>person</td>\n",
       "      <td>ordinal</td>\n",
       "      <td>[-1,0,9]</td>\n",
       "    </tr>\n",
       "    <tr>\n",
       "      <th>2</th>\n",
       "      <td>ANREDE_KZ</td>\n",
       "      <td>person</td>\n",
       "      <td>categorical</td>\n",
       "      <td>[-1,0]</td>\n",
       "    </tr>\n",
       "    <tr>\n",
       "      <th>3</th>\n",
       "      <td>CJT_GESAMTTYP</td>\n",
       "      <td>person</td>\n",
       "      <td>categorical</td>\n",
       "      <td>[0]</td>\n",
       "    </tr>\n",
       "    <tr>\n",
       "      <th>4</th>\n",
       "      <td>FINANZ_MINIMALIST</td>\n",
       "      <td>person</td>\n",
       "      <td>ordinal</td>\n",
       "      <td>[-1]</td>\n",
       "    </tr>\n",
       "  </tbody>\n",
       "</table>\n",
       "</div>"
      ],
      "text/plain": [
       "              attribute information_level         type missing_or_unknown\n",
       "0              AGER_TYP            person  categorical             [-1,0]\n",
       "1  ALTERSKATEGORIE_GROB            person      ordinal           [-1,0,9]\n",
       "2             ANREDE_KZ            person  categorical             [-1,0]\n",
       "3         CJT_GESAMTTYP            person  categorical                [0]\n",
       "4     FINANZ_MINIMALIST            person      ordinal               [-1]"
      ]
     },
     "execution_count": 3,
     "metadata": {},
     "output_type": "execute_result"
    }
   ],
   "source": [
    "# Load in the feature summary file.\n",
    "feat_info = pd.read_csv('AZDIAS_Feature_Summary.csv', sep = ';')\n",
    "feat_info.head()"
   ]
  },
  {
   "cell_type": "markdown",
   "metadata": {},
   "source": [
    "\n",
    "## Step 1: Preprocessing\n",
    "\n",
    "### Step 1.1: Assess Missing Data\n",
    "\n",
    "The feature summary file contains a summary of properties for each demographics data column. I used this file to make cleaning decisions. First of all, I assessed the demographics data in terms of missing data. \n",
    "\n",
    "#### Step 1.1.1: Convert Missing Value Codes to NaNs\n",
    "The fourth column of the feature attributes summary (loaded in above as `feat_info`) documents the codes from the data dictionary that indicate missing or unknown data. I converted data that matches a 'missing' or 'unknown' value code into a numpy NaN value. "
   ]
  },
  {
   "cell_type": "code",
   "execution_count": 4,
   "metadata": {},
   "outputs": [
    {
     "name": "stdout",
     "output_type": "stream",
     "text": [
      "['OST_WEST_KZ', 'CAMEO_DEUG_2015', 'CAMEO_DEU_2015', 'CAMEO_INTL_2015']\n"
     ]
    }
   ],
   "source": [
    "# Identify missing or unknown data values and convert them to NaNs.\n",
    "non_numerical = []\n",
    "for c in azdias.columns:\n",
    "    if azdias[c].dtypes == 'object':\n",
    "        non_numerical.append(c)\n",
    "        \n",
    "print(non_numerical)       "
   ]
  },
  {
   "cell_type": "code",
   "execution_count": 5,
   "metadata": {},
   "outputs": [],
   "source": [
    "for c in non_numerical:\n",
    "    azdias[c] = azdias[c].replace(['XX', 'X'], np.nan)"
   ]
  },
  {
   "cell_type": "code",
   "execution_count": 6,
   "metadata": {},
   "outputs": [],
   "source": [
    "numerical = [ c for c in azdias.columns if c not in non_numerical]\n",
    "for c in numerical:\n",
    "    missing_or_unknown = feat_info[feat_info.attribute == c].missing_or_unknown.values[0]\n",
    "    if missing_or_unknown != '[]': \n",
    "        nan = [int(i) for i in missing_or_unknown.strip('[]').split(',')]\n",
    "        azdias[c] = azdias[c].replace(nan, np.nan)"
   ]
  },
  {
   "cell_type": "markdown",
   "metadata": {},
   "source": [
    "#### Step 1.1.2: Assess Missing Data in Each Column\n",
    "\n",
    "There are a few columns that are outliers in terms of the proportion of values that are missing. I used matplotlib's [`hist()`](https://matplotlib.org/api/_as_gen/matplotlib.pyplot.hist.html) function to visualize the distribution of missing value counts to find these columns. "
   ]
  },
  {
   "cell_type": "code",
   "execution_count": 7,
   "metadata": {},
   "outputs": [
    {
     "data": {
      "image/png": "[encoded data removed]",
      "text/plain": [
       "<matplotlib.figure.Figure at 0x7fb2e362bda0>"
      ]
     },
     "metadata": {
      "needs_background": "light"
     },
     "output_type": "display_data"
    }
   ],
   "source": [
    "# Perform an assessment of how much missing data there is in each column of the\n",
    "# dataset.\n",
    "\n",
    "perc_missing = azdias.isnull().mean().sort_values(ascending = False)\n",
    "perc_missing.hist(); "
   ]
  },
  {
   "cell_type": "code",
   "execution_count": 8,
   "metadata": {},
   "outputs": [
    {
     "data": {
      "text/plain": [
       "TITEL_KZ          0.997576\n",
       "AGER_TYP          0.769554\n",
       "KK_KUNDENTYP      0.655967\n",
       "KBA05_BAUMAX      0.534687\n",
       "GEBURTSJAHR       0.440203\n",
       "ALTER_HH          0.348137\n",
       "REGIOTYP          0.177357\n",
       "KKK               0.177357\n",
       "W_KEIT_KIND_HH    0.166051\n",
       "KBA05_ANTG4       0.149597\n",
       "dtype: float64"
      ]
     },
     "execution_count": 8,
     "metadata": {},
     "output_type": "execute_result"
    }
   ],
   "source": [
    "perc_missing.head(10)"
   ]
  },
  {
   "cell_type": "code",
   "execution_count": 9,
   "metadata": {},
   "outputs": [
    {
     "data": {
      "text/plain": [
       "24"
      ]
     },
     "execution_count": 9,
     "metadata": {},
     "output_type": "execute_result"
    }
   ],
   "source": [
    "azdias.notnull().all().sum()"
   ]
  },
  {
   "cell_type": "code",
   "execution_count": 10,
   "metadata": {},
   "outputs": [
    {
     "data": {
      "text/html": [
       "<div>\n",
       "<style scoped>\n",
       "    .dataframe tbody tr th:only-of-type {\n",
       "        vertical-align: middle;\n",
       "    }\n",
       "\n",
       "    .dataframe tbody tr th {\n",
       "        vertical-align: top;\n",
       "    }\n",
       "\n",
       "    .dataframe thead th {\n",
       "        text-align: right;\n",
       "    }\n",
       "</style>\n",
       "<table border=\"1\" class=\"dataframe\">\n",
       "  <thead>\n",
       "    <tr style=\"text-align: right;\">\n",
       "      <th></th>\n",
       "      <th>attribute</th>\n",
       "      <th>information_level</th>\n",
       "      <th>type</th>\n",
       "      <th>missing_or_unknown</th>\n",
       "    </tr>\n",
       "  </thead>\n",
       "  <tbody>\n",
       "    <tr>\n",
       "      <th>40</th>\n",
       "      <td>TITEL_KZ</td>\n",
       "      <td>person</td>\n",
       "      <td>categorical</td>\n",
       "      <td>[-1,0]</td>\n",
       "    </tr>\n",
       "  </tbody>\n",
       "</table>\n",
       "</div>"
      ],
      "text/plain": [
       "   attribute information_level         type missing_or_unknown\n",
       "40  TITEL_KZ            person  categorical             [-1,0]"
      ]
     },
     "metadata": {},
     "output_type": "display_data"
    },
    {
     "data": {
      "text/html": [
       "<div>\n",
       "<style scoped>\n",
       "    .dataframe tbody tr th:only-of-type {\n",
       "        vertical-align: middle;\n",
       "    }\n",
       "\n",
       "    .dataframe tbody tr th {\n",
       "        vertical-align: top;\n",
       "    }\n",
       "\n",
       "    .dataframe thead th {\n",
       "        text-align: right;\n",
       "    }\n",
       "</style>\n",
       "<table border=\"1\" class=\"dataframe\">\n",
       "  <thead>\n",
       "    <tr style=\"text-align: right;\">\n",
       "      <th></th>\n",
       "      <th>attribute</th>\n",
       "      <th>information_level</th>\n",
       "      <th>type</th>\n",
       "      <th>missing_or_unknown</th>\n",
       "    </tr>\n",
       "  </thead>\n",
       "  <tbody>\n",
       "    <tr>\n",
       "      <th>0</th>\n",
       "      <td>AGER_TYP</td>\n",
       "      <td>person</td>\n",
       "      <td>categorical</td>\n",
       "      <td>[-1,0]</td>\n",
       "    </tr>\n",
       "  </tbody>\n",
       "</table>\n",
       "</div>"
      ],
      "text/plain": [
       "  attribute information_level         type missing_or_unknown\n",
       "0  AGER_TYP            person  categorical             [-1,0]"
      ]
     },
     "metadata": {},
     "output_type": "display_data"
    },
    {
     "data": {
      "text/html": [
       "<div>\n",
       "<style scoped>\n",
       "    .dataframe tbody tr th:only-of-type {\n",
       "        vertical-align: middle;\n",
       "    }\n",
       "\n",
       "    .dataframe tbody tr th {\n",
       "        vertical-align: top;\n",
       "    }\n",
       "\n",
       "    .dataframe thead th {\n",
       "        text-align: right;\n",
       "    }\n",
       "</style>\n",
       "<table border=\"1\" class=\"dataframe\">\n",
       "  <thead>\n",
       "    <tr style=\"text-align: right;\">\n",
       "      <th></th>\n",
       "      <th>attribute</th>\n",
       "      <th>information_level</th>\n",
       "      <th>type</th>\n",
       "      <th>missing_or_unknown</th>\n",
       "    </tr>\n",
       "  </thead>\n",
       "  <tbody>\n",
       "    <tr>\n",
       "      <th>47</th>\n",
       "      <td>KK_KUNDENTYP</td>\n",
       "      <td>household</td>\n",
       "      <td>categorical</td>\n",
       "      <td>[-1]</td>\n",
       "    </tr>\n",
       "  </tbody>\n",
       "</table>\n",
       "</div>"
      ],
      "text/plain": [
       "       attribute information_level         type missing_or_unknown\n",
       "47  KK_KUNDENTYP         household  categorical               [-1]"
      ]
     },
     "metadata": {},
     "output_type": "display_data"
    },
    {
     "data": {
      "text/html": [
       "<div>\n",
       "<style scoped>\n",
       "    .dataframe tbody tr th:only-of-type {\n",
       "        vertical-align: middle;\n",
       "    }\n",
       "\n",
       "    .dataframe tbody tr th {\n",
       "        vertical-align: top;\n",
       "    }\n",
       "\n",
       "    .dataframe thead th {\n",
       "        text-align: right;\n",
       "    }\n",
       "</style>\n",
       "<table border=\"1\" class=\"dataframe\">\n",
       "  <thead>\n",
       "    <tr style=\"text-align: right;\">\n",
       "      <th></th>\n",
       "      <th>attribute</th>\n",
       "      <th>information_level</th>\n",
       "      <th>type</th>\n",
       "      <th>missing_or_unknown</th>\n",
       "    </tr>\n",
       "  </thead>\n",
       "  <tbody>\n",
       "    <tr>\n",
       "      <th>64</th>\n",
       "      <td>KBA05_BAUMAX</td>\n",
       "      <td>microcell_rr3</td>\n",
       "      <td>mixed</td>\n",
       "      <td>[-1,0]</td>\n",
       "    </tr>\n",
       "  </tbody>\n",
       "</table>\n",
       "</div>"
      ],
      "text/plain": [
       "       attribute information_level   type missing_or_unknown\n",
       "64  KBA05_BAUMAX     microcell_rr3  mixed             [-1,0]"
      ]
     },
     "metadata": {},
     "output_type": "display_data"
    },
    {
     "data": {
      "text/html": [
       "<div>\n",
       "<style scoped>\n",
       "    .dataframe tbody tr th:only-of-type {\n",
       "        vertical-align: middle;\n",
       "    }\n",
       "\n",
       "    .dataframe tbody tr th {\n",
       "        vertical-align: top;\n",
       "    }\n",
       "\n",
       "    .dataframe thead th {\n",
       "        text-align: right;\n",
       "    }\n",
       "</style>\n",
       "<table border=\"1\" class=\"dataframe\">\n",
       "  <thead>\n",
       "    <tr style=\"text-align: right;\">\n",
       "      <th></th>\n",
       "      <th>attribute</th>\n",
       "      <th>information_level</th>\n",
       "      <th>type</th>\n",
       "      <th>missing_or_unknown</th>\n",
       "    </tr>\n",
       "  </thead>\n",
       "  <tbody>\n",
       "    <tr>\n",
       "      <th>11</th>\n",
       "      <td>GEBURTSJAHR</td>\n",
       "      <td>person</td>\n",
       "      <td>numeric</td>\n",
       "      <td>[0]</td>\n",
       "    </tr>\n",
       "  </tbody>\n",
       "</table>\n",
       "</div>"
      ],
      "text/plain": [
       "      attribute information_level     type missing_or_unknown\n",
       "11  GEBURTSJAHR            person  numeric                [0]"
      ]
     },
     "metadata": {},
     "output_type": "display_data"
    },
    {
     "data": {
      "text/html": [
       "<div>\n",
       "<style scoped>\n",
       "    .dataframe tbody tr th:only-of-type {\n",
       "        vertical-align: middle;\n",
       "    }\n",
       "\n",
       "    .dataframe tbody tr th {\n",
       "        vertical-align: top;\n",
       "    }\n",
       "\n",
       "    .dataframe thead th {\n",
       "        text-align: right;\n",
       "    }\n",
       "</style>\n",
       "<table border=\"1\" class=\"dataframe\">\n",
       "  <thead>\n",
       "    <tr style=\"text-align: right;\">\n",
       "      <th></th>\n",
       "      <th>attribute</th>\n",
       "      <th>information_level</th>\n",
       "      <th>type</th>\n",
       "      <th>missing_or_unknown</th>\n",
       "    </tr>\n",
       "  </thead>\n",
       "  <tbody>\n",
       "    <tr>\n",
       "      <th>43</th>\n",
       "      <td>ALTER_HH</td>\n",
       "      <td>household</td>\n",
       "      <td>interval</td>\n",
       "      <td>[0]</td>\n",
       "    </tr>\n",
       "  </tbody>\n",
       "</table>\n",
       "</div>"
      ],
      "text/plain": [
       "   attribute information_level      type missing_or_unknown\n",
       "43  ALTER_HH         household  interval                [0]"
      ]
     },
     "metadata": {},
     "output_type": "display_data"
    }
   ],
   "source": [
    "# Investigate patterns in the amount of missing data in each column.\n",
    "columns_to_drop = perc_missing.index[:6]\n",
    "for c in columns_to_drop:\n",
    "    display(feat_info[feat_info.attribute == c])"
   ]
  },
  {
   "cell_type": "code",
   "execution_count": 11,
   "metadata": {},
   "outputs": [],
   "source": [
    "# Remove the outlier columns from the dataset. \n",
    "# azdias =  azdias.drop(columns_to_drop, axis = 1)"
   ]
  },
  {
   "cell_type": "markdown",
   "metadata": {},
   "source": [
    "#### Discussion 1.1.2: Assess Missing Data in Each Column\n",
    "\n",
    "There are 6 columns ('TITEL_KZ', 'AGER_TYP', 'KK_KUNDENTYP', 'KBA05_BAUMAX', 'GEBURTSJAHR','ALTER_HH') with more than 30% of missing information. There are 24 columns without any missing information. The rest of the columns have less than 20% of missing information. I ended up keeping those columns because the customers dataset has a different distribution of missing information. In order to keep the columns consistent between the two datasets, I did not removed those columns. "
   ]
  },
  {
   "cell_type": "markdown",
   "metadata": {},
   "source": [
    "#### Step 1.1.3: Assess Missing Data in Each Row\n",
    "\n",
    "I performed a similar assessment for the rows of the dataset. I divided the data into two subsets: one for data points that are above some threshold for missing values, and a second subset for points below that threshold."
   ]
  },
  {
   "cell_type": "code",
   "execution_count": 12,
   "metadata": {},
   "outputs": [
    {
     "data": {
      "image/png": "[encoded data removed]",
      "text/plain": [
       "<matplotlib.figure.Figure at 0x7fb2e35d8da0>"
      ]
     },
     "metadata": {
      "needs_background": "light"
     },
     "output_type": "display_data"
    }
   ],
   "source": [
    "# How much data is missing in each row of the dataset?\n",
    "perc_missing = azdias.isnull().mean(axis = 1).sort_values(ascending = False)\n",
    "perc_missing.hist();"
   ]
  },
  {
   "cell_type": "code",
   "execution_count": 13,
   "metadata": {},
   "outputs": [],
   "source": [
    "# Divide the data into two subsets based on the number of missing\n",
    "# values in each row.\n",
    "\n",
    "high_perc_missing = perc_missing[perc_missing > 0.35].index\n",
    "low_perc_missing = perc_missing[perc_missing <= 0.35].index"
   ]
  },
  {
   "cell_type": "code",
   "execution_count": 14,
   "metadata": {},
   "outputs": [
    {
     "data": {
      "text/plain": [
       "0.1046788619208928"
      ]
     },
     "execution_count": 14,
     "metadata": {},
     "output_type": "execute_result"
    }
   ],
   "source": [
    "len(high_perc_missing)/len(perc_missing)"
   ]
  },
  {
   "cell_type": "code",
   "execution_count": 15,
   "metadata": {},
   "outputs": [],
   "source": [
    "high_perc_missing = azdias.iloc[high_perc_missing]\n",
    "low_perc_missing = azdias.iloc[low_perc_missing]"
   ]
  },
  {
   "cell_type": "code",
   "execution_count": 16,
   "metadata": {},
   "outputs": [
    {
     "data": {
      "text/plain": [
       "Index(['ZABEOTYP', 'GREEN_AVANTGARDE', 'SEMIO_TRADV', 'SEMIO_DOM',\n",
       "       'SEMIO_KRIT', 'SEMIO_RAT', 'SEMIO_KULT', 'SEMIO_ERL', 'SEMIO_LUST',\n",
       "       'SEMIO_VERT', 'SEMIO_MAT', 'SEMIO_REL', 'SEMIO_FAM', 'SEMIO_SOZ',\n",
       "       'SEMIO_KAEM', 'SEMIO_PFLICHT', 'FINANZ_ANLEGER', 'FINANZTYP',\n",
       "       'FINANZ_MINIMALIST', 'FINANZ_SPARER', 'FINANZ_VORSORGER',\n",
       "       'FINANZ_UNAUFFAELLIGER', 'ANREDE_KZ', 'FINANZ_HAUSBAUER',\n",
       "       'ALTERSKATEGORIE_GROB', 'GFK_URLAUBERTYP', 'LP_STATUS_GROB',\n",
       "       'RETOURTYP_BK_S', 'LP_STATUS_FEIN', 'CJT_GESAMTTYP'],\n",
       "      dtype='object')"
      ]
     },
     "execution_count": 16,
     "metadata": {},
     "output_type": "execute_result"
    }
   ],
   "source": [
    "# Identify columns where there are no or few missing values\n",
    "high_perc_missing.notnull().mean().sort_values(ascending = False).index[:30]"
   ]
  },
  {
   "cell_type": "code",
   "execution_count": 17,
   "metadata": {},
   "outputs": [],
   "source": [
    "columns_low_perc_missing = ['ZABEOTYP', 'SEMIO_TRADV', 'GREEN_AVANTGARDE', 'FINANZTYP', 'ANREDE_KZ', 'ALTERSKATEGORIE_GROB', 'ONLINE_AFFINITAET', 'RETOURTYP_BK_S',\n",
    "       'CJT_GESAMTTYP', 'GFK_URLAUBERTYP', 'LP_STATUS_GROB']"
   ]
  },
  {
   "cell_type": "code",
   "execution_count": 18,
   "metadata": {},
   "outputs": [],
   "source": [
    "def plot_dist(c):\n",
    "    plt.subplot(121)\n",
    "    sns.countplot(high_perc_missing[c])\n",
    "    plt.title('high_perc_missing')\n",
    "    plt.subplot(122)\n",
    "    sns.countplot(low_perc_missing[c])\n",
    "    plt.title('low_perc_missing')\n",
    "    plt.show()"
   ]
  },
  {
   "cell_type": "code",
   "execution_count": 19,
   "metadata": {},
   "outputs": [
    {
     "data": {
      "image/png": "[encoded data removed]",
      "text/plain": [
       "<matplotlib.figure.Figure at 0x7fb2e1481240>"
      ]
     },
     "metadata": {
      "needs_background": "light"
     },
     "output_type": "display_data"
    },
    {
     "data": {
      "image/png": "[encoded data removed]",
      "text/plain": [
       "<matplotlib.figure.Figure at 0x7fb2e137d860>"
      ]
     },
     "metadata": {
      "needs_background": "light"
     },
     "output_type": "display_data"
    },
    {
     "data": {
      "image/png": "[encoded data removed]",
      "text/plain": [
       "<matplotlib.figure.Figure at 0x7fb2e12cbd68>"
      ]
     },
     "metadata": {
      "needs_background": "light"
     },
     "output_type": "display_data"
    },
    {
     "data": {
      "image/png": "[encoded data removed]",
      "text/plain": [
       "<matplotlib.figure.Figure at 0x7fb2e1263f28>"
      ]
     },
     "metadata": {
      "needs_background": "light"
     },
     "output_type": "display_data"
    },
    {
     "data": {
      "image/png": "[encoded data removed]",
      "text/plain": [
       "<matplotlib.figure.Figure at 0x7fb2e1138f60>"
      ]
     },
     "metadata": {
      "needs_background": "light"
     },
     "output_type": "display_data"
    },
    {
     "data": {
      "image/png": "[encoded data removed]",
      "text/plain": [
       "<matplotlib.figure.Figure at 0x7fb2e10c77f0>"
      ]
     },
     "metadata": {
      "needs_background": "light"
     },
     "output_type": "display_data"
    },
    {
     "data": {
      "image/png": "[encoded data removed]",
      "text/plain": [
       "<matplotlib.figure.Figure at 0x7fb2e10454e0>"
      ]
     },
     "metadata": {
      "needs_background": "light"
     },
     "output_type": "display_data"
    },
    {
     "data": {
      "image/png": "[encoded data removed]",
      "text/plain": [
       "<matplotlib.figure.Figure at 0x7fb2e112ba90>"
      ]
     },
     "metadata": {
      "needs_background": "light"
     },
     "output_type": "display_data"
    },
    {
     "data": {
      "image/png": "[encoded data removed]",
      "text/plain": [
       "<matplotlib.figure.Figure at 0x7fb2e0f4e978>"
      ]
     },
     "metadata": {
      "needs_background": "light"
     },
     "output_type": "display_data"
    },
    {
     "data": {
      "image/png": "[encoded data removed]",
      "text/plain": [
       "<matplotlib.figure.Figure at 0x7fb2e0f7d438>"
      ]
     },
     "metadata": {
      "needs_background": "light"
     },
     "output_type": "display_data"
    },
    {
     "data": {
      "image/png": "[encoded data removed]",
      "text/plain": [
       "<matplotlib.figure.Figure at 0x7fb2e0ea54a8>"
      ]
     },
     "metadata": {
      "needs_background": "light"
     },
     "output_type": "display_data"
    }
   ],
   "source": [
    "# Compare the distribution of values for columns where there are\n",
    "# no or few missing values, between the two subsets.\n",
    "\n",
    "for c in columns_low_perc_missing:\n",
    "    plot_dist(c)"
   ]
  },
  {
   "cell_type": "markdown",
   "metadata": {},
   "source": [
    "#### Discussion 1.1.3: Assess Missing Data in Each Row\n",
    " \n",
    "The data with many missing values looks very different from the data with few or no missing values. As a result, I made a note on those data as special, and will revisit these data later on. "
   ]
  },
  {
   "cell_type": "markdown",
   "metadata": {},
   "source": [
    "### Step 1.2: Select and Re-Encode Features\n",
    "\n",
    "In this step, I made a few encoding changes or additional assumptions to be able to make progress. While almost all of the values in the dataset are encoded using numbers, not all of them represent numeric values. The third column of the feature summary (`feat_info`) shows a summary of types of measurement.\n",
    "\n",
    "- For numeric and interval data, I kept these features without changes.\n",
    "- Most of the variables in the dataset are ordinal in nature. While ordinal values may technically be non-linear in spacing, I made the simplifying assumption that the ordinal variables could be treated as being interval in nature (that is, kept without any changes).\n",
    "- The remaining two variable types: categorical, and 'mixed' needed special handling ."
   ]
  },
  {
   "cell_type": "code",
   "execution_count": 20,
   "metadata": {},
   "outputs": [
    {
     "data": {
      "text/plain": [
       "ordinal        49\n",
       "categorical    21\n",
       "mixed           7\n",
       "numeric         7\n",
       "interval        1\n",
       "Name: type, dtype: int64"
      ]
     },
     "execution_count": 20,
     "metadata": {},
     "output_type": "execute_result"
    }
   ],
   "source": [
    "# How many features are there of each data type?\n",
    "\n",
    "feat_info.type.value_counts()"
   ]
  },
  {
   "cell_type": "markdown",
   "metadata": {},
   "source": [
    "#### Step 1.2.1: Re-Encode Categorical Features\n",
    "\n",
    "For categorical data, I re-encoded the levels as dummy variables. "
   ]
  },
  {
   "cell_type": "code",
   "execution_count": 21,
   "metadata": {},
   "outputs": [],
   "source": [
    "# Assess categorical variables: which are binary, which are multi-level, and\n",
    "# which one needs to be re-encoded?\n",
    "\n",
    "categorical = [c for c in feat_info[feat_info.type == 'categorical'].attribute.values] # if c not in columns_to_drop]\n",
    "levels = [len(azdias[c].value_counts()) for c in categorical]        \n",
    "\n",
    "df = pd.DataFrame(np.array([categorical, levels]).T, columns = ['categorical', 'levels'])\n",
    "df = df.set_index('categorical')\n",
    "df['levels'] = df['levels'].astype(int)\n",
    "df = df.sort_values('levels')\n"
   ]
  },
  {
   "cell_type": "code",
   "execution_count": 22,
   "metadata": {},
   "outputs": [
    {
     "name": "stdout",
     "output_type": "stream",
     "text": [
      "2    465305\n",
      "1    425916\n",
      "Name: ANREDE_KZ, dtype: int64\n",
      "W    629528\n",
      "O    168545\n",
      "Name: OST_WEST_KZ, dtype: int64\n",
      "2.0    398722\n",
      "1.0    381303\n",
      "Name: VERS_TYP, dtype: int64\n",
      "0.0    810834\n",
      "1.0      6888\n",
      "Name: SOHO_KZ, dtype: int64\n",
      "0    715996\n",
      "1    175225\n",
      "Name: GREEN_AVANTGARDE, dtype: int64\n"
     ]
    }
   ],
   "source": [
    "binary = df[df.levels == 2].index\n",
    "for c in binary:\n",
    "    print(azdias[c].value_counts())\n",
    "\n",
    "# Re-encode the binary categories\n",
    "azdias['OST_WEST_KZ'] = azdias['OST_WEST_KZ'].apply(lambda x: 1 if x == 'W' else 0)\n",
    "azdias['ANREDE_KZ'] = azdias['ANREDE_KZ'].apply(lambda x: 1 if x == 2 else 0)\n",
    "azdias['VERS_TYP'] = azdias['VERS_TYP'].apply(lambda x: 1 if x == 2 else 0)"
   ]
  },
  {
   "cell_type": "code",
   "execution_count": 23,
   "metadata": {},
   "outputs": [],
   "source": [
    "multi = df[(df.levels >2) & (df.levels <44)].index\n",
    "columns_to_drop = df[df.levels >2].index\n",
    "\n",
    "# Re-encode categorical variable(s) to be kept in the analysis.\n",
    "azdias[multi] = azdias[multi].astype('str')\n",
    "ohc = pd.get_dummies(azdias[multi], drop_first = True)\n",
    "azdias = azdias.drop(columns_to_drop, axis = 1)\n",
    "azdias = pd.concat([azdias, ohc], axis = 1)"
   ]
  },
  {
   "cell_type": "markdown",
   "metadata": {},
   "source": [
    "#### Discussion 1.2.1: Re-Encode Categorical Features\n",
    "\n",
    "I re-encoded the binary variables using 0 and 1, and re-encoded the multi-level variables with one-hot-encoder. I dropped the multi-level variables with 44 levels. "
   ]
  },
  {
   "cell_type": "markdown",
   "metadata": {},
   "source": [
    "#### Step 1.2.2: Engineer Mixed-Type Features\n",
    "\n",
    "There are a two features that are marked as \"mixed\" in the feature summary that required special treatment in order to be included in the analysis. \n",
    "\n",
    "- \"PRAEGENDE_JUGENDJAHRE\" combines information on three dimensions: generation by decade, movement (mainstream vs. avantgarde), and nation (east vs. west). I created two new variables to capture the other two dimensions: a numeric variable for decade, and a binary variable for movement.\n",
    "- \"CAMEO_INTL_2015\" combines information on two axes: wealth and life stage. I broke up the two-digit codes by their 'tens'-place and 'ones'-place digits into two new ordinal variables (which, for the purposes of this project, is equivalent to just treating them as their raw numeric values)."
   ]
  },
  {
   "cell_type": "code",
   "execution_count": 24,
   "metadata": {},
   "outputs": [
    {
     "data": {
      "text/html": [
       "<div>\n",
       "<style scoped>\n",
       "    .dataframe tbody tr th:only-of-type {\n",
       "        vertical-align: middle;\n",
       "    }\n",
       "\n",
       "    .dataframe tbody tr th {\n",
       "        vertical-align: top;\n",
       "    }\n",
       "\n",
       "    .dataframe thead th {\n",
       "        text-align: right;\n",
       "    }\n",
       "</style>\n",
       "<table border=\"1\" class=\"dataframe\">\n",
       "  <thead>\n",
       "    <tr style=\"text-align: right;\">\n",
       "      <th></th>\n",
       "      <th>MOVEMENT</th>\n",
       "      <th>DECADE</th>\n",
       "    </tr>\n",
       "  </thead>\n",
       "  <tbody>\n",
       "    <tr>\n",
       "      <th>0</th>\n",
       "      <td>0</td>\n",
       "      <td>NaN</td>\n",
       "    </tr>\n",
       "    <tr>\n",
       "      <th>1</th>\n",
       "      <td>1</td>\n",
       "      <td>90.0</td>\n",
       "    </tr>\n",
       "    <tr>\n",
       "      <th>2</th>\n",
       "      <td>0</td>\n",
       "      <td>90.0</td>\n",
       "    </tr>\n",
       "    <tr>\n",
       "      <th>3</th>\n",
       "      <td>1</td>\n",
       "      <td>70.0</td>\n",
       "    </tr>\n",
       "    <tr>\n",
       "      <th>4</th>\n",
       "      <td>1</td>\n",
       "      <td>70.0</td>\n",
       "    </tr>\n",
       "  </tbody>\n",
       "</table>\n",
       "</div>"
      ],
      "text/plain": [
       "   MOVEMENT  DECADE\n",
       "0         0     NaN\n",
       "1         1    90.0\n",
       "2         0    90.0\n",
       "3         1    70.0\n",
       "4         1    70.0"
      ]
     },
     "execution_count": 24,
     "metadata": {},
     "output_type": "execute_result"
    }
   ],
   "source": [
    "# Investigate \"PRAEGENDE_JUGENDJAHRE\" and engineer two new variables.\n",
    "\"\"\"### 1.18. PRAEGENDE_JUGENDJAHRE\n",
    "Dominating movement of person's youth (avantgarde vs. mainstream; east vs. west)\n",
    "- -1: unknown\n",
    "-  0: unknown\n",
    "-  1: 40s - war years (Mainstream, E+W)\n",
    "-  2: 40s - reconstruction years (Avantgarde, E+W)\n",
    "-  3: 50s - economic miracle (Mainstream, E+W)\n",
    "-  4: 50s - milk bar / Individualisation (Avantgarde, E+W)\n",
    "-  5: 60s - economic miracle (Mainstream, E+W)\n",
    "-  6: 60s - generation 68 / student protestors (Avantgarde, W)\n",
    "-  7: 60s - opponents to the building of the Wall (Avantgarde, E)\n",
    "-  8: 70s - family orientation (Mainstream, E+W)\n",
    "-  9: 70s - peace movement (Avantgarde, E+W)\n",
    "- 10: 80s - Generation Golf (Mainstream, W)\n",
    "- 11: 80s - ecological awareness (Avantgarde, W)\n",
    "- 12: 80s - FDJ / communist party youth organisation (Mainstream, E)\n",
    "- 13: 80s - Swords into ploughshares (Avantgarde, E)\n",
    "- 14: 90s - digital media kids (Mainstream, E+W)\n",
    "- 15: 90s - ecological awareness (Avantgarde, E+W)\"\"\"\n",
    "# azdias[\"PRAEGENDE_JUGENDJAHRE\"] = azdias[\"PRAEGENDE_JUGENDJAHRE\"].astype('float')\n",
    "\n",
    "decade_map = {1: 40, 2: 40, 3: 50, 4: 50, 5: 60, 6: 60, 7: 60, 8: 70, 9: 70, 10: 80, 11: 80, 12: 80, 13: 80, 14: 90, 15: 90}\n",
    "azdias[\"MOVEMENT\"] = azdias[\"PRAEGENDE_JUGENDJAHRE\"].apply(lambda x: 1 if x in [1, 3, 5, 8, 10, 12, 14] else 0)\n",
    "azdias['DECADE'] = azdias[\"PRAEGENDE_JUGENDJAHRE\"].map(decade_map)\n",
    "azdias[[\"MOVEMENT\",'DECADE']].head()"
   ]
  },
  {
   "cell_type": "code",
   "execution_count": 25,
   "metadata": {},
   "outputs": [
    {
     "data": {
      "text/html": [
       "<div>\n",
       "<style scoped>\n",
       "    .dataframe tbody tr th:only-of-type {\n",
       "        vertical-align: middle;\n",
       "    }\n",
       "\n",
       "    .dataframe tbody tr th {\n",
       "        vertical-align: top;\n",
       "    }\n",
       "\n",
       "    .dataframe thead th {\n",
       "        text-align: right;\n",
       "    }\n",
       "</style>\n",
       "<table border=\"1\" class=\"dataframe\">\n",
       "  <thead>\n",
       "    <tr style=\"text-align: right;\">\n",
       "      <th></th>\n",
       "      <th>WEALTH</th>\n",
       "      <th>LIEF_STAGE</th>\n",
       "    </tr>\n",
       "  </thead>\n",
       "  <tbody>\n",
       "    <tr>\n",
       "      <th>0</th>\n",
       "      <td>NaN</td>\n",
       "      <td>NaN</td>\n",
       "    </tr>\n",
       "    <tr>\n",
       "      <th>1</th>\n",
       "      <td>5.0</td>\n",
       "      <td>1.0</td>\n",
       "    </tr>\n",
       "    <tr>\n",
       "      <th>2</th>\n",
       "      <td>2.0</td>\n",
       "      <td>4.0</td>\n",
       "    </tr>\n",
       "    <tr>\n",
       "      <th>3</th>\n",
       "      <td>1.0</td>\n",
       "      <td>2.0</td>\n",
       "    </tr>\n",
       "    <tr>\n",
       "      <th>4</th>\n",
       "      <td>4.0</td>\n",
       "      <td>3.0</td>\n",
       "    </tr>\n",
       "  </tbody>\n",
       "</table>\n",
       "</div>"
      ],
      "text/plain": [
       "   WEALTH  LIEF_STAGE\n",
       "0     NaN         NaN\n",
       "1     5.0         1.0\n",
       "2     2.0         4.0\n",
       "3     1.0         2.0\n",
       "4     4.0         3.0"
      ]
     },
     "execution_count": 25,
     "metadata": {},
     "output_type": "execute_result"
    }
   ],
   "source": [
    "# Investigate \"CAMEO_INTL_2015\" and engineer two new variables.\n",
    "\"\"\"### 4.3. CAMEO_INTL_2015\n",
    "German CAMEO: Wealth / Life Stage Typology, mapped to international code\n",
    "- -1: unknown\n",
    "- 11: Wealthy Households - Pre-Family Couples & Singles\n",
    "- 12: Wealthy Households - Young Couples With Children\n",
    "- 13: Wealthy Households - Families With School Age Children\n",
    "- 14: Wealthy Households - Older Families &  Mature Couples\n",
    "- 15: Wealthy Households - Elders In Retirement\n",
    "- 21: Prosperous Households - Pre-Family Couples & Singles\n",
    "- 22: Prosperous Households - Young Couples With Children\n",
    "- 23: Prosperous Households - Families With School Age Children\n",
    "- 24: Prosperous Households - Older Families & Mature Couples\n",
    "- 25: Prosperous Households - Elders In Retirement\n",
    "- 31: Comfortable Households - Pre-Family Couples & Singles\n",
    "- 32: Comfortable Households - Young Couples With Children\n",
    "- 33: Comfortable Households - Families With School Age Children\n",
    "- 34: Comfortable Households - Older Families & Mature Couples\n",
    "- 35: Comfortable Households - Elders In Retirement\n",
    "- 41: Less Affluent Households - Pre-Family Couples & Singles\n",
    "- 42: Less Affluent Households - Young Couples With Children\n",
    "- 43: Less Affluent Households - Families With School Age Children\n",
    "- 44: Less Affluent Households - Older Families & Mature Couples\n",
    "- 45: Less Affluent Households - Elders In Retirement\n",
    "- 51: Poorer Households - Pre-Family Couples & Singles\n",
    "- 52: Poorer Households - Young Couples With Children\n",
    "- 53: Poorer Households - Families With School Age Children\n",
    "- 54: Poorer Households - Older Families & Mature Couples\n",
    "- 55: Poorer Households - Elders In Retirement\n",
    "- XX: unknown\"\"\"\n",
    "azdias[\"CAMEO_INTL_2015\"] = azdias[\"CAMEO_INTL_2015\"].astype(float)\n",
    "azdias[\"WEALTH\"] = azdias[\"CAMEO_INTL_2015\"].apply(lambda x: x//10)\n",
    "azdias[\"LIEF_STAGE\"] = azdias[\"CAMEO_INTL_2015\"].apply(lambda x: x%10)\n",
    "azdias[[\"WEALTH\", \"LIEF_STAGE\"]].head()"
   ]
  },
  {
   "cell_type": "code",
   "execution_count": 26,
   "metadata": {},
   "outputs": [],
   "source": [
    "azdias = azdias.drop([\"PRAEGENDE_JUGENDJAHRE\", \"CAMEO_INTL_2015\"], axis =1)"
   ]
  },
  {
   "cell_type": "markdown",
   "metadata": {},
   "source": [
    "#### Discussion 1.2.2: Engineer Mixed-Type Features\n",
    "\n",
    "I splited the \"PRAEGENDE_JUGENDJAHRE\" column into two columns: \"MOVEMENT\",'DECADE'. \n",
    "I splited the \"CAMEO_INTL_2015\" into two columns: \"WEALTH\", \"LIEF_STAGE\". \n",
    "Then I dropped \"PRAEGENDE_JUGENDJAHRE\" and \"CAMEO_INTL_2015\". "
   ]
  },
  {
   "cell_type": "markdown",
   "metadata": {},
   "source": [
    "#### Step 1.2.3: Complete Feature Selection"
   ]
  },
  {
   "cell_type": "code",
   "execution_count": 27,
   "metadata": {},
   "outputs": [
    {
     "data": {
      "text/plain": [
       "(891221, 167)"
      ]
     },
     "execution_count": 27,
     "metadata": {},
     "output_type": "execute_result"
    }
   ],
   "source": [
    "azdias.shape"
   ]
  },
  {
   "cell_type": "code",
   "execution_count": 28,
   "metadata": {},
   "outputs": [
    {
     "data": {
      "text/plain": [
       "{'AGER_TYP_2.0',\n",
       " 'AGER_TYP_3.0',\n",
       " 'AGER_TYP_nan',\n",
       " 'CAMEO_DEUG_2015_2',\n",
       " 'CAMEO_DEUG_2015_3',\n",
       " 'CAMEO_DEUG_2015_4',\n",
       " 'CAMEO_DEUG_2015_5',\n",
       " 'CAMEO_DEUG_2015_6',\n",
       " 'CAMEO_DEUG_2015_7',\n",
       " 'CAMEO_DEUG_2015_8',\n",
       " 'CAMEO_DEUG_2015_9',\n",
       " 'CAMEO_DEUG_2015_nan',\n",
       " 'CJT_GESAMTTYP_2.0',\n",
       " 'CJT_GESAMTTYP_3.0',\n",
       " 'CJT_GESAMTTYP_4.0',\n",
       " 'CJT_GESAMTTYP_5.0',\n",
       " 'CJT_GESAMTTYP_6.0',\n",
       " 'CJT_GESAMTTYP_nan',\n",
       " 'DECADE',\n",
       " 'FINANZTYP_2',\n",
       " 'FINANZTYP_3',\n",
       " 'FINANZTYP_4',\n",
       " 'FINANZTYP_5',\n",
       " 'FINANZTYP_6',\n",
       " 'GEBAEUDETYP_2.0',\n",
       " 'GEBAEUDETYP_3.0',\n",
       " 'GEBAEUDETYP_4.0',\n",
       " 'GEBAEUDETYP_5.0',\n",
       " 'GEBAEUDETYP_6.0',\n",
       " 'GEBAEUDETYP_8.0',\n",
       " 'GEBAEUDETYP_nan',\n",
       " 'GFK_URLAUBERTYP_10.0',\n",
       " 'GFK_URLAUBERTYP_11.0',\n",
       " 'GFK_URLAUBERTYP_12.0',\n",
       " 'GFK_URLAUBERTYP_2.0',\n",
       " 'GFK_URLAUBERTYP_3.0',\n",
       " 'GFK_URLAUBERTYP_4.0',\n",
       " 'GFK_URLAUBERTYP_5.0',\n",
       " 'GFK_URLAUBERTYP_6.0',\n",
       " 'GFK_URLAUBERTYP_7.0',\n",
       " 'GFK_URLAUBERTYP_8.0',\n",
       " 'GFK_URLAUBERTYP_9.0',\n",
       " 'GFK_URLAUBERTYP_nan',\n",
       " 'KK_KUNDENTYP_2.0',\n",
       " 'KK_KUNDENTYP_3.0',\n",
       " 'KK_KUNDENTYP_4.0',\n",
       " 'KK_KUNDENTYP_5.0',\n",
       " 'KK_KUNDENTYP_6.0',\n",
       " 'KK_KUNDENTYP_nan',\n",
       " 'LIEF_STAGE',\n",
       " 'LP_FAMILIE_FEIN_10.0',\n",
       " 'LP_FAMILIE_FEIN_11.0',\n",
       " 'LP_FAMILIE_FEIN_2.0',\n",
       " 'LP_FAMILIE_FEIN_3.0',\n",
       " 'LP_FAMILIE_FEIN_4.0',\n",
       " 'LP_FAMILIE_FEIN_5.0',\n",
       " 'LP_FAMILIE_FEIN_6.0',\n",
       " 'LP_FAMILIE_FEIN_7.0',\n",
       " 'LP_FAMILIE_FEIN_8.0',\n",
       " 'LP_FAMILIE_FEIN_9.0',\n",
       " 'LP_FAMILIE_FEIN_nan',\n",
       " 'LP_FAMILIE_GROB_2.0',\n",
       " 'LP_FAMILIE_GROB_3.0',\n",
       " 'LP_FAMILIE_GROB_4.0',\n",
       " 'LP_FAMILIE_GROB_5.0',\n",
       " 'LP_FAMILIE_GROB_nan',\n",
       " 'LP_STATUS_FEIN_10.0',\n",
       " 'LP_STATUS_FEIN_2.0',\n",
       " 'LP_STATUS_FEIN_3.0',\n",
       " 'LP_STATUS_FEIN_4.0',\n",
       " 'LP_STATUS_FEIN_5.0',\n",
       " 'LP_STATUS_FEIN_6.0',\n",
       " 'LP_STATUS_FEIN_7.0',\n",
       " 'LP_STATUS_FEIN_8.0',\n",
       " 'LP_STATUS_FEIN_9.0',\n",
       " 'LP_STATUS_FEIN_nan',\n",
       " 'LP_STATUS_GROB_2.0',\n",
       " 'LP_STATUS_GROB_3.0',\n",
       " 'LP_STATUS_GROB_4.0',\n",
       " 'LP_STATUS_GROB_5.0',\n",
       " 'LP_STATUS_GROB_nan',\n",
       " 'MOVEMENT',\n",
       " 'NATIONALITAET_KZ_2.0',\n",
       " 'NATIONALITAET_KZ_3.0',\n",
       " 'NATIONALITAET_KZ_nan',\n",
       " 'SHOPPER_TYP_1.0',\n",
       " 'SHOPPER_TYP_2.0',\n",
       " 'SHOPPER_TYP_3.0',\n",
       " 'SHOPPER_TYP_nan',\n",
       " 'TITEL_KZ_2.0',\n",
       " 'TITEL_KZ_3.0',\n",
       " 'TITEL_KZ_4.0',\n",
       " 'TITEL_KZ_5.0',\n",
       " 'TITEL_KZ_nan',\n",
       " 'WEALTH',\n",
       " 'ZABEOTYP_2',\n",
       " 'ZABEOTYP_3',\n",
       " 'ZABEOTYP_4',\n",
       " 'ZABEOTYP_5',\n",
       " 'ZABEOTYP_6'}"
      ]
     },
     "execution_count": 28,
     "metadata": {},
     "output_type": "execute_result"
    }
   ],
   "source": [
    "new_columns = set(azdias.columns)\n",
    "\n",
    "new_columns.difference(original_columns)"
   ]
  },
  {
   "cell_type": "markdown",
   "metadata": {},
   "source": [
    "### Step 1.3: Create a Cleaning Function\n",
    "\n",
    "I created the function below to execute the main feature selection, encoding, and re-engineering steps performed above. So that I can just run this function on the DataFrame to get the trimmed dataset in a single step."
   ]
  },
  {
   "cell_type": "code",
   "execution_count": 29,
   "metadata": {},
   "outputs": [],
   "source": [
    "def clean_data(df):\n",
    "    \"\"\"\n",
    "    Perform feature trimming, re-encoding, and engineering for demographics\n",
    "    data\n",
    "    \n",
    "    INPUT: Demographics DataFrame\n",
    "    OUTPUT: Trimmed and cleaned demographics DataFrame\n",
    "    \"\"\"\n",
    "    feat_info = pd.read_csv('AZDIAS_Feature_Summary.csv', sep = ';')\n",
    "    \n",
    "    # Identify missing or unknown data values and convert them to NaNs.\n",
    "    non_numerical = [c for c in df.columns if df[c].dtypes == 'object']\n",
    "    for c in non_numerical:\n",
    "        df[c] = df[c].replace(['XX', 'X'], np.nan)  \n",
    "\n",
    "    numerical = [ c for c in df.columns if c not in non_numerical]\n",
    "    for c in numerical:\n",
    "        missing_or_unknown = feat_info[feat_info.attribute == c].missing_or_unknown.values[0]\n",
    "        if missing_or_unknown != '[]': \n",
    "            nan = [int(i) for i in missing_or_unknown.strip('[]').split(',')]\n",
    "            df[c] = df[c].replace(nan, np.nan)\n",
    "\n",
    "    # Drop columns with more than 20% of data missing\n",
    "#     perc_missing = df.isnull().mean().sort_values(ascending = False)\n",
    "\n",
    "#     columns_to_drop = perc_missing[perc_missing > 0.2].index\n",
    "\n",
    "#     df =  df.drop(columns_to_drop, axis = 1)\n",
    "\n",
    "    # Assess categorical variables: which are binary, which are multi-level, and\n",
    "    # which one needs to be re-encoded?\n",
    "    categorical = [c for c in feat_info[feat_info.type == 'categorical'].attribute.values] # if c not in columns_to_drop]\n",
    "    levels = [len(df[c].value_counts()) for c in categorical]        \n",
    "\n",
    "    categorical_level_df = pd.DataFrame(np.array([categorical, levels]).T, columns = ['categorical', 'levels'])\n",
    "    categorical_level_df = categorical_level_df.set_index('categorical')\n",
    "    categorical_level_df['levels'] = categorical_level_df['levels'].astype(int)\n",
    "    categorical_level_df = categorical_level_df.sort_values('levels')\n",
    "\n",
    "#     binary = categorical_level_df[categorical_level_df.levels == 2].index\n",
    "\n",
    "    # Re-encode the binary categories\n",
    "    df['OST_WEST_KZ'] = df['OST_WEST_KZ'].apply(lambda x: 1 if x == 'W' else 0)\n",
    "    df['ANREDE_KZ'] = df['ANREDE_KZ'].apply(lambda x: 1 if x == 2 else 0)\n",
    "    df['VERS_TYP'] = df['VERS_TYP'].apply(lambda x: 1 if x == 2 else 0)\n",
    "\n",
    "    multi = categorical_level_df[(categorical_level_df.levels >2) & (categorical_level_df.levels <44)].index\n",
    "    columns_to_drop = categorical_level_df[categorical_level_df.levels >2].index\n",
    "\n",
    "    # Re-encode multi-level categorical variable(s) to be kept in the analysis.\n",
    "    df[multi] = df[multi].astype('str')\n",
    "    ohc = pd.get_dummies(df[multi], drop_first = True)\n",
    "    df = df.drop(columns_to_drop, axis = 1)\n",
    "    df = pd.concat([df, ohc], axis = 1)\n",
    "\n",
    "    # Investigate \"PRAEGENDE_JUGENDJAHRE\" and engineer two new variables.\n",
    "    decade_map = {1: 40, 2: 40, 3: 50, 4: 50, 5: 60, 6: 60, 7: 60, 8: 70, 9: 70, 10: 80, 11: 80, 12: 80, 13: 80, 14: 90, 15: 90}\n",
    "    df[\"MOVEMENT\"] = df[\"PRAEGENDE_JUGENDJAHRE\"].apply(lambda x: 1 if x in [1, 3, 5, 8, 10, 12, 14] else 0)\n",
    "    df['DECADE'] = df[\"PRAEGENDE_JUGENDJAHRE\"].map(decade_map)\n",
    "\n",
    "    # Investigate \"CAMEO_INTL_2015\" and engineer two new variables.\n",
    "    df[\"CAMEO_INTL_2015\"] = df[\"CAMEO_INTL_2015\"].astype(float)\n",
    "    df[\"WEALTH\"] = df[\"CAMEO_INTL_2015\"].apply(lambda x: x//10)\n",
    "    df[\"LIEF_STAGE\"] = df[\"CAMEO_INTL_2015\"].apply(lambda x: x%10)\n",
    "    return df\n",
    "    "
   ]
  },
  {
   "cell_type": "markdown",
   "metadata": {},
   "source": [
    "## Step 2: Feature Transformation\n",
    "\n",
    "### Step 2.1: Apply Feature Scaling\n",
    "\n",
    "Before applying dimensionality reduction techniques to the data, i performed feature scaling so that the principal component vectors are not influenced by the natural differences in scale for features. \n",
    "\n",
    "- sklearn requires that data not have missing values in order for its estimators to work properly. So, before applying the scaler, I removed all data points with missing data by applying an [Imputer](http://scikit-learn.org/stable/modules/generated/sklearn.preprocessing.Imputer.html).\n",
    "- For the actual scaling function, I scaled each feature to mean 0 and standard deviation 1 by applying a [StandardScaler](http://scikit-learn.org/stable/modules/generated/sklearn.preprocessing.StandardScaler.html)."
   ]
  },
  {
   "cell_type": "code",
   "execution_count": 30,
   "metadata": {},
   "outputs": [],
   "source": [
    "# Apply Imputer\n",
    "\n",
    "imputer = Imputer()\n",
    "imputed_azdias = imputer.fit_transform(azdias)"
   ]
  },
  {
   "cell_type": "code",
   "execution_count": 31,
   "metadata": {},
   "outputs": [],
   "source": [
    "# Apply feature scaling to the general population demographics data.\n",
    "\n",
    "scaler = StandardScaler()\n",
    "scaled_azdias = scaler.fit_transform(imputed_azdias)"
   ]
  },
  {
   "cell_type": "markdown",
   "metadata": {},
   "source": [
    "### Discussion 2.1: Apply Feature Scaling\n",
    "\n",
    "I used the Imputer to replace the missing values with the mean of the column, and then used the Standard Scaler to scale the data. "
   ]
  },
  {
   "cell_type": "markdown",
   "metadata": {},
   "source": [
    "### Step 2.2: Perform Dimensionality Reduction\n",
    "\n",
    "On the scaled data, I applied dimensionality reduction techniques.\n",
    "\n",
    "- I used sklearn's [PCA](http://scikit-learn.org/stable/modules/generated/sklearn.decomposition.PCA.html) class to apply principal component analysis on the data, thus finding the vectors of maximal variance in the data.\n",
    "- I examined the ratio of variance explained by each principal component as well as the cumulative variance explained. I also plotted the cumulative or sequential values using matplotlib's [`plot()`](https://matplotlib.org/api/_as_gen/matplotlib.pyplot.plot.html) function. Based on the plot, I selected the number of transformed features to be retained for the clustering.\n",
    "- I re-fit a PCA instance to perform the decided-on transformation."
   ]
  },
  {
   "cell_type": "code",
   "execution_count": 32,
   "metadata": {},
   "outputs": [
    {
     "data": {
      "text/plain": [
       "array([[  1.23558491e+00,  -2.09725287e+00,   5.72701438e+00, ...,\n",
       "          1.71462751e-15,  -2.68132118e-15,   1.44832777e-15],\n",
       "       [  5.03773144e+00,  -2.75624560e+00,  -2.14043427e+00, ...,\n",
       "         -1.69282648e-15,   3.49986792e-16,  -6.94285892e-16],\n",
       "       [  2.11034638e-01,  -7.51995749e-01,   5.80296273e-01, ...,\n",
       "          8.15835395e-15,   1.12632793e-15,   5.47732304e-15],\n",
       "       ..., \n",
       "       [ -3.52912618e-01,  -3.98368362e+00,   3.98083735e-01, ...,\n",
       "          1.38950926e-16,  -5.24134864e-16,  -5.97550545e-17],\n",
       "       [  6.40775896e+00,  -2.23783552e+00,  -4.38762339e+00, ...,\n",
       "          1.77413766e-17,  -3.22828244e-17,   1.20860045e-17],\n",
       "       [ -2.11313591e-01,   2.46759370e+00,  -1.16881785e+00, ...,\n",
       "         -1.42492399e-17,   4.66806321e-17,  -1.16559204e-18]])"
      ]
     },
     "execution_count": 32,
     "metadata": {},
     "output_type": "execute_result"
    }
   ],
   "source": [
    "# Apply PCA to the data.\n",
    "pca = PCA()\n",
    "\n",
    "pca.fit_transform(scaled_azdias)"
   ]
  },
  {
   "cell_type": "code",
   "execution_count": 33,
   "metadata": {},
   "outputs": [
    {
     "data": {
      "text/plain": [
       "array([ 0.08623763,  0.15682031,  0.20873853,  0.2435088 ,  0.27497149,\n",
       "        0.2999929 ,  0.32295881,  0.34032191,  0.35686797,  0.37170103,\n",
       "        0.38573944,  0.39927252,  0.41255957,  0.42513252,  0.43745372,\n",
       "        0.4492379 ,  0.46084855,  0.47181885,  0.48276292,  0.49275682,\n",
       "        0.50201046,  0.5109419 ,  0.51980793,  0.52811324,  0.53631382,\n",
       "        0.54431098,  0.55203334,  0.55961192,  0.56708808,  0.57446708,\n",
       "        0.58176177,  0.58891662,  0.59599135,  0.60297875,  0.60988442,\n",
       "        0.61664579,  0.62334001,  0.62997361,  0.63654772,  0.64310967,\n",
       "        0.64956037,  0.65599876,  0.66240219,  0.66878199,  0.67510207,\n",
       "        0.6814211 ,  0.68770206,  0.69394815,  0.70019035,  0.70637728,\n",
       "        0.7125503 ,  0.7186795 ,  0.72478084,  0.7308507 ,  0.73687755,\n",
       "        0.74289263,  0.74890133,  0.7549015 ,  0.76089298,  0.76688098,\n",
       "        0.77286516,  0.7788397 ,  0.78479565,  0.79069397,  0.79650814,\n",
       "        0.80226276])"
      ]
     },
     "execution_count": 33,
     "metadata": {},
     "output_type": "execute_result"
    }
   ],
   "source": [
    "pca.explained_variance_ratio_.cumsum()[:66]"
   ]
  },
  {
   "cell_type": "code",
   "execution_count": 34,
   "metadata": {},
   "outputs": [
    {
     "data": {
      "text/plain": [
       "[<matplotlib.lines.Line2D at 0x7fb2e0e9d780>]"
      ]
     },
     "execution_count": 34,
     "metadata": {},
     "output_type": "execute_result"
    },
    {
     "data": {
      "image/png": "[encoded data removed]",
      "text/plain": [
       "<matplotlib.figure.Figure at 0x7fb2845504a8>"
      ]
     },
     "metadata": {
      "needs_background": "light"
     },
     "output_type": "display_data"
    }
   ],
   "source": [
    "# Investigate the variance accounted for by each principal component.\n",
    "\n",
    "plt.plot(pca.explained_variance_ratio_.cumsum())"
   ]
  },
  {
   "cell_type": "code",
   "execution_count": 35,
   "metadata": {},
   "outputs": [],
   "source": [
    "# Re-apply PCA to the data while selecting for number of components to retain.\n",
    "pca = PCA(n_components = 66)\n",
    "pc = pca.fit_transform(scaled_azdias)"
   ]
  },
  {
   "cell_type": "markdown",
   "metadata": {},
   "source": [
    "### Discussion 2.2: Perform Dimensionality Reduction\n",
    "\n",
    "I retained 66 principal componentsare for the next step of the analysis. They contributed to 80% of the variability. "
   ]
  },
  {
   "cell_type": "markdown",
   "metadata": {},
   "source": [
    "### Step 2.3: Interpret Principal Components\n",
    "\n",
    "After obtaining the transformed principal components, I examined the weight of each variable on the first few components to see if they can be interpreted in some fashion.\n",
    "\n",
    "Each principal component is a unit vector that points in the direction of highest variance (after accounting for the variance captured by earlier principal components). The further a weight is from zero, the more the principal component is in the direction of the corresponding feature. If two features have large weights of the same sign (both positive or both negative), then increases in one tend expect to be associated with increases in the other. To contrast, features with different signs can be expected to show a negative correlation: increases in one variable should result in a decrease in the other.\n",
    "\n",
    "To investigate the features, I mapped each weight to their corresponding feature name, then sort the features according to weight. The most interesting features for each principal component are those at the beginning and end of the sorted list. I used the data dictionary document to understand these most prominent features, their relationships, and what a positive or negative value on the principal component might indicate."
   ]
  },
  {
   "cell_type": "code",
   "execution_count": 36,
   "metadata": {},
   "outputs": [
    {
     "data": {
      "text/html": [
       "<div>\n",
       "<style scoped>\n",
       "    .dataframe tbody tr th:only-of-type {\n",
       "        vertical-align: middle;\n",
       "    }\n",
       "\n",
       "    .dataframe tbody tr th {\n",
       "        vertical-align: top;\n",
       "    }\n",
       "\n",
       "    .dataframe thead th {\n",
       "        text-align: right;\n",
       "    }\n",
       "</style>\n",
       "<table border=\"1\" class=\"dataframe\">\n",
       "  <thead>\n",
       "    <tr style=\"text-align: right;\">\n",
       "      <th></th>\n",
       "      <th>ALTERSKATEGORIE_GROB</th>\n",
       "      <th>ANREDE_KZ</th>\n",
       "      <th>FINANZ_MINIMALIST</th>\n",
       "      <th>FINANZ_SPARER</th>\n",
       "      <th>FINANZ_VORSORGER</th>\n",
       "      <th>FINANZ_ANLEGER</th>\n",
       "      <th>FINANZ_UNAUFFAELLIGER</th>\n",
       "      <th>FINANZ_HAUSBAUER</th>\n",
       "      <th>GEBURTSJAHR</th>\n",
       "      <th>GREEN_AVANTGARDE</th>\n",
       "      <th>...</th>\n",
       "      <th>GFK_URLAUBERTYP_5.0</th>\n",
       "      <th>GFK_URLAUBERTYP_6.0</th>\n",
       "      <th>GFK_URLAUBERTYP_7.0</th>\n",
       "      <th>GFK_URLAUBERTYP_8.0</th>\n",
       "      <th>GFK_URLAUBERTYP_9.0</th>\n",
       "      <th>GFK_URLAUBERTYP_nan</th>\n",
       "      <th>MOVEMENT</th>\n",
       "      <th>DECADE</th>\n",
       "      <th>WEALTH</th>\n",
       "      <th>LIEF_STAGE</th>\n",
       "    </tr>\n",
       "  </thead>\n",
       "  <tbody>\n",
       "    <tr>\n",
       "      <th>0</th>\n",
       "      <td>-0.105449</td>\n",
       "      <td>0.011277</td>\n",
       "      <td>-0.196897</td>\n",
       "      <td>0.139956</td>\n",
       "      <td>-0.109503</td>\n",
       "      <td>0.079381</td>\n",
       "      <td>0.080537</td>\n",
       "      <td>0.136880</td>\n",
       "      <td>0.082031</td>\n",
       "      <td>-0.096958</td>\n",
       "      <td>...</td>\n",
       "      <td>-0.003441</td>\n",
       "      <td>-0.030789</td>\n",
       "      <td>-0.044693</td>\n",
       "      <td>0.000557</td>\n",
       "      <td>0.000518</td>\n",
       "      <td>-0.002440</td>\n",
       "      <td>0.053262</td>\n",
       "      <td>0.097653</td>\n",
       "      <td>0.175366</td>\n",
       "      <td>-0.108382</td>\n",
       "    </tr>\n",
       "    <tr>\n",
       "      <th>1</th>\n",
       "      <td>0.196576</td>\n",
       "      <td>0.005612</td>\n",
       "      <td>0.060064</td>\n",
       "      <td>-0.211319</td>\n",
       "      <td>0.201272</td>\n",
       "      <td>-0.212870</td>\n",
       "      <td>-0.213875</td>\n",
       "      <td>0.106580</td>\n",
       "      <td>-0.177307</td>\n",
       "      <td>-0.002239</td>\n",
       "      <td>...</td>\n",
       "      <td>-0.036715</td>\n",
       "      <td>0.016519</td>\n",
       "      <td>0.038360</td>\n",
       "      <td>0.028231</td>\n",
       "      <td>-0.061302</td>\n",
       "      <td>0.002423</td>\n",
       "      <td>0.056516</td>\n",
       "      <td>-0.213994</td>\n",
       "      <td>0.080033</td>\n",
       "      <td>-0.010195</td>\n",
       "    </tr>\n",
       "    <tr>\n",
       "      <th>2</th>\n",
       "      <td>0.060882</td>\n",
       "      <td>0.120203</td>\n",
       "      <td>0.009316</td>\n",
       "      <td>-0.013840</td>\n",
       "      <td>0.054931</td>\n",
       "      <td>0.070753</td>\n",
       "      <td>0.064778</td>\n",
       "      <td>0.039694</td>\n",
       "      <td>-0.076983</td>\n",
       "      <td>-0.035188</td>\n",
       "      <td>...</td>\n",
       "      <td>0.164443</td>\n",
       "      <td>-0.000398</td>\n",
       "      <td>0.011706</td>\n",
       "      <td>-0.017141</td>\n",
       "      <td>-0.042614</td>\n",
       "      <td>0.013793</td>\n",
       "      <td>-0.143603</td>\n",
       "      <td>-0.098474</td>\n",
       "      <td>-0.012593</td>\n",
       "      <td>0.028382</td>\n",
       "    </tr>\n",
       "    <tr>\n",
       "      <th>3</th>\n",
       "      <td>0.003342</td>\n",
       "      <td>-0.335584</td>\n",
       "      <td>0.139396</td>\n",
       "      <td>-0.029402</td>\n",
       "      <td>0.039541</td>\n",
       "      <td>-0.096844</td>\n",
       "      <td>0.023151</td>\n",
       "      <td>-0.069519</td>\n",
       "      <td>-0.054307</td>\n",
       "      <td>0.076533</td>\n",
       "      <td>...</td>\n",
       "      <td>0.084501</td>\n",
       "      <td>0.005995</td>\n",
       "      <td>0.004759</td>\n",
       "      <td>-0.003597</td>\n",
       "      <td>-0.043492</td>\n",
       "      <td>0.034402</td>\n",
       "      <td>-0.132471</td>\n",
       "      <td>-0.063645</td>\n",
       "      <td>-0.010692</td>\n",
       "      <td>0.005251</td>\n",
       "    </tr>\n",
       "    <tr>\n",
       "      <th>4</th>\n",
       "      <td>0.004727</td>\n",
       "      <td>0.055418</td>\n",
       "      <td>0.027183</td>\n",
       "      <td>-0.007716</td>\n",
       "      <td>0.006488</td>\n",
       "      <td>-0.056108</td>\n",
       "      <td>0.025488</td>\n",
       "      <td>-0.037757</td>\n",
       "      <td>0.010547</td>\n",
       "      <td>0.240787</td>\n",
       "      <td>...</td>\n",
       "      <td>0.007783</td>\n",
       "      <td>-0.014182</td>\n",
       "      <td>-0.013686</td>\n",
       "      <td>0.043623</td>\n",
       "      <td>0.025917</td>\n",
       "      <td>-0.017446</td>\n",
       "      <td>-0.217436</td>\n",
       "      <td>0.012136</td>\n",
       "      <td>-0.031444</td>\n",
       "      <td>0.014599</td>\n",
       "    </tr>\n",
       "  </tbody>\n",
       "</table>\n",
       "<p>5 rows × 167 columns</p>\n",
       "</div>"
      ],
      "text/plain": [
       "   ALTERSKATEGORIE_GROB  ANREDE_KZ  FINANZ_MINIMALIST  FINANZ_SPARER  \\\n",
       "0             -0.105449   0.011277          -0.196897       0.139956   \n",
       "1              0.196576   0.005612           0.060064      -0.211319   \n",
       "2              0.060882   0.120203           0.009316      -0.013840   \n",
       "3              0.003342  -0.335584           0.139396      -0.029402   \n",
       "4              0.004727   0.055418           0.027183      -0.007716   \n",
       "\n",
       "   FINANZ_VORSORGER  FINANZ_ANLEGER  FINANZ_UNAUFFAELLIGER  FINANZ_HAUSBAUER  \\\n",
       "0         -0.109503        0.079381               0.080537          0.136880   \n",
       "1          0.201272       -0.212870              -0.213875          0.106580   \n",
       "2          0.054931        0.070753               0.064778          0.039694   \n",
       "3          0.039541       -0.096844               0.023151         -0.069519   \n",
       "4          0.006488       -0.056108               0.025488         -0.037757   \n",
       "\n",
       "   GEBURTSJAHR  GREEN_AVANTGARDE     ...      GFK_URLAUBERTYP_5.0  \\\n",
       "0     0.082031         -0.096958     ...                -0.003441   \n",
       "1    -0.177307         -0.002239     ...                -0.036715   \n",
       "2    -0.076983         -0.035188     ...                 0.164443   \n",
       "3    -0.054307          0.076533     ...                 0.084501   \n",
       "4     0.010547          0.240787     ...                 0.007783   \n",
       "\n",
       "   GFK_URLAUBERTYP_6.0  GFK_URLAUBERTYP_7.0  GFK_URLAUBERTYP_8.0  \\\n",
       "0            -0.030789            -0.044693             0.000557   \n",
       "1             0.016519             0.038360             0.028231   \n",
       "2            -0.000398             0.011706            -0.017141   \n",
       "3             0.005995             0.004759            -0.003597   \n",
       "4            -0.014182            -0.013686             0.043623   \n",
       "\n",
       "   GFK_URLAUBERTYP_9.0  GFK_URLAUBERTYP_nan  MOVEMENT    DECADE    WEALTH  \\\n",
       "0             0.000518            -0.002440  0.053262  0.097653  0.175366   \n",
       "1            -0.061302             0.002423  0.056516 -0.213994  0.080033   \n",
       "2            -0.042614             0.013793 -0.143603 -0.098474 -0.012593   \n",
       "3            -0.043492             0.034402 -0.132471 -0.063645 -0.010692   \n",
       "4             0.025917            -0.017446 -0.217436  0.012136 -0.031444   \n",
       "\n",
       "   LIEF_STAGE  \n",
       "0   -0.108382  \n",
       "1   -0.010195  \n",
       "2    0.028382  \n",
       "3    0.005251  \n",
       "4    0.014599  \n",
       "\n",
       "[5 rows x 167 columns]"
      ]
     },
     "execution_count": 36,
     "metadata": {},
     "output_type": "execute_result"
    }
   ],
   "source": [
    "# Map weights for the first principal component to corresponding feature names\n",
    "# and then print the linked values, sorted by weight.\n",
    "\n",
    "pca_df = pd.DataFrame(pca.components_, columns = azdias.columns)\n",
    "pca_df.head()"
   ]
  },
  {
   "cell_type": "code",
   "execution_count": 37,
   "metadata": {},
   "outputs": [
    {
     "data": {
      "text/plain": [
       "PLZ8_ANTG3               0.184234\n",
       "PLZ8_ANTG4               0.179612\n",
       "PLZ8_BAUMAX              0.176219\n",
       "WEALTH                   0.175366\n",
       "KBA05_BAUMAX             0.166579\n",
       "ORTSGR_KLS9              0.158526\n",
       "EWDICHTE                 0.156608\n",
       "HH_EINKOMMEN_SCORE       0.146163\n",
       "FINANZ_SPARER            0.139956\n",
       "FINANZ_HAUSBAUER         0.136880\n",
       "KBA05_ANTG4              0.127113\n",
       "PLZ8_ANTG2               0.125480\n",
       "LP_STATUS_FEIN_2.0       0.117451\n",
       "ARBEIT                   0.113264\n",
       "ANZ_HAUSHALTE_AKTIV      0.113249\n",
       "KBA05_ANTG3              0.112148\n",
       "RELAT_AB                 0.106972\n",
       "CAMEO_DEUG_2015_9        0.105100\n",
       "SEMIO_PFLICHT            0.104418\n",
       "SEMIO_REL                0.102870\n",
       "DECADE                   0.097653\n",
       "AGER_TYP_nan             0.086209\n",
       "SEMIO_RAT                0.085191\n",
       "CAMEO_DEUG_2015_8        0.082378\n",
       "ZABEOTYP_5               0.082077\n",
       "GEBURTSJAHR              0.082031\n",
       "FINANZ_UNAUFFAELLIGER    0.080537\n",
       "FINANZ_ANLEGER           0.079381\n",
       "SEMIO_TRADV              0.074565\n",
       "SEMIO_MAT                0.071519\n",
       "                           ...   \n",
       "SEMIO_LUST              -0.059881\n",
       "KBA13_ANZAHL_PKW        -0.061552\n",
       "WOHNLAGE                -0.065060\n",
       "CAMEO_DEUG_2015_3       -0.066348\n",
       "SEMIO_ERL               -0.070199\n",
       "LP_FAMILIE_GROB_5.0     -0.073436\n",
       "CAMEO_DEUG_2015_4       -0.073763\n",
       "ANZ_PERSONEN            -0.084673\n",
       "CAMEO_DEUG_2015_2       -0.086973\n",
       "FINANZTYP_2             -0.091926\n",
       "GREEN_AVANTGARDE        -0.096958\n",
       "BALLRAUM                -0.100173\n",
       "GEBAEUDETYP_RASTER      -0.100378\n",
       "ALTERSKATEGORIE_GROB    -0.105449\n",
       "LIEF_STAGE              -0.108382\n",
       "FINANZ_VORSORGER        -0.109503\n",
       "LP_STATUS_GROB_5.0      -0.110748\n",
       "LP_STATUS_FEIN_10.0     -0.110748\n",
       "LP_STATUS_FEIN_9.0      -0.114736\n",
       "LP_STATUS_GROB_4.0      -0.115441\n",
       "LP_LEBENSPHASE_GROB     -0.118578\n",
       "INNENSTADT              -0.131097\n",
       "LP_LEBENSPHASE_FEIN     -0.132256\n",
       "PLZ8_GBZ                -0.135002\n",
       "KONSUMNAEHE             -0.138005\n",
       "KBA05_GBZ               -0.179269\n",
       "PLZ8_ANTG1              -0.184917\n",
       "KBA05_ANTG1             -0.190679\n",
       "FINANZ_MINIMALIST       -0.196897\n",
       "MOBI_REGIO              -0.202390\n",
       "Name: 0, Length: 167, dtype: float64"
      ]
     },
     "execution_count": 37,
     "metadata": {},
     "output_type": "execute_result"
    }
   ],
   "source": [
    "def feature_and_weight(pc):\n",
    "    return pca_df.iloc[pc-1].sort_values(ascending = False)\n",
    "feature_and_weight(1)"
   ]
  },
  {
   "cell_type": "code",
   "execution_count": 38,
   "metadata": {},
   "outputs": [
    {
     "data": {
      "text/plain": [
       "FINANZ_VORSORGER         0.201272\n",
       "ALTERSKATEGORIE_GROB     0.196576\n",
       "SEMIO_ERL                0.150140\n",
       "RETOURTYP_BK_S           0.145810\n",
       "W_KEIT_KIND_HH           0.131538\n",
       "AGER_TYP_2.0             0.126191\n",
       "SEMIO_LUST               0.126131\n",
       "ZABEOTYP_3               0.121076\n",
       "FINANZTYP_5              0.112001\n",
       "FINANZ_HAUSBAUER         0.106580\n",
       "CJT_GESAMTTYP_2.0        0.099441\n",
       "HH_EINKOMMEN_SCORE       0.095685\n",
       "PLZ8_ANTG3               0.090851\n",
       "PLZ8_ANTG4               0.087064\n",
       "FINANZTYP_2              0.085817\n",
       "EWDICHTE                 0.085434\n",
       "ORTSGR_KLS9              0.084474\n",
       "PLZ8_BAUMAX              0.083148\n",
       "WEALTH                   0.080033\n",
       "KBA05_BAUMAX             0.074687\n",
       "FINANZTYP_6              0.068956\n",
       "SHOPPER_TYP_3.0          0.066855\n",
       "KBA05_ANTG4              0.065816\n",
       "PLZ8_ANTG2               0.063619\n",
       "ARBEIT                   0.062737\n",
       "GFK_URLAUBERTYP_4.0      0.061434\n",
       "ANZ_HAUSHALTE_AKTIV      0.061124\n",
       "RELAT_AB                 0.060657\n",
       "CAMEO_DEUG_2015_8        0.060233\n",
       "FINANZ_MINIMALIST        0.060064\n",
       "                           ...   \n",
       "KONSUMNAEHE             -0.068969\n",
       "ANZ_PERSONEN            -0.069874\n",
       "ZABEOTYP_4              -0.071541\n",
       "FINANZTYP_3             -0.071850\n",
       "CJT_GESAMTTYP_6.0       -0.077431\n",
       "KBA05_ANTG1             -0.081789\n",
       "KBA05_GBZ               -0.085726\n",
       "SHOPPER_TYP_nan         -0.088728\n",
       "NATIONALITAET_KZ_nan    -0.089409\n",
       "PLZ8_ANTG1              -0.089478\n",
       "MOBI_REGIO              -0.089916\n",
       "CAMEO_DEUG_2015_nan     -0.090599\n",
       "GEBAEUDETYP_nan         -0.091880\n",
       "SEMIO_KULT              -0.096119\n",
       "SEMIO_FAM               -0.110163\n",
       "LP_STATUS_FEIN_5.0      -0.112110\n",
       "SEMIO_MAT               -0.114384\n",
       "FINANZTYP_4             -0.126007\n",
       "ONLINE_AFFINITAET       -0.141002\n",
       "SEMIO_RAT               -0.151425\n",
       "SEMIO_TRADV             -0.158304\n",
       "AGER_TYP_nan            -0.167642\n",
       "ALTER_HH                -0.176500\n",
       "GEBURTSJAHR             -0.177307\n",
       "SEMIO_PFLICHT           -0.179319\n",
       "SEMIO_REL               -0.190364\n",
       "FINANZ_SPARER           -0.211319\n",
       "FINANZ_ANLEGER          -0.212870\n",
       "FINANZ_UNAUFFAELLIGER   -0.213875\n",
       "DECADE                  -0.213994\n",
       "Name: 1, Length: 167, dtype: float64"
      ]
     },
     "execution_count": 38,
     "metadata": {},
     "output_type": "execute_result"
    }
   ],
   "source": [
    "# Map weights for the second principal component to corresponding feature names\n",
    "# and then print the linked values, sorted by weight.\n",
    "\n",
    "feature_and_weight(2)"
   ]
  },
  {
   "cell_type": "code",
   "execution_count": 39,
   "metadata": {},
   "outputs": [
    {
     "data": {
      "text/plain": [
       "GEBAEUDETYP_nan          0.251908\n",
       "NATIONALITAET_KZ_nan     0.249814\n",
       "SHOPPER_TYP_nan          0.247230\n",
       "CAMEO_DEUG_2015_nan      0.245347\n",
       "LP_FAMILIE_GROB_nan      0.207468\n",
       "LP_FAMILIE_FEIN_nan      0.207468\n",
       "SEMIO_KRIT               0.202521\n",
       "ZABEOTYP_3               0.201141\n",
       "LP_STATUS_FEIN_5.0       0.190616\n",
       "FINANZTYP_4              0.182313\n",
       "SEMIO_KAEM               0.176743\n",
       "GFK_URLAUBERTYP_5.0      0.164443\n",
       "SEMIO_DOM                0.148269\n",
       "CJT_GESAMTTYP_6.0        0.127002\n",
       "LP_STATUS_GROB_2.0       0.125019\n",
       "ANREDE_KZ                0.120203\n",
       "KK_KUNDENTYP_nan         0.114081\n",
       "SEMIO_LUST               0.103267\n",
       "FINANZ_ANLEGER           0.070753\n",
       "SEMIO_ERL                0.065315\n",
       "FINANZ_UNAUFFAELLIGER    0.064778\n",
       "ALTERSKATEGORIE_GROB     0.060882\n",
       "FINANZ_VORSORGER         0.054931\n",
       "W_KEIT_KIND_HH           0.052931\n",
       "FINANZ_HAUSBAUER         0.039694\n",
       "CJT_GESAMTTYP_2.0        0.035700\n",
       "RETOURTYP_BK_S           0.034104\n",
       "FINANZTYP_2              0.029733\n",
       "LIEF_STAGE               0.028382\n",
       "WOHNDAUER_2008           0.026366\n",
       "                           ...   \n",
       "GFK_URLAUBERTYP_9.0     -0.042614\n",
       "LP_STATUS_FEIN_2.0      -0.044278\n",
       "GEBAEUDETYP_8.0         -0.045394\n",
       "CAMEO_DEUG_2015_9       -0.047965\n",
       "ANZ_PERSONEN            -0.049093\n",
       "FINANZTYP_3             -0.049555\n",
       "KK_KUNDENTYP_2.0        -0.050539\n",
       "SEMIO_FAM               -0.050873\n",
       "LP_FAMILIE_GROB_4.0     -0.053054\n",
       "FINANZTYP_6             -0.053151\n",
       "GEBAEUDETYP_3.0         -0.053449\n",
       "CJT_GESAMTTYP_3.0       -0.056844\n",
       "LP_FAMILIE_GROB_5.0     -0.061273\n",
       "ZABEOTYP_5              -0.061614\n",
       "NATIONALITAET_KZ_2.0    -0.064218\n",
       "CJT_GESAMTTYP_4.0       -0.073166\n",
       "GEBURTSJAHR             -0.076983\n",
       "SHOPPER_TYP_1.0         -0.085212\n",
       "ALTER_HH                -0.087138\n",
       "VERS_TYP                -0.094126\n",
       "ZABEOTYP_4              -0.098145\n",
       "DECADE                  -0.098474\n",
       "ONLINE_AFFINITAET       -0.108794\n",
       "HH_EINKOMMEN_SCORE      -0.120049\n",
       "SEMIO_TRADV             -0.120137\n",
       "OST_WEST_KZ             -0.137154\n",
       "MOVEMENT                -0.143603\n",
       "SEMIO_SOZ               -0.187796\n",
       "SEMIO_KULT              -0.189536\n",
       "SEMIO_VERT              -0.211657\n",
       "Name: 2, Length: 167, dtype: float64"
      ]
     },
     "execution_count": 39,
     "metadata": {},
     "output_type": "execute_result"
    }
   ],
   "source": [
    "# Map weights for the third principal component to corresponding feature names\n",
    "# and then print the linked values, sorted by weight.\n",
    "\n",
    "feature_and_weight(3)"
   ]
  },
  {
   "cell_type": "markdown",
   "metadata": {},
   "source": [
    "### Discussion 2.3: Interpret Principal Components\n",
    "\n",
    "Each principal component has one dimension. Within that dimention, the sign (positive or negative) of each variable's weight shows the direction that varialbe is going.  \n",
    "\n",
    "For principal component 1, the variables with important roles in explaining the variation on the dimention include \n",
    "those with the highest positive weights (PLZ8_ANTG3, PLZ8_ANTG4, PLZ8_BAUMAX, WEALTH, KBA05_BAUMAX) and those with the lowest negative weights (PLZ8_ANTG1, KBA05_ANTG1 FINANZ_MINIMALIST, MOBI_REGIO). The variables in the middle have smaller roles in explaining the variation. As the weights getting closer to zero, the variables do not play any role in explaining the variation. PLZ8_ANTG3 and PLZ8_ANTG1 have almost perfect contrast, one with the weight close to 0.18 and the other with the weight close to -0.18. Finally, the principle component scores derived from this principle component will show that individuals with negative principle component scores will tend to have greater values of PLZ8_ANTG1, KBA05_ANTG1 FINANZ_MINIMALIST, and MOBI_REGIO, and lower values for the remaining Vars. While individuals with principle component scores greater than 0 will tend to have greater values of PLZ8_ANTG3, PLZ8_ANTG4, PLZ8_BAUMAX, WEALTH, and KBA05_BAUMAX, and lower of the remaining."
   ]
  },
  {
   "cell_type": "markdown",
   "metadata": {},
   "source": [
    "## Step 3: Clustering\n",
    "\n",
    "### Step 3.1: Apply Clustering to General Population\n",
    "\n",
    "In this substep, I applied k-means clustering to the dataset and used the average within-cluster distances from each point to their assigned cluster's centroid to decide on a number of clusters to keep.\n",
    "\n",
    "- I used sklearn's [KMeans](http://scikit-learn.org/stable/modules/generated/sklearn.cluster.KMeans.html#sklearn.cluster.KMeans) class to perform k-means clustering on the PCA-transformed data.\n",
    "- I then computed the average difference from each point to its assigned cluster's center for a number of different cluster counts. \n",
    "- After selecting a final number of clusters to use, I re-fit a KMeans instance to perform the clustering operation. "
   ]
  },
  {
   "cell_type": "code",
   "execution_count": 40,
   "metadata": {},
   "outputs": [
    {
     "data": {
      "text/plain": [
       "[<matplotlib.lines.Line2D at 0x7fb2e35c7c18>]"
      ]
     },
     "execution_count": 40,
     "metadata": {},
     "output_type": "execute_result"
    },
    {
     "data": {
      "image/png": "[encoded data removed]",
      "text/plain": [
       "<matplotlib.figure.Figure at 0x7fb2e3666e48>"
      ]
     },
     "metadata": {
      "needs_background": "light"
     },
     "output_type": "display_data"
    }
   ],
   "source": [
    "# Investigate the change in within-cluster distance across number of clusters.\n",
    "ks = range(1, 11)\n",
    "inertias = []\n",
    "for k in ks:\n",
    "    # Initialize the KMeans object using the current number of clusters (k)\n",
    "    km = KMeans(n_clusters=k, random_state=0)\n",
    "    # Fit the scaled features to the KMeans object\n",
    "    km.fit(pc)\n",
    "    # Append the inertia for `km` to the list of inertias\n",
    "    inertias.append(km.inertia_)\n",
    "    \n",
    "# Plot the results in a line plot\n",
    "plt.plot(ks, inertias, marker='o')"
   ]
  },
  {
   "cell_type": "code",
   "execution_count": 41,
   "metadata": {},
   "outputs": [],
   "source": [
    "# Re-fit the k-means model with the selected number of clusters and obtain\n",
    "# cluster predictions for the general population demographics data.\n",
    "\n",
    "km = KMeans(random_state = 0, n_clusters = 7)   "
   ]
  },
  {
   "cell_type": "markdown",
   "metadata": {},
   "source": [
    "### Discussion 3.1: Apply Clustering to General Population\n",
    "\n",
    "I decided to segment the population into 7 clusters based on the elbow plot. "
   ]
  },
  {
   "cell_type": "markdown",
   "metadata": {},
   "source": [
    "### Step 3.2: Apply All Steps to the Customer Data\n",
    "\n",
    "After obtaining the clusters and cluster centers for the general population, I examined how the customer data maps on to those clusters. "
   ]
  },
  {
   "cell_type": "code",
   "execution_count": 42,
   "metadata": {},
   "outputs": [],
   "source": [
    "# Load in the the general population data \n",
    "azdias = pd.read_csv('Udacity_AZDIAS_Subset.csv', sep = ';')\n",
    "\n",
    "# Load in the customer demographics data.\n",
    "customers = pd.read_csv('Udacity_CUSTOMERS_Subset.csv', sep = ';')"
   ]
  },
  {
   "cell_type": "code",
   "execution_count": 43,
   "metadata": {},
   "outputs": [],
   "source": [
    "# Clean the general population data\n",
    "azdias_clean = clean_data(azdias)\n",
    "\n",
    "# Clean the customer demographics data\n",
    "customers_clean = clean_data(customers)"
   ]
  },
  {
   "cell_type": "code",
   "execution_count": 44,
   "metadata": {},
   "outputs": [
    {
     "data": {
      "text/plain": [
       "['GEBAEUDETYP_5.0', 'TITEL_KZ_2.0']"
      ]
     },
     "execution_count": 44,
     "metadata": {},
     "output_type": "execute_result"
    }
   ],
   "source": [
    "# Compare the columns of the general population and the customer demographics data\n",
    "old = set(azdias_clean.columns)\n",
    "new = set(customers_clean.columns)\n",
    "columns_to_drop = list(old.difference(new))\n",
    "\n",
    "# Drop the columns that are not consistent between the two\n",
    "azdias_clean = azdias_clean.drop(columns_to_drop, axis = 1)\n",
    "columns_to_drop"
   ]
  },
  {
   "cell_type": "code",
   "execution_count": 45,
   "metadata": {},
   "outputs": [],
   "source": [
    "from sklearn.pipeline import Pipeline\n",
    "from sklearn.preprocessing import Imputer, StandardScaler\n",
    "from sklearn.decomposition import PCA\n",
    "from sklearn.cluster import KMeans\n",
    "\n",
    "# Build the preprocessing and training pipeline\n",
    "pipe = Pipeline([\n",
    "        ('imputer', Imputer()), \n",
    "        ('scaler', StandardScaler())]\n",
    ")\n",
    "\n",
    "# Preprocssing the general population data\n",
    "azdias_transformed = pipe.fit_transform(azdias_clean)\n",
    "\n",
    "# Preprocessing the customer demographics data\n",
    "customer_transformed = pipe.transform(customers_clean)"
   ]
  },
  {
   "cell_type": "code",
   "execution_count": 46,
   "metadata": {},
   "outputs": [],
   "source": [
    "# Instantiate PCA\n",
    "pca = PCA(n_components = 66, random_state = 0)\n",
    "\n",
    "# Dimentionality reduction for the general population data\n",
    "azdias_pc = pca.fit_transform(azdias_transformed)\n",
    "\n",
    "# Dimentionality reduction for the customer demographics data\n",
    "customer_pc = pca.transform(customer_transformed)"
   ]
  },
  {
   "cell_type": "code",
   "execution_count": 47,
   "metadata": {},
   "outputs": [],
   "source": [
    "# Instantiate KMeans\n",
    "km = KMeans(n_clusters = 7, random_state=0)\n",
    "\n",
    "# Clustering for the general population data\n",
    "azdias_km = km.fit_transform(azdias_transformed)\n",
    "demographic_clusters = km.labels_\n",
    "\n",
    "# Predict the clustering for the customer demographics data\n",
    "customer_clusters_prediction = km.predict(customer_transformed)"
   ]
  },
  {
   "cell_type": "markdown",
   "metadata": {},
   "source": [
    "### Step 3.3: Compare Customer Data to Demographics Data\n",
    "\n",
    "I clustered data based on demographics of the general population of Germany, and seen how the customer data for a mail-order sales company maps onto those demographic clusters in the previous steps. In this final substep, I compared the two cluster distributions to see where the strongest customer base for the company is.\n",
    "\n",
    "I considered the proportion of persons in each cluster for the general population, and the proportions for the customers. If the company's customer base to be universal, then the cluster assignment proportions should be fairly similar between the two. If there are only particular segments of the population that are interested in the company's products, there would be a mismatch from one to the other. If there is a higher proportion of persons in a cluster for the customer data compared to the general population (e.g. 5% of persons are assigned to a cluster for the general population, but 15% of the customer data is closest to that cluster's centroid), it suggests the people in that cluster to be a target audience for the company. On the other hand, the proportion of the data in a cluster being larger in the general population than the customer data (e.g. only 2% of customers closest to a population centroid that captures 6% of the data) suggests that group of persons to be outside of the target demographics.\n",
    "\n",
    "- I computed the proportion of data points in each cluster for the general population and the customer data, and visualized it. \n",
    "- I then performed an investigation for the overrepresented and underrepresented clusters."
   ]
  },
  {
   "cell_type": "code",
   "execution_count": 48,
   "metadata": {},
   "outputs": [],
   "source": [
    "# Create a function to plot the proportion of data in each cluster \n",
    "\n",
    "def plot_percent(data, label):\n",
    "    df = pd.DataFrame(dict(cluster=data))\n",
    "    ax = sns.barplot(x=\"cluster\", y=\"cluster\", data=df, estimator=lambda x: len(x) / len(df) * 100)\n",
    "    ax.set(ylabel=\"Percent\")\n",
    "    plt.title(f'The number of individuals in each cluster from the {label} data')"
   ]
  },
  {
   "cell_type": "code",
   "execution_count": 49,
   "metadata": {},
   "outputs": [
    {
     "data": {
      "image/png": "[encoded data removed]",
      "text/plain": [
       "<matplotlib.figure.Figure at 0x7fb2e14e0f98>"
      ]
     },
     "metadata": {
      "needs_background": "light"
     },
     "output_type": "display_data"
    }
   ],
   "source": [
    "# plot the proportion of data in each cluster for the general population\n",
    "plot_percent(demographic_clusters, 'general demographic')"
   ]
  },
  {
   "cell_type": "code",
   "execution_count": 50,
   "metadata": {},
   "outputs": [
    {
     "data": {
      "image/png": "[encoded data removed]",
      "text/plain": [
       "<matplotlib.figure.Figure at 0x7fb2e148e198>"
      ]
     },
     "metadata": {
      "needs_background": "light"
     },
     "output_type": "display_data"
    }
   ],
   "source": [
    "# plot the proportion of data in each cluster for the customer data\n",
    "plot_percent(customer_clusters_prediction, 'customer')"
   ]
  },
  {
   "cell_type": "code",
   "execution_count": 51,
   "metadata": {},
   "outputs": [],
   "source": [
    "# What kinds of people are part of a cluster that is overrepresented in the\n",
    "# customer data compared to the general population?\n",
    "index = np.where(demographic_clusters == 6)\n",
    "cluster_6 = azdias.iloc[index]"
   ]
  },
  {
   "cell_type": "code",
   "execution_count": 52,
   "metadata": {},
   "outputs": [
    {
     "name": "stdout",
     "output_type": "stream",
     "text": [
      "Age group of cluster 6 \n",
      " 3.0    0.479394\n",
      "4.0    0.428323\n",
      "2.0    0.067581\n",
      "1.0    0.024702\n",
      "Name: ALTERSKATEGORIE_GROB, dtype: float64\n",
      " \n",
      "Age group of all the clusters \n",
      " 3.0    0.403599\n",
      "4.0    0.257233\n",
      "2.0    0.178321\n",
      "1.0    0.160847\n",
      "Name: ALTERSKATEGORIE_GROB, dtype: float64\n"
     ]
    }
   ],
   "source": [
    "# Age group\n",
    "\"\"\"Estimated age based on given name analysis\n",
    "- -1: unknown (missing)\n",
    "-  0: unknown (cannot be determined)\n",
    "-  1: < 30 years old\n",
    "-  2: 30 - 45 years old\n",
    "-  3: 46 - 60 years old\n",
    "-  4: > 60 years old\n",
    "-  9: uniformly distributed\n",
    "\"\"\"\n",
    "print('Age group of cluster 6 \\n', \\\n",
    "      cluster_6['ALTERSKATEGORIE_GROB'].value_counts(normalize = True))\n",
    "print(' ')\n",
    "print('Age group of all the clusters \\n', \\\n",
    "      azdias['ALTERSKATEGORIE_GROB'].value_counts(normalize = True))"
   ]
  },
  {
   "cell_type": "code",
   "execution_count": 53,
   "metadata": {},
   "outputs": [
    {
     "name": "stdout",
     "output_type": "stream",
     "text": [
      "Preferred information and buying channels group of cluster 6 \n",
      " 2.0    0.247539\n",
      "4.0    0.196452\n",
      "3.0    0.174752\n",
      "1.0    0.131271\n",
      "6.0    0.129006\n",
      "5.0    0.120981\n",
      "Name: CJT_GESAMTTYP, dtype: float64\n",
      " \n",
      "Preferred information and buying channels group of all the clusters \n",
      " 4.0    0.236712\n",
      "3.0    0.175545\n",
      "6.0    0.172701\n",
      "2.0    0.166956\n",
      "5.0    0.131702\n",
      "1.0    0.110937\n",
      "nan    0.005446\n",
      "Name: CJT_GESAMTTYP, dtype: float64\n"
     ]
    }
   ],
   "source": [
    "# Preferred information and buying channels group\n",
    "\"\"\"Customer-Journey-Typology: preferred information and buying channels for\n",
    "consumer\n",
    "- 0: unknown\n",
    "- 1: Advertising- and Consumptionminimalist\n",
    "- 2: Advertising- and Consumptiontraditionalist\n",
    "- 3: advertisinginterested Store-shopper\n",
    "- 4: advertisinginterested Online-shopper\n",
    "- 5: Advertising- and Cross-Channel-Enthusiast\n",
    "- 6: Advertising-Enthusiast with restricted Cross-Channel-Behaviour\n",
    "\"\"\"\n",
    "print('Preferred information and buying channels group of cluster 6 \\n', \\\n",
    "      cluster_6['CJT_GESAMTTYP'].value_counts(normalize = True))\n",
    "print(' ')\n",
    "print('Preferred information and buying channels group of all the clusters \\n', \\\n",
    "      azdias['CJT_GESAMTTYP'].value_counts(normalize = True))"
   ]
  },
  {
   "cell_type": "code",
   "execution_count": 54,
   "metadata": {},
   "outputs": [
    {
     "name": "stdout",
     "output_type": "stream",
     "text": [
      "Financial type of cluster 6 \n",
      " 6    0.395888\n",
      "2    0.270621\n",
      "5    0.218779\n",
      "3    0.084742\n",
      "4    0.022819\n",
      "1    0.007151\n",
      "Name: FINANZTYP, dtype: float64\n",
      " \n",
      "Financial type of all the clusters \n",
      " 6    0.325808\n",
      "1    0.223931\n",
      "4    0.146569\n",
      "2    0.124399\n",
      "5    0.119427\n",
      "3    0.059866\n",
      "Name: FINANZTYP, dtype: float64\n"
     ]
    }
   ],
   "source": [
    "# Preferred information and buying channels group\n",
    "\"\"\"Most descriptive financial type for individual\n",
    "- -1: unknown\n",
    "-  1: low financial interest (MINIMALIST)\n",
    "-  2: money-saver (SPARER)\n",
    "-  3: home ownership (HAUSBAUER)\n",
    "-  4: be prepared (VORSORGER)\n",
    "-  5: investor (ANLEGER)\n",
    "-  6: inconspicuous (UNAUFFAELLIGER)\n",
    "\"\"\"\n",
    "print('Financial type of cluster 6 \\n', \\\n",
    "      cluster_6['FINANZTYP'].value_counts(normalize = True))\n",
    "print(' ')\n",
    "print('Financial type of all the clusters \\n', \\\n",
    "      azdias['FINANZTYP'].value_counts(normalize = True))\n"
   ]
  },
  {
   "cell_type": "code",
   "execution_count": 55,
   "metadata": {},
   "outputs": [],
   "source": [
    "# What kinds of people are part of a cluster that is underrepresented in the\n",
    "# customer data compared to the general population?\n",
    "\n",
    "index = np.where(demographic_clusters == 1)\n",
    "cluster_1 = azdias.iloc[index]"
   ]
  },
  {
   "cell_type": "code",
   "execution_count": 56,
   "metadata": {},
   "outputs": [
    {
     "name": "stdout",
     "output_type": "stream",
     "text": [
      "Age group of cluster 1 \n",
      " 2.0    0.362478\n",
      "1.0    0.345276\n",
      "3.0    0.261765\n",
      "4.0    0.030481\n",
      "Name: ALTERSKATEGORIE_GROB, dtype: float64\n",
      " \n",
      "Age group of all the clusters \n",
      " 3.0    0.403599\n",
      "4.0    0.257233\n",
      "2.0    0.178321\n",
      "1.0    0.160847\n",
      "Name: ALTERSKATEGORIE_GROB, dtype: float64\n"
     ]
    }
   ],
   "source": [
    "# Age group\n",
    "\"\"\"Estimated age based on given name analysis\n",
    "- -1: unknown (missing)\n",
    "-  0: unknown (cannot be determined)\n",
    "-  1: < 30 years old\n",
    "-  2: 30 - 45 years old\n",
    "-  3: 46 - 60 years old\n",
    "-  4: > 60 years old\n",
    "-  9: uniformly distributed\n",
    "\"\"\"\n",
    "print('Age group of cluster 1 \\n', \\\n",
    "      cluster_1['ALTERSKATEGORIE_GROB'].value_counts(normalize = True))\n",
    "print(' ')\n",
    "print('Age group of all the clusters \\n', \\\n",
    "      azdias['ALTERSKATEGORIE_GROB'].value_counts(normalize = True))"
   ]
  },
  {
   "cell_type": "code",
   "execution_count": 57,
   "metadata": {},
   "outputs": [
    {
     "name": "stdout",
     "output_type": "stream",
     "text": [
      "Preferred information and buying channels group of cluster 1 \n",
      " 4.0    0.347723\n",
      "6.0    0.202347\n",
      "3.0    0.192239\n",
      "5.0    0.169929\n",
      "1.0    0.062184\n",
      "2.0    0.025577\n",
      "Name: CJT_GESAMTTYP, dtype: float64\n",
      " \n",
      "Preferred information and buying channels group of all the clusters \n",
      " 4.0    0.236712\n",
      "3.0    0.175545\n",
      "6.0    0.172701\n",
      "2.0    0.166956\n",
      "5.0    0.131702\n",
      "1.0    0.110937\n",
      "nan    0.005446\n",
      "Name: CJT_GESAMTTYP, dtype: float64\n"
     ]
    }
   ],
   "source": [
    "# Preferred information and buying channels group\n",
    "\"\"\"Customer-Journey-Typology: preferred information and buying channels for\n",
    "consumer\n",
    "- 0: unknown\n",
    "- 1: Advertising- and Consumptionminimalist\n",
    "- 2: Advertising- and Consumptiontraditionalist\n",
    "- 3: advertisinginterested Store-shopper\n",
    "- 4: advertisinginterested Online-shopper\n",
    "- 5: Advertising- and Cross-Channel-Enthusiast\n",
    "- 6: Advertising-Enthusiast with restricted Cross-Channel-Behaviour\n",
    "\"\"\"\n",
    "print('Preferred information and buying channels group of cluster 1 \\n', \\\n",
    "      cluster_1['CJT_GESAMTTYP'].value_counts(normalize = True))\n",
    "print(' ')\n",
    "print('Preferred information and buying channels group of all the clusters \\n', \\\n",
    "      azdias['CJT_GESAMTTYP'].value_counts(normalize = True))"
   ]
  },
  {
   "cell_type": "code",
   "execution_count": 58,
   "metadata": {},
   "outputs": [
    {
     "name": "stdout",
     "output_type": "stream",
     "text": [
      "Financial type of cluster 1 \n",
      " 1    0.376827\n",
      "3    0.216698\n",
      "4    0.206146\n",
      "6    0.179066\n",
      "5    0.011191\n",
      "2    0.010072\n",
      "Name: FINANZTYP, dtype: float64\n",
      " \n",
      "Financial type of all the clusters \n",
      " 6    0.325808\n",
      "1    0.223931\n",
      "4    0.146569\n",
      "2    0.124399\n",
      "5    0.119427\n",
      "3    0.059866\n",
      "Name: FINANZTYP, dtype: float64\n"
     ]
    }
   ],
   "source": [
    "# Preferred information and buying channels group\n",
    "\"\"\"Most descriptive financial type for individual\n",
    "- -1: unknown\n",
    "-  1: low financial interest (MINIMALIST)\n",
    "-  2: money-saver (SPARER)\n",
    "-  3: home ownership (HAUSBAUER)\n",
    "-  4: be prepared (VORSORGER)\n",
    "-  5: investor (ANLEGER)\n",
    "-  6: inconspicuous (UNAUFFAELLIGER)\n",
    "\"\"\"\n",
    "print('Financial type of cluster 1 \\n', \\\n",
    "      cluster_1['FINANZTYP'].value_counts(normalize = True))\n",
    "print(' ')\n",
    "print('Financial type of all the clusters \\n', \\\n",
    "      azdias['FINANZTYP'].value_counts(normalize = True))\n"
   ]
  },
  {
   "cell_type": "markdown",
   "metadata": {},
   "source": [
    "### Discussion 3.3: Compare Customer Data to Demographics Data\n",
    "\n",
    "The segments of the population that are relatively popular with the mail-order company are older, consumptiontraditionalist and money-savers. The segments of the population that are relatively unpopular with the mail-order company are younger, interested in online shopping and have lower financial interest. "
   ]
  },
  {
   "cell_type": "code",
   "execution_count": null,
   "metadata": {},
   "outputs": [],
   "source": []
  }
 ],
 "metadata": {
  "kernelspec": {
   "display_name": "Python 3",
   "language": "python",
   "name": "python3"
  },
  "language_info": {
   "codemirror_mode": {
    "name": "ipython",
    "version": 3
   },
   "file_extension": ".py",
   "mimetype": "text/x-python",
   "name": "python",
   "nbconvert_exporter": "python",
   "pygments_lexer": "ipython3",
   "version": "3.7.3"
  }
 },
 "nbformat": 4,
 "nbformat_minor": 2
}
