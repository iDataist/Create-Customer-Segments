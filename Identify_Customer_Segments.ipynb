{
 "cells": [
  {
   "cell_type": "markdown",
   "metadata": {},
   "source": [
    "# Project: Identify Customer Segments\n",
    "\n",
    "In this project, you will apply unsupervised learning techniques to identify segments of the population that form the core customer base for a mail-order sales company in Germany. These segments can then be used to direct marketing campaigns towards audiences that will have the highest expected rate of returns. The data that you will use has been provided by our partners at Bertelsmann Arvato Analytics, and represents a real-life data science task.\n",
    "\n",
    "This notebook will help you complete this task by providing a framework within which you will perform your analysis steps. In each step of the project, you will see some text describing the subtask that you will perform, followed by one or more code cells for you to complete your work. **Feel free to add additional code and markdown cells as you go along so that you can explore everything in precise chunks.** The code cells provided in the base template will outline only the major tasks, and will usually not be enough to cover all of the minor tasks that comprise it.\n",
    "\n",
    "It should be noted that while there will be precise guidelines on how you should handle certain tasks in the project, there will also be places where an exact specification is not provided. **There will be times in the project where you will need to make and justify your own decisions on how to treat the data.** These are places where there may not be only one way to handle the data. In real-life tasks, there may be many valid ways to approach an analysis task. One of the most important things you can do is clearly document your approach so that other scientists can understand the decisions you've made.\n",
    "\n",
    "At the end of most sections, there will be a Markdown cell labeled **Discussion**. In these cells, you will report your findings for the completed section, as well as document the decisions that you made in your approach to each subtask. **Your project will be evaluated not just on the code used to complete the tasks outlined, but also your communication about your observations and conclusions at each stage.**"
   ]
  },
  {
   "cell_type": "code",
   "execution_count": 1,
   "metadata": {},
   "outputs": [],
   "source": [
    "# import libraries here; add more as necessary\n",
    "import numpy as np\n",
    "import pandas as pd\n",
    "import matplotlib.pyplot as plt\n",
    "import seaborn as sns\n",
    "\n",
    "# magic word for producing visualizations in notebook\n",
    "%matplotlib inline"
   ]
  },
  {
   "cell_type": "markdown",
   "metadata": {},
   "source": [
    "### Step 0: Load the Data\n",
    "\n",
    "There are four files associated with this project (not including this one):\n",
    "\n",
    "- `Udacity_AZDIAS_Subset.csv`: Demographics data for the general population of Germany; 891211 persons (rows) x 85 features (columns).\n",
    "- `Udacity_CUSTOMERS_Subset.csv`: Demographics data for customers of a mail-order company; 191652 persons (rows) x 85 features (columns).\n",
    "- `Data_Dictionary.md`: Detailed information file about the features in the provided datasets.\n",
    "- `AZDIAS_Feature_Summary.csv`: Summary of feature attributes for demographics data; 85 features (rows) x 4 columns\n",
    "\n",
    "Each row of the demographics files represents a single person, but also includes information outside of individuals, including information about their household, building, and neighborhood. You will use this information to cluster the general population into groups with similar demographic properties. Then, you will see how the people in the customers dataset fit into those created clusters. The hope here is that certain clusters are over-represented in the customers data, as compared to the general population; those over-represented clusters will be assumed to be part of the core userbase. This information can then be used for further applications, such as targeting for a marketing campaign.\n",
    "\n",
    "To start off with, load in the demographics data for the general population into a pandas DataFrame, and do the same for the feature attributes summary. Note for all of the `.csv` data files in this project: they're semicolon (`;`) delimited, so you'll need an additional argument in your [`read_csv()`](https://pandas.pydata.org/pandas-docs/stable/generated/pandas.read_csv.html) call to read in the data properly. Also, considering the size of the main dataset, it may take some time for it to load completely.\n",
    "\n",
    "Once the dataset is loaded, it's recommended that you take a little bit of time just browsing the general structure of the dataset and feature summary file. You'll be getting deep into the innards of the cleaning in the first major step of the project, so gaining some general familiarity can help you get your bearings."
   ]
  },
  {
   "cell_type": "code",
   "execution_count": 2,
   "metadata": {},
   "outputs": [
    {
     "data": {
      "text/html": [
       "<div>\n",
       "<style scoped>\n",
       "    .dataframe tbody tr th:only-of-type {\n",
       "        vertical-align: middle;\n",
       "    }\n",
       "\n",
       "    .dataframe tbody tr th {\n",
       "        vertical-align: top;\n",
       "    }\n",
       "\n",
       "    .dataframe thead th {\n",
       "        text-align: right;\n",
       "    }\n",
       "</style>\n",
       "<table border=\"1\" class=\"dataframe\">\n",
       "  <thead>\n",
       "    <tr style=\"text-align: right;\">\n",
       "      <th></th>\n",
       "      <th>AGER_TYP</th>\n",
       "      <th>ALTERSKATEGORIE_GROB</th>\n",
       "      <th>ANREDE_KZ</th>\n",
       "      <th>CJT_GESAMTTYP</th>\n",
       "      <th>FINANZ_MINIMALIST</th>\n",
       "      <th>FINANZ_SPARER</th>\n",
       "      <th>FINANZ_VORSORGER</th>\n",
       "      <th>FINANZ_ANLEGER</th>\n",
       "      <th>FINANZ_UNAUFFAELLIGER</th>\n",
       "      <th>FINANZ_HAUSBAUER</th>\n",
       "      <th>...</th>\n",
       "      <th>PLZ8_ANTG1</th>\n",
       "      <th>PLZ8_ANTG2</th>\n",
       "      <th>PLZ8_ANTG3</th>\n",
       "      <th>PLZ8_ANTG4</th>\n",
       "      <th>PLZ8_BAUMAX</th>\n",
       "      <th>PLZ8_HHZ</th>\n",
       "      <th>PLZ8_GBZ</th>\n",
       "      <th>ARBEIT</th>\n",
       "      <th>ORTSGR_KLS9</th>\n",
       "      <th>RELAT_AB</th>\n",
       "    </tr>\n",
       "  </thead>\n",
       "  <tbody>\n",
       "    <tr>\n",
       "      <th>0</th>\n",
       "      <td>-1</td>\n",
       "      <td>2</td>\n",
       "      <td>1</td>\n",
       "      <td>2.0</td>\n",
       "      <td>3</td>\n",
       "      <td>4</td>\n",
       "      <td>3</td>\n",
       "      <td>5</td>\n",
       "      <td>5</td>\n",
       "      <td>3</td>\n",
       "      <td>...</td>\n",
       "      <td>NaN</td>\n",
       "      <td>NaN</td>\n",
       "      <td>NaN</td>\n",
       "      <td>NaN</td>\n",
       "      <td>NaN</td>\n",
       "      <td>NaN</td>\n",
       "      <td>NaN</td>\n",
       "      <td>NaN</td>\n",
       "      <td>NaN</td>\n",
       "      <td>NaN</td>\n",
       "    </tr>\n",
       "    <tr>\n",
       "      <th>1</th>\n",
       "      <td>-1</td>\n",
       "      <td>1</td>\n",
       "      <td>2</td>\n",
       "      <td>5.0</td>\n",
       "      <td>1</td>\n",
       "      <td>5</td>\n",
       "      <td>2</td>\n",
       "      <td>5</td>\n",
       "      <td>4</td>\n",
       "      <td>5</td>\n",
       "      <td>...</td>\n",
       "      <td>2.0</td>\n",
       "      <td>3.0</td>\n",
       "      <td>2.0</td>\n",
       "      <td>1.0</td>\n",
       "      <td>1.0</td>\n",
       "      <td>5.0</td>\n",
       "      <td>4.0</td>\n",
       "      <td>3.0</td>\n",
       "      <td>5.0</td>\n",
       "      <td>4.0</td>\n",
       "    </tr>\n",
       "    <tr>\n",
       "      <th>2</th>\n",
       "      <td>-1</td>\n",
       "      <td>3</td>\n",
       "      <td>2</td>\n",
       "      <td>3.0</td>\n",
       "      <td>1</td>\n",
       "      <td>4</td>\n",
       "      <td>1</td>\n",
       "      <td>2</td>\n",
       "      <td>3</td>\n",
       "      <td>5</td>\n",
       "      <td>...</td>\n",
       "      <td>3.0</td>\n",
       "      <td>3.0</td>\n",
       "      <td>1.0</td>\n",
       "      <td>0.0</td>\n",
       "      <td>1.0</td>\n",
       "      <td>4.0</td>\n",
       "      <td>4.0</td>\n",
       "      <td>3.0</td>\n",
       "      <td>5.0</td>\n",
       "      <td>2.0</td>\n",
       "    </tr>\n",
       "    <tr>\n",
       "      <th>3</th>\n",
       "      <td>2</td>\n",
       "      <td>4</td>\n",
       "      <td>2</td>\n",
       "      <td>2.0</td>\n",
       "      <td>4</td>\n",
       "      <td>2</td>\n",
       "      <td>5</td>\n",
       "      <td>2</td>\n",
       "      <td>1</td>\n",
       "      <td>2</td>\n",
       "      <td>...</td>\n",
       "      <td>2.0</td>\n",
       "      <td>2.0</td>\n",
       "      <td>2.0</td>\n",
       "      <td>0.0</td>\n",
       "      <td>1.0</td>\n",
       "      <td>3.0</td>\n",
       "      <td>4.0</td>\n",
       "      <td>2.0</td>\n",
       "      <td>3.0</td>\n",
       "      <td>3.0</td>\n",
       "    </tr>\n",
       "    <tr>\n",
       "      <th>4</th>\n",
       "      <td>-1</td>\n",
       "      <td>3</td>\n",
       "      <td>1</td>\n",
       "      <td>5.0</td>\n",
       "      <td>4</td>\n",
       "      <td>3</td>\n",
       "      <td>4</td>\n",
       "      <td>1</td>\n",
       "      <td>3</td>\n",
       "      <td>2</td>\n",
       "      <td>...</td>\n",
       "      <td>2.0</td>\n",
       "      <td>4.0</td>\n",
       "      <td>2.0</td>\n",
       "      <td>1.0</td>\n",
       "      <td>2.0</td>\n",
       "      <td>3.0</td>\n",
       "      <td>3.0</td>\n",
       "      <td>4.0</td>\n",
       "      <td>6.0</td>\n",
       "      <td>5.0</td>\n",
       "    </tr>\n",
       "  </tbody>\n",
       "</table>\n",
       "<p>5 rows × 85 columns</p>\n",
       "</div>"
      ],
      "text/plain": [
       "   AGER_TYP  ALTERSKATEGORIE_GROB  ANREDE_KZ  CJT_GESAMTTYP  \\\n",
       "0        -1                     2          1            2.0   \n",
       "1        -1                     1          2            5.0   \n",
       "2        -1                     3          2            3.0   \n",
       "3         2                     4          2            2.0   \n",
       "4        -1                     3          1            5.0   \n",
       "\n",
       "   FINANZ_MINIMALIST  FINANZ_SPARER  FINANZ_VORSORGER  FINANZ_ANLEGER  \\\n",
       "0                  3              4                 3               5   \n",
       "1                  1              5                 2               5   \n",
       "2                  1              4                 1               2   \n",
       "3                  4              2                 5               2   \n",
       "4                  4              3                 4               1   \n",
       "\n",
       "   FINANZ_UNAUFFAELLIGER  FINANZ_HAUSBAUER    ...     PLZ8_ANTG1  PLZ8_ANTG2  \\\n",
       "0                      5                 3    ...            NaN         NaN   \n",
       "1                      4                 5    ...            2.0         3.0   \n",
       "2                      3                 5    ...            3.0         3.0   \n",
       "3                      1                 2    ...            2.0         2.0   \n",
       "4                      3                 2    ...            2.0         4.0   \n",
       "\n",
       "   PLZ8_ANTG3  PLZ8_ANTG4  PLZ8_BAUMAX  PLZ8_HHZ  PLZ8_GBZ  ARBEIT  \\\n",
       "0         NaN         NaN          NaN       NaN       NaN     NaN   \n",
       "1         2.0         1.0          1.0       5.0       4.0     3.0   \n",
       "2         1.0         0.0          1.0       4.0       4.0     3.0   \n",
       "3         2.0         0.0          1.0       3.0       4.0     2.0   \n",
       "4         2.0         1.0          2.0       3.0       3.0     4.0   \n",
       "\n",
       "   ORTSGR_KLS9  RELAT_AB  \n",
       "0          NaN       NaN  \n",
       "1          5.0       4.0  \n",
       "2          5.0       2.0  \n",
       "3          3.0       3.0  \n",
       "4          6.0       5.0  \n",
       "\n",
       "[5 rows x 85 columns]"
      ]
     },
     "execution_count": 2,
     "metadata": {},
     "output_type": "execute_result"
    }
   ],
   "source": [
    "# Load in the general demographics data.\n",
    "azdias = pd.read_csv('Udacity_AZDIAS_Subset.csv', sep = ';')\n",
    "original_columns = set(azdias.columns)\n",
    "azdias.head()"
   ]
  },
  {
   "cell_type": "code",
   "execution_count": 3,
   "metadata": {},
   "outputs": [
    {
     "data": {
      "text/html": [
       "<div>\n",
       "<style scoped>\n",
       "    .dataframe tbody tr th:only-of-type {\n",
       "        vertical-align: middle;\n",
       "    }\n",
       "\n",
       "    .dataframe tbody tr th {\n",
       "        vertical-align: top;\n",
       "    }\n",
       "\n",
       "    .dataframe thead th {\n",
       "        text-align: right;\n",
       "    }\n",
       "</style>\n",
       "<table border=\"1\" class=\"dataframe\">\n",
       "  <thead>\n",
       "    <tr style=\"text-align: right;\">\n",
       "      <th></th>\n",
       "      <th>attribute</th>\n",
       "      <th>information_level</th>\n",
       "      <th>type</th>\n",
       "      <th>missing_or_unknown</th>\n",
       "    </tr>\n",
       "  </thead>\n",
       "  <tbody>\n",
       "    <tr>\n",
       "      <th>0</th>\n",
       "      <td>AGER_TYP</td>\n",
       "      <td>person</td>\n",
       "      <td>categorical</td>\n",
       "      <td>[-1,0]</td>\n",
       "    </tr>\n",
       "    <tr>\n",
       "      <th>1</th>\n",
       "      <td>ALTERSKATEGORIE_GROB</td>\n",
       "      <td>person</td>\n",
       "      <td>ordinal</td>\n",
       "      <td>[-1,0,9]</td>\n",
       "    </tr>\n",
       "    <tr>\n",
       "      <th>2</th>\n",
       "      <td>ANREDE_KZ</td>\n",
       "      <td>person</td>\n",
       "      <td>categorical</td>\n",
       "      <td>[-1,0]</td>\n",
       "    </tr>\n",
       "    <tr>\n",
       "      <th>3</th>\n",
       "      <td>CJT_GESAMTTYP</td>\n",
       "      <td>person</td>\n",
       "      <td>categorical</td>\n",
       "      <td>[0]</td>\n",
       "    </tr>\n",
       "    <tr>\n",
       "      <th>4</th>\n",
       "      <td>FINANZ_MINIMALIST</td>\n",
       "      <td>person</td>\n",
       "      <td>ordinal</td>\n",
       "      <td>[-1]</td>\n",
       "    </tr>\n",
       "  </tbody>\n",
       "</table>\n",
       "</div>"
      ],
      "text/plain": [
       "              attribute information_level         type missing_or_unknown\n",
       "0              AGER_TYP            person  categorical             [-1,0]\n",
       "1  ALTERSKATEGORIE_GROB            person      ordinal           [-1,0,9]\n",
       "2             ANREDE_KZ            person  categorical             [-1,0]\n",
       "3         CJT_GESAMTTYP            person  categorical                [0]\n",
       "4     FINANZ_MINIMALIST            person      ordinal               [-1]"
      ]
     },
     "execution_count": 3,
     "metadata": {},
     "output_type": "execute_result"
    }
   ],
   "source": [
    "# Load in the feature summary file.\n",
    "feat_info = pd.read_csv('AZDIAS_Feature_Summary.csv', sep = ';')\n",
    "feat_info.head()"
   ]
  },
  {
   "cell_type": "markdown",
   "metadata": {},
   "source": [
    "> **Tip**: Add additional cells to keep everything in reasonably-sized chunks! Keyboard shortcut `esc --> a` (press escape to enter command mode, then press the 'A' key) adds a new cell before the active cell, and `esc --> b` adds a new cell after the active cell. If you need to convert an active cell to a markdown cell, use `esc --> m` and to convert to a code cell, use `esc --> y`. \n",
    "\n",
    "## Step 1: Preprocessing\n",
    "\n",
    "### Step 1.1: Assess Missing Data\n",
    "\n",
    "The feature summary file contains a summary of properties for each demographics data column. You will use this file to help you make cleaning decisions during this stage of the project. First of all, you should assess the demographics data in terms of missing data. Pay attention to the following points as you perform your analysis, and take notes on what you observe. Make sure that you fill in the **Discussion** cell with your findings and decisions at the end of each step that has one!\n",
    "\n",
    "#### Step 1.1.1: Convert Missing Value Codes to NaNs\n",
    "The fourth column of the feature attributes summary (loaded in above as `feat_info`) documents the codes from the data dictionary that indicate missing or unknown data. While the file encodes this as a list (e.g. `[-1,0]`), this will get read in as a string object. You'll need to do a little bit of parsing to make use of it to identify and clean the data. Convert data that matches a 'missing' or 'unknown' value code into a numpy NaN value. You might want to see how much data takes on a 'missing' or 'unknown' code, and how much data is naturally missing, as a point of interest.\n",
    "\n",
    "**As one more reminder, you are encouraged to add additional cells to break up your analysis into manageable chunks.**"
   ]
  },
  {
   "cell_type": "code",
   "execution_count": 4,
   "metadata": {},
   "outputs": [
    {
     "name": "stdout",
     "output_type": "stream",
     "text": [
      "['OST_WEST_KZ', 'CAMEO_DEUG_2015', 'CAMEO_DEU_2015', 'CAMEO_INTL_2015']\n"
     ]
    }
   ],
   "source": [
    "# Identify missing or unknown data values and convert them to NaNs.\n",
    "non_numerical = []\n",
    "for c in azdias.columns:\n",
    "    if azdias[c].dtypes == 'object':\n",
    "        non_numerical.append(c)\n",
    "        \n",
    "print(non_numerical)       "
   ]
  },
  {
   "cell_type": "code",
   "execution_count": 5,
   "metadata": {},
   "outputs": [],
   "source": [
    "for c in non_numerical:\n",
    "    azdias[c] = azdias[c].replace(['XX', 'X'], np.nan)"
   ]
  },
  {
   "cell_type": "code",
   "execution_count": 6,
   "metadata": {},
   "outputs": [],
   "source": [
    "numerical = [ c for c in azdias.columns if c not in non_numerical]\n",
    "for c in numerical:\n",
    "    missing_or_unknown = feat_info[feat_info.attribute == c].missing_or_unknown.values[0]\n",
    "    if missing_or_unknown != '[]': \n",
    "        nan = [int(i) for i in missing_or_unknown.strip('[]').split(',')]\n",
    "        azdias[c] = azdias[c].replace(nan, np.nan)"
   ]
  },
  {
   "cell_type": "markdown",
   "metadata": {},
   "source": [
    "#### Step 1.1.2: Assess Missing Data in Each Column\n",
    "\n",
    "How much missing data is present in each column? There are a few columns that are outliers in terms of the proportion of values that are missing. You will want to use matplotlib's [`hist()`](https://matplotlib.org/api/_as_gen/matplotlib.pyplot.hist.html) function to visualize the distribution of missing value counts to find these columns. Identify and document these columns. While some of these columns might have justifications for keeping or re-encoding the data, for this project you should just remove them from the dataframe. (Feel free to make remarks about these outlier columns in the discussion, however!)\n",
    "\n",
    "For the remaining features, are there any patterns in which columns have, or share, missing data?"
   ]
  },
  {
   "cell_type": "code",
   "execution_count": 7,
   "metadata": {},
   "outputs": [
    {
     "data": {
      "image/png": "[encoded data removed]",
      "text/plain": [
       "<matplotlib.figure.Figure at 0x7f86d57edda0>"
      ]
     },
     "metadata": {
      "needs_background": "light"
     },
     "output_type": "display_data"
    }
   ],
   "source": [
    "# Perform an assessment of how much missing data there is in each column of the\n",
    "# dataset.\n",
    "\n",
    "perc_missing = azdias.isnull().mean().sort_values(ascending = False)\n",
    "perc_missing.hist(); "
   ]
  },
  {
   "cell_type": "code",
   "execution_count": 8,
   "metadata": {},
   "outputs": [
    {
     "data": {
      "text/plain": [
       "TITEL_KZ          0.997576\n",
       "AGER_TYP          0.769554\n",
       "KK_KUNDENTYP      0.655967\n",
       "KBA05_BAUMAX      0.534687\n",
       "GEBURTSJAHR       0.440203\n",
       "ALTER_HH          0.348137\n",
       "REGIOTYP          0.177357\n",
       "KKK               0.177357\n",
       "W_KEIT_KIND_HH    0.166051\n",
       "KBA05_ANTG4       0.149597\n",
       "dtype: float64"
      ]
     },
     "execution_count": 8,
     "metadata": {},
     "output_type": "execute_result"
    }
   ],
   "source": [
    "perc_missing.head(10)"
   ]
  },
  {
   "cell_type": "code",
   "execution_count": 9,
   "metadata": {},
   "outputs": [
    {
     "data": {
      "text/plain": [
       "24"
      ]
     },
     "execution_count": 9,
     "metadata": {},
     "output_type": "execute_result"
    }
   ],
   "source": [
    "azdias.notnull().all().sum()"
   ]
  },
  {
   "cell_type": "code",
   "execution_count": 10,
   "metadata": {},
   "outputs": [
    {
     "data": {
      "text/html": [
       "<div>\n",
       "<style scoped>\n",
       "    .dataframe tbody tr th:only-of-type {\n",
       "        vertical-align: middle;\n",
       "    }\n",
       "\n",
       "    .dataframe tbody tr th {\n",
       "        vertical-align: top;\n",
       "    }\n",
       "\n",
       "    .dataframe thead th {\n",
       "        text-align: right;\n",
       "    }\n",
       "</style>\n",
       "<table border=\"1\" class=\"dataframe\">\n",
       "  <thead>\n",
       "    <tr style=\"text-align: right;\">\n",
       "      <th></th>\n",
       "      <th>attribute</th>\n",
       "      <th>information_level</th>\n",
       "      <th>type</th>\n",
       "      <th>missing_or_unknown</th>\n",
       "    </tr>\n",
       "  </thead>\n",
       "  <tbody>\n",
       "    <tr>\n",
       "      <th>40</th>\n",
       "      <td>TITEL_KZ</td>\n",
       "      <td>person</td>\n",
       "      <td>categorical</td>\n",
       "      <td>[-1,0]</td>\n",
       "    </tr>\n",
       "  </tbody>\n",
       "</table>\n",
       "</div>"
      ],
      "text/plain": [
       "   attribute information_level         type missing_or_unknown\n",
       "40  TITEL_KZ            person  categorical             [-1,0]"
      ]
     },
     "metadata": {},
     "output_type": "display_data"
    },
    {
     "data": {
      "text/html": [
       "<div>\n",
       "<style scoped>\n",
       "    .dataframe tbody tr th:only-of-type {\n",
       "        vertical-align: middle;\n",
       "    }\n",
       "\n",
       "    .dataframe tbody tr th {\n",
       "        vertical-align: top;\n",
       "    }\n",
       "\n",
       "    .dataframe thead th {\n",
       "        text-align: right;\n",
       "    }\n",
       "</style>\n",
       "<table border=\"1\" class=\"dataframe\">\n",
       "  <thead>\n",
       "    <tr style=\"text-align: right;\">\n",
       "      <th></th>\n",
       "      <th>attribute</th>\n",
       "      <th>information_level</th>\n",
       "      <th>type</th>\n",
       "      <th>missing_or_unknown</th>\n",
       "    </tr>\n",
       "  </thead>\n",
       "  <tbody>\n",
       "    <tr>\n",
       "      <th>0</th>\n",
       "      <td>AGER_TYP</td>\n",
       "      <td>person</td>\n",
       "      <td>categorical</td>\n",
       "      <td>[-1,0]</td>\n",
       "    </tr>\n",
       "  </tbody>\n",
       "</table>\n",
       "</div>"
      ],
      "text/plain": [
       "  attribute information_level         type missing_or_unknown\n",
       "0  AGER_TYP            person  categorical             [-1,0]"
      ]
     },
     "metadata": {},
     "output_type": "display_data"
    },
    {
     "data": {
      "text/html": [
       "<div>\n",
       "<style scoped>\n",
       "    .dataframe tbody tr th:only-of-type {\n",
       "        vertical-align: middle;\n",
       "    }\n",
       "\n",
       "    .dataframe tbody tr th {\n",
       "        vertical-align: top;\n",
       "    }\n",
       "\n",
       "    .dataframe thead th {\n",
       "        text-align: right;\n",
       "    }\n",
       "</style>\n",
       "<table border=\"1\" class=\"dataframe\">\n",
       "  <thead>\n",
       "    <tr style=\"text-align: right;\">\n",
       "      <th></th>\n",
       "      <th>attribute</th>\n",
       "      <th>information_level</th>\n",
       "      <th>type</th>\n",
       "      <th>missing_or_unknown</th>\n",
       "    </tr>\n",
       "  </thead>\n",
       "  <tbody>\n",
       "    <tr>\n",
       "      <th>47</th>\n",
       "      <td>KK_KUNDENTYP</td>\n",
       "      <td>household</td>\n",
       "      <td>categorical</td>\n",
       "      <td>[-1]</td>\n",
       "    </tr>\n",
       "  </tbody>\n",
       "</table>\n",
       "</div>"
      ],
      "text/plain": [
       "       attribute information_level         type missing_or_unknown\n",
       "47  KK_KUNDENTYP         household  categorical               [-1]"
      ]
     },
     "metadata": {},
     "output_type": "display_data"
    },
    {
     "data": {
      "text/html": [
       "<div>\n",
       "<style scoped>\n",
       "    .dataframe tbody tr th:only-of-type {\n",
       "        vertical-align: middle;\n",
       "    }\n",
       "\n",
       "    .dataframe tbody tr th {\n",
       "        vertical-align: top;\n",
       "    }\n",
       "\n",
       "    .dataframe thead th {\n",
       "        text-align: right;\n",
       "    }\n",
       "</style>\n",
       "<table border=\"1\" class=\"dataframe\">\n",
       "  <thead>\n",
       "    <tr style=\"text-align: right;\">\n",
       "      <th></th>\n",
       "      <th>attribute</th>\n",
       "      <th>information_level</th>\n",
       "      <th>type</th>\n",
       "      <th>missing_or_unknown</th>\n",
       "    </tr>\n",
       "  </thead>\n",
       "  <tbody>\n",
       "    <tr>\n",
       "      <th>64</th>\n",
       "      <td>KBA05_BAUMAX</td>\n",
       "      <td>microcell_rr3</td>\n",
       "      <td>mixed</td>\n",
       "      <td>[-1,0]</td>\n",
       "    </tr>\n",
       "  </tbody>\n",
       "</table>\n",
       "</div>"
      ],
      "text/plain": [
       "       attribute information_level   type missing_or_unknown\n",
       "64  KBA05_BAUMAX     microcell_rr3  mixed             [-1,0]"
      ]
     },
     "metadata": {},
     "output_type": "display_data"
    },
    {
     "data": {
      "text/html": [
       "<div>\n",
       "<style scoped>\n",
       "    .dataframe tbody tr th:only-of-type {\n",
       "        vertical-align: middle;\n",
       "    }\n",
       "\n",
       "    .dataframe tbody tr th {\n",
       "        vertical-align: top;\n",
       "    }\n",
       "\n",
       "    .dataframe thead th {\n",
       "        text-align: right;\n",
       "    }\n",
       "</style>\n",
       "<table border=\"1\" class=\"dataframe\">\n",
       "  <thead>\n",
       "    <tr style=\"text-align: right;\">\n",
       "      <th></th>\n",
       "      <th>attribute</th>\n",
       "      <th>information_level</th>\n",
       "      <th>type</th>\n",
       "      <th>missing_or_unknown</th>\n",
       "    </tr>\n",
       "  </thead>\n",
       "  <tbody>\n",
       "    <tr>\n",
       "      <th>11</th>\n",
       "      <td>GEBURTSJAHR</td>\n",
       "      <td>person</td>\n",
       "      <td>numeric</td>\n",
       "      <td>[0]</td>\n",
       "    </tr>\n",
       "  </tbody>\n",
       "</table>\n",
       "</div>"
      ],
      "text/plain": [
       "      attribute information_level     type missing_or_unknown\n",
       "11  GEBURTSJAHR            person  numeric                [0]"
      ]
     },
     "metadata": {},
     "output_type": "display_data"
    },
    {
     "data": {
      "text/html": [
       "<div>\n",
       "<style scoped>\n",
       "    .dataframe tbody tr th:only-of-type {\n",
       "        vertical-align: middle;\n",
       "    }\n",
       "\n",
       "    .dataframe tbody tr th {\n",
       "        vertical-align: top;\n",
       "    }\n",
       "\n",
       "    .dataframe thead th {\n",
       "        text-align: right;\n",
       "    }\n",
       "</style>\n",
       "<table border=\"1\" class=\"dataframe\">\n",
       "  <thead>\n",
       "    <tr style=\"text-align: right;\">\n",
       "      <th></th>\n",
       "      <th>attribute</th>\n",
       "      <th>information_level</th>\n",
       "      <th>type</th>\n",
       "      <th>missing_or_unknown</th>\n",
       "    </tr>\n",
       "  </thead>\n",
       "  <tbody>\n",
       "    <tr>\n",
       "      <th>43</th>\n",
       "      <td>ALTER_HH</td>\n",
       "      <td>household</td>\n",
       "      <td>interval</td>\n",
       "      <td>[0]</td>\n",
       "    </tr>\n",
       "  </tbody>\n",
       "</table>\n",
       "</div>"
      ],
      "text/plain": [
       "   attribute information_level      type missing_or_unknown\n",
       "43  ALTER_HH         household  interval                [0]"
      ]
     },
     "metadata": {},
     "output_type": "display_data"
    }
   ],
   "source": [
    "# Investigate patterns in the amount of missing data in each column.\n",
    "\n",
    "columns_to_drop = perc_missing.index[:6]\n",
    "for c in columns_to_drop:\n",
    "    display(feat_info[feat_info.attribute == c])"
   ]
  },
  {
   "cell_type": "code",
   "execution_count": 11,
   "metadata": {},
   "outputs": [],
   "source": [
    "# Remove the outlier columns from the dataset. (You'll perform other data\n",
    "# engineering tasks such as re-encoding and imputation later.)\n",
    "# azdias =  azdias.drop(columns_to_drop, axis = 1)"
   ]
  },
  {
   "cell_type": "markdown",
   "metadata": {},
   "source": [
    "#### Discussion 1.1.2: Assess Missing Data in Each Column\n",
    "\n",
    "There are 6 columns ('TITEL_KZ', 'AGER_TYP', 'KK_KUNDENTYP', 'KBA05_BAUMAX', 'GEBURTSJAHR','ALTER_HH') with more than 30% of missing information. There are 24 columns without any missing information. The rest of the columns have less than 20% of missing information. "
   ]
  },
  {
   "cell_type": "markdown",
   "metadata": {},
   "source": [
    "#### Step 1.1.3: Assess Missing Data in Each Row\n",
    "\n",
    "Now, you'll perform a similar assessment for the rows of the dataset. How much data is missing in each row? As with the columns, you should see some groups of points that have a very different numbers of missing values. Divide the data into two subsets: one for data points that are above some threshold for missing values, and a second subset for points below that threshold.\n",
    "\n",
    "In order to know what to do with the outlier rows, we should see if the distribution of data values on columns that are not missing data (or are missing very little data) are similar or different between the two groups. Select at least five of these columns and compare the distribution of values.\n",
    "- You can use seaborn's [`countplot()`](https://seaborn.pydata.org/generated/seaborn.countplot.html) function to create a bar chart of code frequencies and matplotlib's [`subplot()`](https://matplotlib.org/api/_as_gen/matplotlib.pyplot.subplot.html) function to put bar charts for the two subplots side by side.\n",
    "- To reduce repeated code, you might want to write a function that can perform this comparison, taking as one of its arguments a column to be compared.\n",
    "\n",
    "Depending on what you observe in your comparison, this will have implications on how you approach your conclusions later in the analysis. If the distributions of non-missing features look similar between the data with many missing values and the data with few or no missing values, then we could argue that simply dropping those points from the analysis won't present a major issue. On the other hand, if the data with many missing values looks very different from the data with few or no missing values, then we should make a note on those data as special. We'll revisit these data later on. **Either way, you should continue your analysis for now using just the subset of the data with few or no missing values.**"
   ]
  },
  {
   "cell_type": "code",
   "execution_count": 12,
   "metadata": {},
   "outputs": [
    {
     "data": {
      "image/png": "[encoded data removed]",
      "text/plain": [
       "<matplotlib.figure.Figure at 0x7f86d3761390>"
      ]
     },
     "metadata": {
      "needs_background": "light"
     },
     "output_type": "display_data"
    }
   ],
   "source": [
    "# How much data is missing in each row of the dataset?\n",
    "\n",
    "perc_missing = azdias.isnull().mean(axis = 1).sort_values(ascending = False)\n",
    "perc_missing.hist();"
   ]
  },
  {
   "cell_type": "code",
   "execution_count": 13,
   "metadata": {},
   "outputs": [],
   "source": [
    "# Write code to divide the data into two subsets based on the number of missing\n",
    "# values in each row.\n",
    "\n",
    "high_perc_missing = perc_missing[perc_missing > 0.35].index\n",
    "low_perc_missing = perc_missing[perc_missing <= 0.35].index"
   ]
  },
  {
   "cell_type": "code",
   "execution_count": 14,
   "metadata": {},
   "outputs": [
    {
     "data": {
      "text/plain": [
       "0.10454982546416658"
      ]
     },
     "execution_count": 14,
     "metadata": {},
     "output_type": "execute_result"
    }
   ],
   "source": [
    "len(high_perc_missing)/len(perc_missing)"
   ]
  },
  {
   "cell_type": "code",
   "execution_count": 15,
   "metadata": {},
   "outputs": [],
   "source": [
    "# Compare the distribution of values for at least five columns where there are\n",
    "# no or few missing values, between the two subsets.\n",
    "\n",
    "high_perc_missing = azdias.iloc[high_perc_missing]\n",
    "low_perc_missing = azdias.iloc[low_perc_missing]"
   ]
  },
  {
   "cell_type": "code",
   "execution_count": 16,
   "metadata": {},
   "outputs": [
    {
     "data": {
      "text/plain": [
       "Index(['ZABEOTYP', 'SEMIO_TRADV', 'SEMIO_KAEM', 'SEMIO_DOM', 'SEMIO_KRIT',\n",
       "       'SEMIO_RAT', 'SEMIO_KULT', 'SEMIO_ERL', 'SEMIO_LUST', 'SEMIO_VERT',\n",
       "       'SEMIO_MAT', 'SEMIO_REL', 'SEMIO_FAM', 'SEMIO_SOZ', 'GREEN_AVANTGARDE',\n",
       "       'FINANZTYP', 'FINANZ_HAUSBAUER', 'FINANZ_UNAUFFAELLIGER',\n",
       "       'FINANZ_ANLEGER', 'FINANZ_VORSORGER', 'FINANZ_SPARER',\n",
       "       'FINANZ_MINIMALIST', 'ANREDE_KZ', 'SEMIO_PFLICHT',\n",
       "       'ALTERSKATEGORIE_GROB', 'ONLINE_AFFINITAET', 'RETOURTYP_BK_S',\n",
       "       'CJT_GESAMTTYP', 'GFK_URLAUBERTYP', 'LP_STATUS_GROB'],\n",
       "      dtype='object')"
      ]
     },
     "execution_count": 16,
     "metadata": {},
     "output_type": "execute_result"
    }
   ],
   "source": [
    "high_perc_missing.notnull().mean().sort_values(ascending = False).index[:30]"
   ]
  },
  {
   "cell_type": "code",
   "execution_count": 17,
   "metadata": {},
   "outputs": [],
   "source": [
    "columns_low_perc_missing = ['ZABEOTYP', 'SEMIO_TRADV', 'GREEN_AVANTGARDE', 'FINANZTYP', 'ANREDE_KZ', 'ALTERSKATEGORIE_GROB', 'ONLINE_AFFINITAET', 'RETOURTYP_BK_S',\n",
    "       'CJT_GESAMTTYP', 'GFK_URLAUBERTYP', 'LP_STATUS_GROB']"
   ]
  },
  {
   "cell_type": "code",
   "execution_count": 18,
   "metadata": {},
   "outputs": [],
   "source": [
    "def plot_dist(c):\n",
    "    plt.subplot(121)\n",
    "    sns.countplot(high_perc_missing[c])\n",
    "    plt.title('high_perc_missing')\n",
    "    plt.subplot(122)\n",
    "    sns.countplot(low_perc_missing[c])\n",
    "    plt.title('low_perc_missing')\n",
    "    plt.show()"
   ]
  },
  {
   "cell_type": "code",
   "execution_count": 19,
   "metadata": {},
   "outputs": [
    {
     "data": {
      "image/png": "[encoded data removed]",
      "text/plain": [
       "<matplotlib.figure.Figure at 0x7f86d5881ac8>"
      ]
     },
     "metadata": {
      "needs_background": "light"
     },
     "output_type": "display_data"
    },
    {
     "data": {
      "image/png": "[encoded data removed]",
      "text/plain": [
       "<matplotlib.figure.Figure at 0x7f86b3108eb8>"
      ]
     },
     "metadata": {
      "needs_background": "light"
     },
     "output_type": "display_data"
    },
    {
     "data": {
      "image/png": "[encoded data removed]",
      "text/plain": [
       "<matplotlib.figure.Figure at 0x7f86b30cbbe0>"
      ]
     },
     "metadata": {
      "needs_background": "light"
     },
     "output_type": "display_data"
    },
    {
     "data": {
      "image/png": "[encoded data removed]",
      "text/plain": [
       "<matplotlib.figure.Figure at 0x7f86b2fd3198>"
      ]
     },
     "metadata": {
      "needs_background": "light"
     },
     "output_type": "display_data"
    },
    {
     "data": {
      "image/png": "[encoded data removed]",
      "text/plain": [
       "<matplotlib.figure.Figure at 0x7f86b2f37eb8>"
      ]
     },
     "metadata": {
      "needs_background": "light"
     },
     "output_type": "display_data"
    },
    {
     "data": {
      "image/png": "[encoded data removed]",
      "text/plain": [
       "<matplotlib.figure.Figure at 0x7f86b31a8cf8>"
      ]
     },
     "metadata": {
      "needs_background": "light"
     },
     "output_type": "display_data"
    },
    {
     "data": {
      "image/png": "[encoded data removed]",
      "text/plain": [
       "<matplotlib.figure.Figure at 0x7f86b2dea6d8>"
      ]
     },
     "metadata": {
      "needs_background": "light"
     },
     "output_type": "display_data"
    },
    {
     "data": {
      "image/png": "[encoded data removed]",
      "text/plain": [
       "<matplotlib.figure.Figure at 0x7f86b2ce6e80>"
      ]
     },
     "metadata": {
      "needs_background": "light"
     },
     "output_type": "display_data"
    },
    {
     "data": {
      "image/png": "[encoded data removed]",
      "text/plain": [
       "<matplotlib.figure.Figure at 0x7f86b2da0f98>"
      ]
     },
     "metadata": {
      "needs_background": "light"
     },
     "output_type": "display_data"
    },
    {
     "data": {
      "image/png": "[encoded data removed]",
      "text/plain": [
       "<matplotlib.figure.Figure at 0x7f86b2bae908>"
      ]
     },
     "metadata": {
      "needs_background": "light"
     },
     "output_type": "display_data"
    },
    {
     "data": {
      "image/png": "[encoded data removed]",
      "text/plain": [
       "<matplotlib.figure.Figure at 0x7f86b2a94f60>"
      ]
     },
     "metadata": {
      "needs_background": "light"
     },
     "output_type": "display_data"
    }
   ],
   "source": [
    "for c in columns_low_perc_missing:\n",
    "    plot_dist(c)"
   ]
  },
  {
   "cell_type": "markdown",
   "metadata": {},
   "source": [
    "#### Discussion 1.1.3: Assess Missing Data in Each Row\n",
    " \n",
    "The data with many missing values looks very different from the data with few or no missing values. As a result, I made a note on those data as special, and will revisit these data later on. "
   ]
  },
  {
   "cell_type": "markdown",
   "metadata": {},
   "source": [
    "### Step 1.2: Select and Re-Encode Features\n",
    "\n",
    "Checking for missing data isn't the only way in which you can prepare a dataset for analysis. Since the unsupervised learning techniques to be used will only work on data that is encoded numerically, you need to make a few encoding changes or additional assumptions to be able to make progress. In addition, while almost all of the values in the dataset are encoded using numbers, not all of them represent numeric values. Check the third column of the feature summary (`feat_info`) for a summary of types of measurement.\n",
    "- For numeric and interval data, these features can be kept without changes.\n",
    "- Most of the variables in the dataset are ordinal in nature. While ordinal values may technically be non-linear in spacing, make the simplifying assumption that the ordinal variables can be treated as being interval in nature (that is, kept without any changes).\n",
    "- Special handling may be necessary for the remaining two variable types: categorical, and 'mixed'.\n",
    "\n",
    "In the first two parts of this sub-step, you will perform an investigation of the categorical and mixed-type features and make a decision on each of them, whether you will keep, drop, or re-encode each. Then, in the last part, you will create a new data frame with only the selected and engineered columns.\n",
    "\n",
    "Data wrangling is often the trickiest part of the data analysis process, and there's a lot of it to be done here. But stick with it: once you're done with this step, you'll be ready to get to the machine learning parts of the project!"
   ]
  },
  {
   "cell_type": "code",
   "execution_count": 20,
   "metadata": {},
   "outputs": [
    {
     "data": {
      "text/plain": [
       "ordinal        49\n",
       "categorical    21\n",
       "mixed           7\n",
       "numeric         7\n",
       "interval        1\n",
       "Name: type, dtype: int64"
      ]
     },
     "execution_count": 20,
     "metadata": {},
     "output_type": "execute_result"
    }
   ],
   "source": [
    "# How many features are there of each data type?\n",
    "\n",
    "feat_info.type.value_counts()"
   ]
  },
  {
   "cell_type": "markdown",
   "metadata": {},
   "source": [
    "#### Step 1.2.1: Re-Encode Categorical Features\n",
    "\n",
    "For categorical data, you would ordinarily need to encode the levels as dummy variables. Depending on the number of categories, perform one of the following:\n",
    "- For binary (two-level) categoricals that take numeric values, you can keep them without needing to do anything.\n",
    "- There is one binary variable that takes on non-numeric values. For this one, you need to re-encode the values as numbers or create a dummy variable.\n",
    "- For multi-level categoricals (three or more values), you can choose to encode the values using multiple dummy variables (e.g. via [OneHotEncoder](http://scikit-learn.org/stable/modules/generated/sklearn.preprocessing.OneHotEncoder.html)), or (to keep things straightforward) just drop them from the analysis. As always, document your choices in the Discussion section."
   ]
  },
  {
   "cell_type": "code",
   "execution_count": 21,
   "metadata": {},
   "outputs": [],
   "source": [
    "# Assess categorical variables: which are binary, which are multi-level, and\n",
    "# which one needs to be re-encoded?\n",
    "\n",
    "categorical = [c for c in feat_info[feat_info.type == 'categorical'].attribute.values] # if c not in columns_to_drop]\n",
    "levels = [len(azdias[c].value_counts()) for c in categorical]        \n",
    "\n",
    "df = pd.DataFrame(np.array([categorical, levels]).T, columns = ['categorical', 'levels'])\n",
    "df = df.set_index('categorical')\n",
    "df['levels'] = df['levels'].astype(int)\n",
    "df = df.sort_values('levels')\n"
   ]
  },
  {
   "cell_type": "code",
   "execution_count": 22,
   "metadata": {},
   "outputs": [
    {
     "name": "stdout",
     "output_type": "stream",
     "text": [
      "2    465305\n",
      "1    425916\n",
      "Name: ANREDE_KZ, dtype: int64\n",
      "W    629528\n",
      "O    168545\n",
      "Name: OST_WEST_KZ, dtype: int64\n",
      "2.0    398722\n",
      "1.0    381303\n",
      "Name: VERS_TYP, dtype: int64\n",
      "0.0    810834\n",
      "1.0      6888\n",
      "Name: SOHO_KZ, dtype: int64\n",
      "0    715996\n",
      "1    175225\n",
      "Name: GREEN_AVANTGARDE, dtype: int64\n"
     ]
    }
   ],
   "source": [
    "binary = df[df.levels == 2].index\n",
    "for c in binary:\n",
    "    print(azdias[c].value_counts())\n",
    "\n",
    "# Re-encode the binary categories\n",
    "azdias['OST_WEST_KZ'] = azdias['OST_WEST_KZ'].apply(lambda x: 1 if x == 'W' else 0)\n",
    "azdias['ANREDE_KZ'] = azdias['ANREDE_KZ'].apply(lambda x: 1 if x == 2 else 0)\n",
    "azdias['VERS_TYP'] = azdias['VERS_TYP'].apply(lambda x: 1 if x == 2 else 0)"
   ]
  },
  {
   "cell_type": "code",
   "execution_count": 23,
   "metadata": {},
   "outputs": [],
   "source": [
    "multi = df[(df.levels >2) & (df.levels <44)].index\n",
    "columns_to_drop = df[df.levels >2].index\n",
    "\n",
    "# Re-encode categorical variable(s) to be kept in the analysis.\n",
    "azdias[multi] = azdias[multi].astype('str')\n",
    "ohc = pd.get_dummies(azdias[multi], drop_first = True)\n",
    "azdias = azdias.drop(columns_to_drop, axis = 1)\n",
    "azdias = pd.concat([azdias, ohc], axis = 1)"
   ]
  },
  {
   "cell_type": "markdown",
   "metadata": {},
   "source": [
    "#### Discussion 1.2.1: Re-Encode Categorical Features\n",
    "\n",
    "I re-encoded the binary variables using 0 and 1, and re-encoded the multi-level variables with less than 8 levels with one-hot-encoder. I dropped the multi-level variables with more than 8 levels. "
   ]
  },
  {
   "cell_type": "markdown",
   "metadata": {},
   "source": [
    "#### Step 1.2.2: Engineer Mixed-Type Features\n",
    "\n",
    "There are a handful of features that are marked as \"mixed\" in the feature summary that require special treatment in order to be included in the analysis. There are two in particular that deserve attention; the handling of the rest are up to your own choices:\n",
    "- \"PRAEGENDE_JUGENDJAHRE\" combines information on three dimensions: generation by decade, movement (mainstream vs. avantgarde), and nation (east vs. west). While there aren't enough levels to disentangle east from west, you should create two new variables to capture the other two dimensions: an interval-type variable for decade, and a binary variable for movement.\n",
    "- \"CAMEO_INTL_2015\" combines information on two axes: wealth and life stage. Break up the two-digit codes by their 'tens'-place and 'ones'-place digits into two new ordinal variables (which, for the purposes of this project, is equivalent to just treating them as their raw numeric values).\n",
    "- If you decide to keep or engineer new features around the other mixed-type features, make sure you note your steps in the Discussion section.\n",
    "\n",
    "Be sure to check `Data_Dictionary.md` for the details needed to finish these tasks."
   ]
  },
  {
   "cell_type": "code",
   "execution_count": 24,
   "metadata": {},
   "outputs": [
    {
     "data": {
      "text/html": [
       "<div>\n",
       "<style scoped>\n",
       "    .dataframe tbody tr th:only-of-type {\n",
       "        vertical-align: middle;\n",
       "    }\n",
       "\n",
       "    .dataframe tbody tr th {\n",
       "        vertical-align: top;\n",
       "    }\n",
       "\n",
       "    .dataframe thead th {\n",
       "        text-align: right;\n",
       "    }\n",
       "</style>\n",
       "<table border=\"1\" class=\"dataframe\">\n",
       "  <thead>\n",
       "    <tr style=\"text-align: right;\">\n",
       "      <th></th>\n",
       "      <th>MOVEMENT</th>\n",
       "      <th>DECADE</th>\n",
       "    </tr>\n",
       "  </thead>\n",
       "  <tbody>\n",
       "    <tr>\n",
       "      <th>0</th>\n",
       "      <td>0</td>\n",
       "      <td>NaN</td>\n",
       "    </tr>\n",
       "    <tr>\n",
       "      <th>1</th>\n",
       "      <td>1</td>\n",
       "      <td>90.0</td>\n",
       "    </tr>\n",
       "    <tr>\n",
       "      <th>2</th>\n",
       "      <td>0</td>\n",
       "      <td>90.0</td>\n",
       "    </tr>\n",
       "    <tr>\n",
       "      <th>3</th>\n",
       "      <td>1</td>\n",
       "      <td>70.0</td>\n",
       "    </tr>\n",
       "    <tr>\n",
       "      <th>4</th>\n",
       "      <td>1</td>\n",
       "      <td>70.0</td>\n",
       "    </tr>\n",
       "  </tbody>\n",
       "</table>\n",
       "</div>"
      ],
      "text/plain": [
       "   MOVEMENT  DECADE\n",
       "0         0     NaN\n",
       "1         1    90.0\n",
       "2         0    90.0\n",
       "3         1    70.0\n",
       "4         1    70.0"
      ]
     },
     "execution_count": 24,
     "metadata": {},
     "output_type": "execute_result"
    }
   ],
   "source": [
    "# Investigate \"PRAEGENDE_JUGENDJAHRE\" and engineer two new variables.\n",
    "\"\"\"### 1.18. PRAEGENDE_JUGENDJAHRE\n",
    "Dominating movement of person's youth (avantgarde vs. mainstream; east vs. west)\n",
    "- -1: unknown\n",
    "-  0: unknown\n",
    "-  1: 40s - war years (Mainstream, E+W)\n",
    "-  2: 40s - reconstruction years (Avantgarde, E+W)\n",
    "-  3: 50s - economic miracle (Mainstream, E+W)\n",
    "-  4: 50s - milk bar / Individualisation (Avantgarde, E+W)\n",
    "-  5: 60s - economic miracle (Mainstream, E+W)\n",
    "-  6: 60s - generation 68 / student protestors (Avantgarde, W)\n",
    "-  7: 60s - opponents to the building of the Wall (Avantgarde, E)\n",
    "-  8: 70s - family orientation (Mainstream, E+W)\n",
    "-  9: 70s - peace movement (Avantgarde, E+W)\n",
    "- 10: 80s - Generation Golf (Mainstream, W)\n",
    "- 11: 80s - ecological awareness (Avantgarde, W)\n",
    "- 12: 80s - FDJ / communist party youth organisation (Mainstream, E)\n",
    "- 13: 80s - Swords into ploughshares (Avantgarde, E)\n",
    "- 14: 90s - digital media kids (Mainstream, E+W)\n",
    "- 15: 90s - ecological awareness (Avantgarde, E+W)\"\"\"\n",
    "# azdias[\"PRAEGENDE_JUGENDJAHRE\"] = azdias[\"PRAEGENDE_JUGENDJAHRE\"].astype('float')\n",
    "\n",
    "decade_map = {1: 40, 2: 40, 3: 50, 4: 50, 5: 60, 6: 60, 7: 60, 8: 70, 9: 70, 10: 80, 11: 80, 12: 80, 13: 80, 14: 90, 15: 90}\n",
    "azdias[\"MOVEMENT\"] = azdias[\"PRAEGENDE_JUGENDJAHRE\"].apply(lambda x: 1 if x in [1, 3, 5, 8, 10, 12, 14] else 0)\n",
    "azdias['DECADE'] = azdias[\"PRAEGENDE_JUGENDJAHRE\"].map(decade_map)\n",
    "azdias[[\"MOVEMENT\",'DECADE']].head()"
   ]
  },
  {
   "cell_type": "code",
   "execution_count": 25,
   "metadata": {},
   "outputs": [
    {
     "data": {
      "text/html": [
       "<div>\n",
       "<style scoped>\n",
       "    .dataframe tbody tr th:only-of-type {\n",
       "        vertical-align: middle;\n",
       "    }\n",
       "\n",
       "    .dataframe tbody tr th {\n",
       "        vertical-align: top;\n",
       "    }\n",
       "\n",
       "    .dataframe thead th {\n",
       "        text-align: right;\n",
       "    }\n",
       "</style>\n",
       "<table border=\"1\" class=\"dataframe\">\n",
       "  <thead>\n",
       "    <tr style=\"text-align: right;\">\n",
       "      <th></th>\n",
       "      <th>WEALTH</th>\n",
       "      <th>LIEF_STAGE</th>\n",
       "    </tr>\n",
       "  </thead>\n",
       "  <tbody>\n",
       "    <tr>\n",
       "      <th>0</th>\n",
       "      <td>NaN</td>\n",
       "      <td>NaN</td>\n",
       "    </tr>\n",
       "    <tr>\n",
       "      <th>1</th>\n",
       "      <td>5.0</td>\n",
       "      <td>1.0</td>\n",
       "    </tr>\n",
       "    <tr>\n",
       "      <th>2</th>\n",
       "      <td>2.0</td>\n",
       "      <td>4.0</td>\n",
       "    </tr>\n",
       "    <tr>\n",
       "      <th>3</th>\n",
       "      <td>1.0</td>\n",
       "      <td>2.0</td>\n",
       "    </tr>\n",
       "    <tr>\n",
       "      <th>4</th>\n",
       "      <td>4.0</td>\n",
       "      <td>3.0</td>\n",
       "    </tr>\n",
       "  </tbody>\n",
       "</table>\n",
       "</div>"
      ],
      "text/plain": [
       "   WEALTH  LIEF_STAGE\n",
       "0     NaN         NaN\n",
       "1     5.0         1.0\n",
       "2     2.0         4.0\n",
       "3     1.0         2.0\n",
       "4     4.0         3.0"
      ]
     },
     "execution_count": 25,
     "metadata": {},
     "output_type": "execute_result"
    }
   ],
   "source": [
    "# Investigate \"CAMEO_INTL_2015\" and engineer two new variables.\n",
    "\"\"\"### 4.3. CAMEO_INTL_2015\n",
    "German CAMEO: Wealth / Life Stage Typology, mapped to international code\n",
    "- -1: unknown\n",
    "- 11: Wealthy Households - Pre-Family Couples & Singles\n",
    "- 12: Wealthy Households - Young Couples With Children\n",
    "- 13: Wealthy Households - Families With School Age Children\n",
    "- 14: Wealthy Households - Older Families &  Mature Couples\n",
    "- 15: Wealthy Households - Elders In Retirement\n",
    "- 21: Prosperous Households - Pre-Family Couples & Singles\n",
    "- 22: Prosperous Households - Young Couples With Children\n",
    "- 23: Prosperous Households - Families With School Age Children\n",
    "- 24: Prosperous Households - Older Families & Mature Couples\n",
    "- 25: Prosperous Households - Elders In Retirement\n",
    "- 31: Comfortable Households - Pre-Family Couples & Singles\n",
    "- 32: Comfortable Households - Young Couples With Children\n",
    "- 33: Comfortable Households - Families With School Age Children\n",
    "- 34: Comfortable Households - Older Families & Mature Couples\n",
    "- 35: Comfortable Households - Elders In Retirement\n",
    "- 41: Less Affluent Households - Pre-Family Couples & Singles\n",
    "- 42: Less Affluent Households - Young Couples With Children\n",
    "- 43: Less Affluent Households - Families With School Age Children\n",
    "- 44: Less Affluent Households - Older Families & Mature Couples\n",
    "- 45: Less Affluent Households - Elders In Retirement\n",
    "- 51: Poorer Households - Pre-Family Couples & Singles\n",
    "- 52: Poorer Households - Young Couples With Children\n",
    "- 53: Poorer Households - Families With School Age Children\n",
    "- 54: Poorer Households - Older Families & Mature Couples\n",
    "- 55: Poorer Households - Elders In Retirement\n",
    "- XX: unknown\"\"\"\n",
    "azdias[\"CAMEO_INTL_2015\"] = azdias[\"CAMEO_INTL_2015\"].astype(float)\n",
    "azdias[\"WEALTH\"] = azdias[\"CAMEO_INTL_2015\"].apply(lambda x: x//10)\n",
    "azdias[\"LIEF_STAGE\"] = azdias[\"CAMEO_INTL_2015\"].apply(lambda x: x%10)\n",
    "azdias[[\"WEALTH\", \"LIEF_STAGE\"]].head()"
   ]
  },
  {
   "cell_type": "code",
   "execution_count": 26,
   "metadata": {},
   "outputs": [],
   "source": [
    "azdias = azdias.drop([\"PRAEGENDE_JUGENDJAHRE\", \"CAMEO_INTL_2015\"], axis =1)"
   ]
  },
  {
   "cell_type": "markdown",
   "metadata": {},
   "source": [
    "#### Discussion 1.2.2: Engineer Mixed-Type Features\n",
    "\n",
    "I splited the \"PRAEGENDE_JUGENDJAHRE\" column into two columns: \"MOVEMENT\",'DECADE'. \n",
    "I splited the \"CAMEO_INTL_2015\" into two columns: \"WEALTH\", \"LIEF_STAGE\". \n",
    "Then I dropped \"PRAEGENDE_JUGENDJAHRE\" and \"CAMEO_INTL_2015\". "
   ]
  },
  {
   "cell_type": "markdown",
   "metadata": {},
   "source": [
    "#### Step 1.2.3: Complete Feature Selection\n",
    "\n",
    "In order to finish this step up, you need to make sure that your data frame now only has the columns that you want to keep. To summarize, the dataframe should consist of the following:\n",
    "- All numeric, interval, and ordinal type columns from the original dataset.\n",
    "- Binary categorical features (all numerically-encoded).\n",
    "- Engineered features from other multi-level categorical features and mixed features.\n",
    "\n",
    "Make sure that for any new columns that you have engineered, that you've excluded the original columns from the final dataset. Otherwise, their values will interfere with the analysis later on the project. For example, you should not keep \"PRAEGENDE_JUGENDJAHRE\", since its values won't be useful for the algorithm: only the values derived from it in the engineered features you created should be retained. As a reminder, your data should only be from **the subset with few or no missing values**."
   ]
  },
  {
   "cell_type": "code",
   "execution_count": 27,
   "metadata": {},
   "outputs": [
    {
     "data": {
      "text/plain": [
       "(891221, 150)"
      ]
     },
     "execution_count": 27,
     "metadata": {},
     "output_type": "execute_result"
    }
   ],
   "source": [
    "azdias.shape"
   ]
  },
  {
   "cell_type": "code",
   "execution_count": 28,
   "metadata": {},
   "outputs": [
    {
     "data": {
      "text/plain": [
       "{'CAMEO_DEUG_2015_2',\n",
       " 'CAMEO_DEUG_2015_3',\n",
       " 'CAMEO_DEUG_2015_4',\n",
       " 'CAMEO_DEUG_2015_5',\n",
       " 'CAMEO_DEUG_2015_6',\n",
       " 'CAMEO_DEUG_2015_7',\n",
       " 'CAMEO_DEUG_2015_8',\n",
       " 'CAMEO_DEUG_2015_9',\n",
       " 'CAMEO_DEUG_2015_nan',\n",
       " 'CJT_GESAMTTYP_2.0',\n",
       " 'CJT_GESAMTTYP_3.0',\n",
       " 'CJT_GESAMTTYP_4.0',\n",
       " 'CJT_GESAMTTYP_5.0',\n",
       " 'CJT_GESAMTTYP_6.0',\n",
       " 'CJT_GESAMTTYP_nan',\n",
       " 'DECADE',\n",
       " 'FINANZTYP_2',\n",
       " 'FINANZTYP_3',\n",
       " 'FINANZTYP_4',\n",
       " 'FINANZTYP_5',\n",
       " 'FINANZTYP_6',\n",
       " 'GEBAEUDETYP_2.0',\n",
       " 'GEBAEUDETYP_3.0',\n",
       " 'GEBAEUDETYP_4.0',\n",
       " 'GEBAEUDETYP_5.0',\n",
       " 'GEBAEUDETYP_6.0',\n",
       " 'GEBAEUDETYP_8.0',\n",
       " 'GEBAEUDETYP_nan',\n",
       " 'GFK_URLAUBERTYP_10.0',\n",
       " 'GFK_URLAUBERTYP_11.0',\n",
       " 'GFK_URLAUBERTYP_12.0',\n",
       " 'GFK_URLAUBERTYP_2.0',\n",
       " 'GFK_URLAUBERTYP_3.0',\n",
       " 'GFK_URLAUBERTYP_4.0',\n",
       " 'GFK_URLAUBERTYP_5.0',\n",
       " 'GFK_URLAUBERTYP_6.0',\n",
       " 'GFK_URLAUBERTYP_7.0',\n",
       " 'GFK_URLAUBERTYP_8.0',\n",
       " 'GFK_URLAUBERTYP_9.0',\n",
       " 'GFK_URLAUBERTYP_nan',\n",
       " 'LIEF_STAGE',\n",
       " 'LP_FAMILIE_FEIN_10.0',\n",
       " 'LP_FAMILIE_FEIN_11.0',\n",
       " 'LP_FAMILIE_FEIN_2.0',\n",
       " 'LP_FAMILIE_FEIN_3.0',\n",
       " 'LP_FAMILIE_FEIN_4.0',\n",
       " 'LP_FAMILIE_FEIN_5.0',\n",
       " 'LP_FAMILIE_FEIN_6.0',\n",
       " 'LP_FAMILIE_FEIN_7.0',\n",
       " 'LP_FAMILIE_FEIN_8.0',\n",
       " 'LP_FAMILIE_FEIN_9.0',\n",
       " 'LP_FAMILIE_FEIN_nan',\n",
       " 'LP_FAMILIE_GROB_2.0',\n",
       " 'LP_FAMILIE_GROB_3.0',\n",
       " 'LP_FAMILIE_GROB_4.0',\n",
       " 'LP_FAMILIE_GROB_5.0',\n",
       " 'LP_FAMILIE_GROB_nan',\n",
       " 'LP_STATUS_FEIN_10.0',\n",
       " 'LP_STATUS_FEIN_2.0',\n",
       " 'LP_STATUS_FEIN_3.0',\n",
       " 'LP_STATUS_FEIN_4.0',\n",
       " 'LP_STATUS_FEIN_5.0',\n",
       " 'LP_STATUS_FEIN_6.0',\n",
       " 'LP_STATUS_FEIN_7.0',\n",
       " 'LP_STATUS_FEIN_8.0',\n",
       " 'LP_STATUS_FEIN_9.0',\n",
       " 'LP_STATUS_FEIN_nan',\n",
       " 'LP_STATUS_GROB_2.0',\n",
       " 'LP_STATUS_GROB_3.0',\n",
       " 'LP_STATUS_GROB_4.0',\n",
       " 'LP_STATUS_GROB_5.0',\n",
       " 'LP_STATUS_GROB_nan',\n",
       " 'MOVEMENT',\n",
       " 'NATIONALITAET_KZ_2.0',\n",
       " 'NATIONALITAET_KZ_3.0',\n",
       " 'NATIONALITAET_KZ_nan',\n",
       " 'SHOPPER_TYP_1.0',\n",
       " 'SHOPPER_TYP_2.0',\n",
       " 'SHOPPER_TYP_3.0',\n",
       " 'SHOPPER_TYP_nan',\n",
       " 'WEALTH',\n",
       " 'ZABEOTYP_2',\n",
       " 'ZABEOTYP_3',\n",
       " 'ZABEOTYP_4',\n",
       " 'ZABEOTYP_5',\n",
       " 'ZABEOTYP_6'}"
      ]
     },
     "execution_count": 28,
     "metadata": {},
     "output_type": "execute_result"
    }
   ],
   "source": [
    "new_columns = set(azdias.columns)\n",
    "\n",
    "new_columns.difference(original_columns)"
   ]
  },
  {
   "cell_type": "markdown",
   "metadata": {},
   "source": [
    "### Step 1.3: Create a Cleaning Function\n",
    "\n",
    "Even though you've finished cleaning up the general population demographics data, it's important to look ahead to the future and realize that you'll need to perform the same cleaning steps on the customer demographics data. In this substep, complete the function below to execute the main feature selection, encoding, and re-engineering steps you performed above. Then, when it comes to looking at the customer data in Step 3, you can just run this function on that DataFrame to get the trimmed dataset in a single step."
   ]
  },
  {
   "cell_type": "code",
   "execution_count": 29,
   "metadata": {},
   "outputs": [],
   "source": [
    "def clean_data(df):\n",
    "    \"\"\"\n",
    "    Perform feature trimming, re-encoding, and engineering for demographics\n",
    "    data\n",
    "    \n",
    "    INPUT: Demographics DataFrame\n",
    "    OUTPUT: Trimmed and cleaned demographics DataFrame\n",
    "    \"\"\"\n",
    "    feat_info = pd.read_csv('AZDIAS_Feature_Summary.csv', sep = ';')\n",
    "    \n",
    "    # Identify missing or unknown data values and convert them to NaNs.\n",
    "    non_numerical = [c for c in df.columns if df[c].dtypes == 'object']\n",
    "    for c in non_numerical:\n",
    "        df[c] = df[c].replace(['XX', 'X'], np.nan)  \n",
    "\n",
    "    numerical = [ c for c in df.columns if c not in non_numerical]\n",
    "    for c in numerical:\n",
    "        missing_or_unknown = feat_info[feat_info.attribute == c].missing_or_unknown.values[0]\n",
    "        if missing_or_unknown != '[]': \n",
    "            nan = [int(i) for i in missing_or_unknown.strip('[]').split(',')]\n",
    "            df[c] = df[c].replace(nan, np.nan)\n",
    "\n",
    "    # Drop columns with more than 20% of data missing\n",
    "#     perc_missing = df.isnull().mean().sort_values(ascending = False)\n",
    "\n",
    "#     columns_to_drop = perc_missing[perc_missing > 0.2].index\n",
    "\n",
    "#     df =  df.drop(columns_to_drop, axis = 1)\n",
    "\n",
    "    # Assess categorical variables: which are binary, which are multi-level, and\n",
    "    # which one needs to be re-encoded?\n",
    "    categorical = [c for c in feat_info[feat_info.type == 'categorical'].attribute.values] # if c not in columns_to_drop]\n",
    "    levels = [len(df[c].value_counts()) for c in categorical]        \n",
    "\n",
    "    categorical_level_df = pd.DataFrame(np.array([categorical, levels]).T, columns = ['categorical', 'levels'])\n",
    "    categorical_level_df = categorical_level_df.set_index('categorical')\n",
    "    categorical_level_df['levels'] = categorical_level_df['levels'].astype(int)\n",
    "    categorical_level_df = categorical_level_df.sort_values('levels')\n",
    "\n",
    "#     binary = categorical_level_df[categorical_level_df.levels == 2].index\n",
    "\n",
    "    # Re-encode the binary categories\n",
    "    df['OST_WEST_KZ'] = df['OST_WEST_KZ'].apply(lambda x: 1 if x == 'W' else 0)\n",
    "    df['ANREDE_KZ'] = df['ANREDE_KZ'].apply(lambda x: 1 if x == 2 else 0)\n",
    "    df['VERS_TYP'] = df['VERS_TYP'].apply(lambda x: 1 if x == 2 else 0)\n",
    "\n",
    "    multi = categorical_level_df[(categorical_level_df.levels >2) & (categorical_level_df.levels <44)].index\n",
    "    columns_to_drop = categorical_level_df[categorical_level_df.levels >2].index\n",
    "\n",
    "    # Re-encode multi-level categorical variable(s) to be kept in the analysis.\n",
    "    df[multi] = df[multi].astype('str')\n",
    "    ohc = pd.get_dummies(df[multi], drop_first = True)\n",
    "    df = df.drop(columns_to_drop, axis = 1)\n",
    "    df = pd.concat([df, ohc], axis = 1)\n",
    "\n",
    "    # Investigate \"PRAEGENDE_JUGENDJAHRE\" and engineer two new variables.\n",
    "    decade_map = {1: 40, 2: 40, 3: 50, 4: 50, 5: 60, 6: 60, 7: 60, 8: 70, 9: 70, 10: 80, 11: 80, 12: 80, 13: 80, 14: 90, 15: 90}\n",
    "    df[\"MOVEMENT\"] = df[\"PRAEGENDE_JUGENDJAHRE\"].apply(lambda x: 1 if x in [1, 3, 5, 8, 10, 12, 14] else 0)\n",
    "    df['DECADE'] = df[\"PRAEGENDE_JUGENDJAHRE\"].map(decade_map)\n",
    "\n",
    "    # Investigate \"CAMEO_INTL_2015\" and engineer two new variables.\n",
    "    df[\"CAMEO_INTL_2015\"] = df[\"CAMEO_INTL_2015\"].astype(float)\n",
    "    df[\"WEALTH\"] = df[\"CAMEO_INTL_2015\"].apply(lambda x: x//10)\n",
    "    df[\"LIEF_STAGE\"] = df[\"CAMEO_INTL_2015\"].apply(lambda x: x%10)\n",
    "    return df\n",
    "    "
   ]
  },
  {
   "cell_type": "markdown",
   "metadata": {},
   "source": [
    "## Step 2: Feature Transformation\n",
    "\n",
    "### Step 2.1: Apply Feature Scaling\n",
    "\n",
    "Before we apply dimensionality reduction techniques to the data, we need to perform feature scaling so that the principal component vectors are not influenced by the natural differences in scale for features. Starting from this part of the project, you'll want to keep an eye on the [API reference page for sklearn](http://scikit-learn.org/stable/modules/classes.html) to help you navigate to all of the classes and functions that you'll need. In this substep, you'll need to check the following:\n",
    "\n",
    "- sklearn requires that data not have missing values in order for its estimators to work properly. So, before applying the scaler to your data, make sure that you've cleaned the DataFrame of the remaining missing values. This can be as simple as just removing all data points with missing data, or applying an [Imputer](http://scikit-learn.org/stable/modules/generated/sklearn.preprocessing.Imputer.html) to replace all missing values. You might also try a more complicated procedure where you temporarily remove missing values in order to compute the scaling parameters before re-introducing those missing values and applying imputation. Think about how much missing data you have and what possible effects each approach might have on your analysis, and justify your decision in the discussion section below.\n",
    "- For the actual scaling function, a [StandardScaler](http://scikit-learn.org/stable/modules/generated/sklearn.preprocessing.StandardScaler.html) instance is suggested, scaling each feature to mean 0 and standard deviation 1.\n",
    "- For these classes, you can make use of the `.fit_transform()` method to both fit a procedure to the data as well as apply the transformation to the data at the same time. Don't forget to keep the fit sklearn objects handy, since you'll be applying them to the customer demographics data towards the end of the project."
   ]
  },
  {
   "cell_type": "code",
   "execution_count": 30,
   "metadata": {},
   "outputs": [],
   "source": [
    "# If you've not yet cleaned the dataset of all NaN values, then investigate and\n",
    "# do that now.\n",
    "\n",
    "from sklearn.preprocessing import Imputer, StandardScaler\n",
    "\n",
    "imputer = Imputer()\n",
    "imputed_azdias = imputer.fit_transform(azdias)"
   ]
  },
  {
   "cell_type": "code",
   "execution_count": 31,
   "metadata": {},
   "outputs": [],
   "source": [
    "# Apply feature scaling to the general population demographics data.\n",
    "\n",
    "scaler = StandardScaler()\n",
    "scaled_azdias = scaler.fit_transform(imputed_azdias)"
   ]
  },
  {
   "cell_type": "markdown",
   "metadata": {},
   "source": [
    "### Discussion 2.1: Apply Feature Scaling\n",
    "\n",
    "I used the Imputer to replace the missing values with the mean of the column, and then used the Standard Scaler to scale the data. "
   ]
  },
  {
   "cell_type": "markdown",
   "metadata": {},
   "source": [
    "### Step 2.2: Perform Dimensionality Reduction\n",
    "\n",
    "On your scaled data, you are now ready to apply dimensionality reduction techniques.\n",
    "\n",
    "- Use sklearn's [PCA](http://scikit-learn.org/stable/modules/generated/sklearn.decomposition.PCA.html) class to apply principal component analysis on the data, thus finding the vectors of maximal variance in the data. To start, you should not set any parameters (so all components are computed) or set a number of components that is at least half the number of features (so there's enough features to see the general trend in variability).\n",
    "- Check out the ratio of variance explained by each principal component as well as the cumulative variance explained. Try plotting the cumulative or sequential values using matplotlib's [`plot()`](https://matplotlib.org/api/_as_gen/matplotlib.pyplot.plot.html) function. Based on what you find, select a value for the number of transformed features you'll retain for the clustering part of the project.\n",
    "- Once you've made a choice for the number of components to keep, make sure you re-fit a PCA instance to perform the decided-on transformation."
   ]
  },
  {
   "cell_type": "code",
   "execution_count": 32,
   "metadata": {},
   "outputs": [
    {
     "data": {
      "text/plain": [
       "array([[  9.37331969e-01,  -3.08024265e+00,   5.13472691e+00, ...,\n",
       "          3.09253057e-17,  -6.38771729e-15,   2.08442048e-15],\n",
       "       [  4.22982706e+00,  -2.60375463e+00,  -2.41324023e+00, ...,\n",
       "         -1.60432067e-16,  -2.10442143e-15,   1.59281616e-15],\n",
       "       [ -7.73577997e-02,  -3.36936830e-01,   6.47734974e-01, ...,\n",
       "          2.60789124e-16,  -1.11885340e-14,   7.57198231e-16],\n",
       "       ..., \n",
       "       [ -9.17962345e-01,  -3.80984303e+00,  -3.60402057e-01, ...,\n",
       "         -5.15967927e-18,  -5.62463057e-18,  -2.38316099e-17],\n",
       "       [  6.10671015e+00,  -1.95599355e+00,  -4.82203498e+00, ...,\n",
       "         -4.24176886e-18,   2.20634851e-18,  -3.30155282e-20],\n",
       "       [ -1.58556152e-01,   2.78373938e+00,  -1.06525059e+00, ...,\n",
       "          7.39823484e-18,  -6.94757649e-18,   5.56654521e-18]])"
      ]
     },
     "execution_count": 32,
     "metadata": {},
     "output_type": "execute_result"
    }
   ],
   "source": [
    "# Apply PCA to the data.\n",
    "from sklearn.decomposition import PCA\n",
    "pca = PCA()\n",
    "\n",
    "pca.fit_transform(scaled_azdias)"
   ]
  },
  {
   "cell_type": "code",
   "execution_count": 33,
   "metadata": {},
   "outputs": [
    {
     "data": {
      "text/plain": [
       "array([ 0.09141226,  0.16200869,  0.21780173,  0.25599407,  0.28984886,\n",
       "        0.31764077,  0.3428438 ,  0.36180738,  0.37893852,  0.39470575,\n",
       "        0.40956818,  0.42384407,  0.43783703,  0.45144562,  0.46451023,\n",
       "        0.47703738,  0.48904831,  0.50048199,  0.51115762,  0.52133226,\n",
       "        0.53144175,  0.54108771,  0.55030962,  0.55929773,  0.56793754,\n",
       "        0.57645051,  0.58482825,  0.59302756,  0.60117272,  0.60924324,\n",
       "        0.61718785,  0.62497533,  0.63271082,  0.64039945,  0.6478922 ,\n",
       "        0.65534504,  0.66266024,  0.66992849,  0.67715531,  0.68430405,\n",
       "        0.69140451,  0.69837802,  0.70533085,  0.71225903,  0.71914546,\n",
       "        0.72600331,  0.73281744,  0.73960365,  0.74636331,  0.75305537,\n",
       "        0.759739  ,  0.76641894,  0.77308613,  0.77974404,  0.7863842 ,\n",
       "        0.79291758,  0.79938711,  0.80568258])"
      ]
     },
     "execution_count": 33,
     "metadata": {},
     "output_type": "execute_result"
    }
   ],
   "source": [
    "pca.explained_variance_ratio_.cumsum()[:58]"
   ]
  },
  {
   "cell_type": "code",
   "execution_count": 34,
   "metadata": {},
   "outputs": [
    {
     "data": {
      "text/plain": [
       "[<matplotlib.lines.Line2D at 0x7f86b2ca1e80>]"
      ]
     },
     "execution_count": 34,
     "metadata": {},
     "output_type": "execute_result"
    },
    {
     "data": {
      "image/png": "[encoded data removed]",
      "text/plain": [
       "<matplotlib.figure.Figure at 0x7f86b2a84dd8>"
      ]
     },
     "metadata": {
      "needs_background": "light"
     },
     "output_type": "display_data"
    }
   ],
   "source": [
    "# Investigate the variance accounted for by each principal component.\n",
    "\n",
    "plt.plot(pca.explained_variance_ratio_.cumsum())"
   ]
  },
  {
   "cell_type": "code",
   "execution_count": 35,
   "metadata": {},
   "outputs": [],
   "source": [
    "# Re-apply PCA to the data while selecting for number of components to retain.\n",
    "pca = PCA(n_components = 58)\n",
    "pc = pca.fit_transform(scaled_azdias)"
   ]
  },
  {
   "cell_type": "markdown",
   "metadata": {},
   "source": [
    "### Discussion 2.2: Perform Dimensionality Reduction\n",
    "\n",
    "I retained 58 principal componentsare for the next step of the analysis. They contributed to 80% of the variability. "
   ]
  },
  {
   "cell_type": "markdown",
   "metadata": {},
   "source": [
    "### Step 2.3: Interpret Principal Components\n",
    "\n",
    "Now that we have our transformed principal components, it's a nice idea to check out the weight of each variable on the first few components to see if they can be interpreted in some fashion.\n",
    "\n",
    "As a reminder, each principal component is a unit vector that points in the direction of highest variance (after accounting for the variance captured by earlier principal components). The further a weight is from zero, the more the principal component is in the direction of the corresponding feature. If two features have large weights of the same sign (both positive or both negative), then increases in one tend expect to be associated with increases in the other. To contrast, features with different signs can be expected to show a negative correlation: increases in one variable should result in a decrease in the other.\n",
    "\n",
    "- To investigate the features, you should map each weight to their corresponding feature name, then sort the features according to weight. The most interesting features for each principal component, then, will be those at the beginning and end of the sorted list. Use the data dictionary document to help you understand these most prominent features, their relationships, and what a positive or negative value on the principal component might indicate.\n",
    "- You should investigate and interpret feature associations from the first three principal components in this substep. To help facilitate this, you should write a function that you can call at any time to print the sorted list of feature weights, for the *i*-th principal component. This might come in handy in the next step of the project, when you interpret the tendencies of the discovered clusters."
   ]
  },
  {
   "cell_type": "code",
   "execution_count": 36,
   "metadata": {},
   "outputs": [
    {
     "data": {
      "text/html": [
       "<div>\n",
       "<style scoped>\n",
       "    .dataframe tbody tr th:only-of-type {\n",
       "        vertical-align: middle;\n",
       "    }\n",
       "\n",
       "    .dataframe tbody tr th {\n",
       "        vertical-align: top;\n",
       "    }\n",
       "\n",
       "    .dataframe thead th {\n",
       "        text-align: right;\n",
       "    }\n",
       "</style>\n",
       "<table border=\"1\" class=\"dataframe\">\n",
       "  <thead>\n",
       "    <tr style=\"text-align: right;\">\n",
       "      <th></th>\n",
       "      <th>ALTERSKATEGORIE_GROB</th>\n",
       "      <th>ANREDE_KZ</th>\n",
       "      <th>FINANZ_MINIMALIST</th>\n",
       "      <th>FINANZ_SPARER</th>\n",
       "      <th>FINANZ_VORSORGER</th>\n",
       "      <th>FINANZ_ANLEGER</th>\n",
       "      <th>FINANZ_UNAUFFAELLIGER</th>\n",
       "      <th>FINANZ_HAUSBAUER</th>\n",
       "      <th>GREEN_AVANTGARDE</th>\n",
       "      <th>HEALTH_TYP</th>\n",
       "      <th>...</th>\n",
       "      <th>GFK_URLAUBERTYP_5.0</th>\n",
       "      <th>GFK_URLAUBERTYP_6.0</th>\n",
       "      <th>GFK_URLAUBERTYP_7.0</th>\n",
       "      <th>GFK_URLAUBERTYP_8.0</th>\n",
       "      <th>GFK_URLAUBERTYP_9.0</th>\n",
       "      <th>GFK_URLAUBERTYP_nan</th>\n",
       "      <th>MOVEMENT</th>\n",
       "      <th>DECADE</th>\n",
       "      <th>WEALTH</th>\n",
       "      <th>LIEF_STAGE</th>\n",
       "    </tr>\n",
       "  </thead>\n",
       "  <tbody>\n",
       "    <tr>\n",
       "      <th>0</th>\n",
       "      <td>-0.092107</td>\n",
       "      <td>0.012039</td>\n",
       "      <td>-0.195584</td>\n",
       "      <td>0.123694</td>\n",
       "      <td>-0.093270</td>\n",
       "      <td>0.061535</td>\n",
       "      <td>0.063151</td>\n",
       "      <td>0.150436</td>\n",
       "      <td>-0.098375</td>\n",
       "      <td>0.026702</td>\n",
       "      <td>...</td>\n",
       "      <td>-0.006324</td>\n",
       "      <td>-0.030588</td>\n",
       "      <td>-0.042555</td>\n",
       "      <td>0.003238</td>\n",
       "      <td>-0.004652</td>\n",
       "      <td>-0.001922</td>\n",
       "      <td>0.059373</td>\n",
       "      <td>0.079325</td>\n",
       "      <td>0.186384</td>\n",
       "      <td>-0.111485</td>\n",
       "    </tr>\n",
       "    <tr>\n",
       "      <th>1</th>\n",
       "      <td>0.212000</td>\n",
       "      <td>-0.001966</td>\n",
       "      <td>0.078169</td>\n",
       "      <td>-0.228249</td>\n",
       "      <td>0.208171</td>\n",
       "      <td>-0.235073</td>\n",
       "      <td>-0.238482</td>\n",
       "      <td>0.085620</td>\n",
       "      <td>0.015782</td>\n",
       "      <td>-0.042616</td>\n",
       "      <td>...</td>\n",
       "      <td>-0.063808</td>\n",
       "      <td>0.021284</td>\n",
       "      <td>0.041787</td>\n",
       "      <td>0.032479</td>\n",
       "      <td>-0.056974</td>\n",
       "      <td>0.000894</td>\n",
       "      <td>0.072239</td>\n",
       "      <td>-0.207704</td>\n",
       "      <td>0.065928</td>\n",
       "      <td>-0.003931</td>\n",
       "    </tr>\n",
       "    <tr>\n",
       "      <th>2</th>\n",
       "      <td>0.102710</td>\n",
       "      <td>0.138676</td>\n",
       "      <td>0.018242</td>\n",
       "      <td>-0.052648</td>\n",
       "      <td>0.091288</td>\n",
       "      <td>0.033979</td>\n",
       "      <td>0.024904</td>\n",
       "      <td>0.056502</td>\n",
       "      <td>-0.028475</td>\n",
       "      <td>-0.043502</td>\n",
       "      <td>...</td>\n",
       "      <td>0.155964</td>\n",
       "      <td>0.001959</td>\n",
       "      <td>0.017122</td>\n",
       "      <td>-0.010426</td>\n",
       "      <td>-0.051219</td>\n",
       "      <td>0.015226</td>\n",
       "      <td>-0.137216</td>\n",
       "      <td>-0.131100</td>\n",
       "      <td>-0.000529</td>\n",
       "      <td>0.027645</td>\n",
       "    </tr>\n",
       "    <tr>\n",
       "      <th>3</th>\n",
       "      <td>0.027810</td>\n",
       "      <td>-0.321368</td>\n",
       "      <td>0.150429</td>\n",
       "      <td>-0.046631</td>\n",
       "      <td>0.057571</td>\n",
       "      <td>-0.115637</td>\n",
       "      <td>0.013829</td>\n",
       "      <td>-0.070372</td>\n",
       "      <td>0.107714</td>\n",
       "      <td>-0.031108</td>\n",
       "      <td>...</td>\n",
       "      <td>0.092082</td>\n",
       "      <td>0.005822</td>\n",
       "      <td>0.005484</td>\n",
       "      <td>0.003151</td>\n",
       "      <td>-0.047113</td>\n",
       "      <td>0.037399</td>\n",
       "      <td>-0.165715</td>\n",
       "      <td>-0.078084</td>\n",
       "      <td>-0.010972</td>\n",
       "      <td>0.008103</td>\n",
       "    </tr>\n",
       "    <tr>\n",
       "      <th>4</th>\n",
       "      <td>-0.020190</td>\n",
       "      <td>0.099340</td>\n",
       "      <td>0.000755</td>\n",
       "      <td>0.011853</td>\n",
       "      <td>-0.018309</td>\n",
       "      <td>-0.036345</td>\n",
       "      <td>0.033586</td>\n",
       "      <td>-0.036538</td>\n",
       "      <td>0.244938</td>\n",
       "      <td>-0.000860</td>\n",
       "      <td>...</td>\n",
       "      <td>-0.020081</td>\n",
       "      <td>-0.014218</td>\n",
       "      <td>-0.013256</td>\n",
       "      <td>0.046388</td>\n",
       "      <td>0.039594</td>\n",
       "      <td>-0.042097</td>\n",
       "      <td>-0.198714</td>\n",
       "      <td>0.039961</td>\n",
       "      <td>-0.040795</td>\n",
       "      <td>0.016570</td>\n",
       "    </tr>\n",
       "  </tbody>\n",
       "</table>\n",
       "<p>5 rows × 150 columns</p>\n",
       "</div>"
      ],
      "text/plain": [
       "   ALTERSKATEGORIE_GROB  ANREDE_KZ  FINANZ_MINIMALIST  FINANZ_SPARER  \\\n",
       "0             -0.092107   0.012039          -0.195584       0.123694   \n",
       "1              0.212000  -0.001966           0.078169      -0.228249   \n",
       "2              0.102710   0.138676           0.018242      -0.052648   \n",
       "3              0.027810  -0.321368           0.150429      -0.046631   \n",
       "4             -0.020190   0.099340           0.000755       0.011853   \n",
       "\n",
       "   FINANZ_VORSORGER  FINANZ_ANLEGER  FINANZ_UNAUFFAELLIGER  FINANZ_HAUSBAUER  \\\n",
       "0         -0.093270        0.061535               0.063151          0.150436   \n",
       "1          0.208171       -0.235073              -0.238482          0.085620   \n",
       "2          0.091288        0.033979               0.024904          0.056502   \n",
       "3          0.057571       -0.115637               0.013829         -0.070372   \n",
       "4         -0.018309       -0.036345               0.033586         -0.036538   \n",
       "\n",
       "   GREEN_AVANTGARDE  HEALTH_TYP     ...      GFK_URLAUBERTYP_5.0  \\\n",
       "0         -0.098375    0.026702     ...                -0.006324   \n",
       "1          0.015782   -0.042616     ...                -0.063808   \n",
       "2         -0.028475   -0.043502     ...                 0.155964   \n",
       "3          0.107714   -0.031108     ...                 0.092082   \n",
       "4          0.244938   -0.000860     ...                -0.020081   \n",
       "\n",
       "   GFK_URLAUBERTYP_6.0  GFK_URLAUBERTYP_7.0  GFK_URLAUBERTYP_8.0  \\\n",
       "0            -0.030588            -0.042555             0.003238   \n",
       "1             0.021284             0.041787             0.032479   \n",
       "2             0.001959             0.017122            -0.010426   \n",
       "3             0.005822             0.005484             0.003151   \n",
       "4            -0.014218            -0.013256             0.046388   \n",
       "\n",
       "   GFK_URLAUBERTYP_9.0  GFK_URLAUBERTYP_nan  MOVEMENT    DECADE    WEALTH  \\\n",
       "0            -0.004652            -0.001922  0.059373  0.079325  0.186384   \n",
       "1            -0.056974             0.000894  0.072239 -0.207704  0.065928   \n",
       "2            -0.051219             0.015226 -0.137216 -0.131100 -0.000529   \n",
       "3            -0.047113             0.037399 -0.165715 -0.078084 -0.010972   \n",
       "4             0.039594            -0.042097 -0.198714  0.039961 -0.040795   \n",
       "\n",
       "   LIEF_STAGE  \n",
       "0   -0.111485  \n",
       "1   -0.003931  \n",
       "2    0.027645  \n",
       "3    0.008103  \n",
       "4    0.016570  \n",
       "\n",
       "[5 rows x 150 columns]"
      ]
     },
     "execution_count": 36,
     "metadata": {},
     "output_type": "execute_result"
    }
   ],
   "source": [
    "# Map weights for the first principal component to corresponding feature names\n",
    "# and then print the linked values, sorted by weight.\n",
    "\n",
    "pca_df = pd.DataFrame(pca.components_, columns = azdias.columns)\n",
    "pca_df.head()"
   ]
  },
  {
   "cell_type": "code",
   "execution_count": 37,
   "metadata": {},
   "outputs": [
    {
     "data": {
      "text/plain": [
       "PLZ8_ANTG3               0.197390\n",
       "PLZ8_ANTG4               0.191591\n",
       "PLZ8_BAUMAX              0.187328\n",
       "WEALTH                   0.186384\n",
       "ORTSGR_KLS9              0.171167\n",
       "EWDICHTE                 0.169236\n",
       "HH_EINKOMMEN_SCORE       0.157082\n",
       "FINANZ_HAUSBAUER         0.150436\n",
       "PLZ8_ANTG2               0.134973\n",
       "KBA05_ANTG4              0.132738\n",
       "FINANZ_SPARER            0.123694\n",
       "ARBEIT                   0.122994\n",
       "ANZ_HAUSHALTE_AKTIV      0.119891\n",
       "KBA05_ANTG3              0.118953\n",
       "RELAT_AB                 0.116093\n",
       "LP_STATUS_FEIN_2.0       0.115747\n",
       "CAMEO_DEUG_2015_9        0.111649\n",
       "SEMIO_PFLICHT            0.092696\n",
       "SEMIO_REL                0.089917\n",
       "CAMEO_DEUG_2015_8        0.089743\n",
       "DECADE                   0.079325\n",
       "ZABEOTYP_5               0.077370\n",
       "SEMIO_RAT                0.075290\n",
       "GEBAEUDETYP_3.0          0.065342\n",
       "SEMIO_TRADV              0.063856\n",
       "SEMIO_MAT                0.063781\n",
       "FINANZ_UNAUFFAELLIGER    0.063151\n",
       "SEMIO_FAM                0.063039\n",
       "FINANZ_ANLEGER           0.061535\n",
       "MOVEMENT                 0.059373\n",
       "                           ...   \n",
       "WOHNDAUER_2008          -0.054820\n",
       "SEMIO_ERL               -0.059644\n",
       "KBA13_ANZAHL_PKW        -0.066647\n",
       "CAMEO_DEUG_2015_3       -0.069859\n",
       "WOHNLAGE                -0.072220\n",
       "LP_FAMILIE_GROB_5.0     -0.078131\n",
       "CAMEO_DEUG_2015_4       -0.078282\n",
       "FINANZTYP_2             -0.085614\n",
       "CAMEO_DEUG_2015_2       -0.091062\n",
       "ANZ_PERSONEN            -0.091188\n",
       "ALTERSKATEGORIE_GROB    -0.092107\n",
       "FINANZ_VORSORGER        -0.093270\n",
       "GREEN_AVANTGARDE        -0.098375\n",
       "GEBAEUDETYP_RASTER      -0.105055\n",
       "BALLRAUM                -0.108326\n",
       "LIEF_STAGE              -0.111485\n",
       "LP_STATUS_FEIN_10.0     -0.112455\n",
       "LP_STATUS_GROB_5.0      -0.112455\n",
       "LP_STATUS_FEIN_9.0      -0.119138\n",
       "LP_STATUS_GROB_4.0      -0.120603\n",
       "LP_LEBENSPHASE_GROB     -0.125787\n",
       "LP_LEBENSPHASE_FEIN     -0.139270\n",
       "INNENSTADT              -0.141400\n",
       "PLZ8_GBZ                -0.144690\n",
       "KONSUMNAEHE             -0.146940\n",
       "KBA05_GBZ               -0.189407\n",
       "FINANZ_MINIMALIST       -0.195584\n",
       "PLZ8_ANTG1              -0.197164\n",
       "KBA05_ANTG1             -0.198582\n",
       "MOBI_REGIO              -0.212942\n",
       "Name: 0, Length: 150, dtype: float64"
      ]
     },
     "execution_count": 37,
     "metadata": {},
     "output_type": "execute_result"
    }
   ],
   "source": [
    "def feature_and_weight(pc):\n",
    "    return pca_df.iloc[pc-1].sort_values(ascending = False)\n",
    "feature_and_weight(1)"
   ]
  },
  {
   "cell_type": "code",
   "execution_count": 38,
   "metadata": {},
   "outputs": [
    {
     "data": {
      "text/plain": [
       "ALTERSKATEGORIE_GROB     0.212000\n",
       "FINANZ_VORSORGER         0.208171\n",
       "SEMIO_ERL                0.165361\n",
       "RETOURTYP_BK_S           0.146619\n",
       "SEMIO_LUST               0.125004\n",
       "W_KEIT_KIND_HH           0.118284\n",
       "FINANZTYP_5              0.115732\n",
       "CJT_GESAMTTYP_2.0        0.104028\n",
       "HH_EINKOMMEN_SCORE       0.102584\n",
       "ZABEOTYP_3               0.100017\n",
       "FINANZTYP_2              0.091410\n",
       "FINANZTYP_6              0.087786\n",
       "FINANZ_HAUSBAUER         0.085620\n",
       "FINANZ_MINIMALIST        0.078169\n",
       "SHOPPER_TYP_3.0          0.077848\n",
       "PLZ8_ANTG3               0.076818\n",
       "EWDICHTE                 0.075171\n",
       "VERS_TYP                 0.074700\n",
       "SEMIO_VERT               0.074290\n",
       "ORTSGR_KLS9              0.073957\n",
       "PLZ8_ANTG4               0.073711\n",
       "MOVEMENT                 0.072239\n",
       "PLZ8_BAUMAX              0.070172\n",
       "WEALTH                   0.065928\n",
       "GFK_URLAUBERTYP_4.0      0.064048\n",
       "OST_WEST_KZ              0.060455\n",
       "CAMEO_DEUG_2015_8        0.059743\n",
       "LP_STATUS_FEIN_3.0       0.057195\n",
       "KBA05_ANTG4              0.055454\n",
       "PLZ8_ANTG2               0.054296\n",
       "                           ...   \n",
       "ZABEOTYP_4              -0.063339\n",
       "GFK_URLAUBERTYP_5.0     -0.063808\n",
       "KBA05_ANTG1             -0.064165\n",
       "ZABEOTYP_5              -0.064934\n",
       "LP_STATUS_FEIN_2.0      -0.065437\n",
       "LP_STATUS_GROB_2.0      -0.068328\n",
       "KBA05_GBZ               -0.070834\n",
       "MOBI_REGIO              -0.072734\n",
       "PLZ8_ANTG1              -0.075038\n",
       "SEMIO_KULT              -0.089679\n",
       "LP_FAMILIE_GROB_nan     -0.092040\n",
       "LP_FAMILIE_FEIN_nan     -0.092040\n",
       "CJT_GESAMTTYP_6.0       -0.103280\n",
       "ONLINE_AFFINITAET       -0.124921\n",
       "SEMIO_FAM               -0.127501\n",
       "SEMIO_MAT               -0.131548\n",
       "SHOPPER_TYP_nan         -0.135979\n",
       "CAMEO_DEUG_2015_nan     -0.136238\n",
       "NATIONALITAET_KZ_nan    -0.137056\n",
       "GEBAEUDETYP_nan         -0.138839\n",
       "LP_STATUS_FEIN_5.0      -0.147256\n",
       "SEMIO_TRADV             -0.160764\n",
       "FINANZTYP_4             -0.164109\n",
       "SEMIO_RAT               -0.165328\n",
       "SEMIO_PFLICHT           -0.198288\n",
       "DECADE                  -0.207704\n",
       "SEMIO_REL               -0.221668\n",
       "FINANZ_SPARER           -0.228249\n",
       "FINANZ_ANLEGER          -0.235073\n",
       "FINANZ_UNAUFFAELLIGER   -0.238482\n",
       "Name: 1, Length: 150, dtype: float64"
      ]
     },
     "execution_count": 38,
     "metadata": {},
     "output_type": "execute_result"
    }
   ],
   "source": [
    "# Map weights for the second principal component to corresponding feature names\n",
    "# and then print the linked values, sorted by weight.\n",
    "\n",
    "feature_and_weight(2)"
   ]
  },
  {
   "cell_type": "code",
   "execution_count": 39,
   "metadata": {},
   "outputs": [
    {
     "data": {
      "text/plain": [
       "GEBAEUDETYP_nan          0.231663\n",
       "NATIONALITAET_KZ_nan     0.230084\n",
       "SHOPPER_TYP_nan          0.227672\n",
       "CAMEO_DEUG_2015_nan      0.225304\n",
       "ZABEOTYP_3               0.221097\n",
       "SEMIO_KRIT               0.213423\n",
       "SEMIO_KAEM               0.193993\n",
       "LP_FAMILIE_GROB_nan      0.193565\n",
       "LP_FAMILIE_FEIN_nan      0.193565\n",
       "LP_STATUS_FEIN_5.0       0.169665\n",
       "SEMIO_DOM                0.160698\n",
       "GFK_URLAUBERTYP_5.0      0.155964\n",
       "FINANZTYP_4              0.155406\n",
       "ANREDE_KZ                0.138676\n",
       "SEMIO_LUST               0.129627\n",
       "LP_STATUS_GROB_2.0       0.113896\n",
       "CJT_GESAMTTYP_6.0        0.113751\n",
       "SEMIO_ERL                0.108593\n",
       "ALTERSKATEGORIE_GROB     0.102710\n",
       "FINANZ_VORSORGER         0.091288\n",
       "W_KEIT_KIND_HH           0.062663\n",
       "FINANZ_HAUSBAUER         0.056502\n",
       "RETOURTYP_BK_S           0.056245\n",
       "CJT_GESAMTTYP_2.0        0.052000\n",
       "FINANZTYP_2              0.045482\n",
       "FINANZ_ANLEGER           0.033979\n",
       "WOHNDAUER_2008           0.033386\n",
       "LIEF_STAGE               0.027645\n",
       "SHOPPER_TYP_3.0          0.025519\n",
       "FINANZ_UNAUFFAELLIGER    0.024904\n",
       "                           ...   \n",
       "HEALTH_TYP              -0.043502\n",
       "GEBAEUDETYP_3.0         -0.043766\n",
       "LP_STATUS_GROB_4.0      -0.046685\n",
       "ANZ_PERSONEN            -0.047226\n",
       "GFK_URLAUBERTYP_12.0    -0.049128\n",
       "GFK_URLAUBERTYP_9.0     -0.051219\n",
       "FINANZ_SPARER           -0.052648\n",
       "LP_STATUS_FEIN_2.0      -0.054898\n",
       "LP_FAMILIE_GROB_4.0     -0.056517\n",
       "LP_FAMILIE_GROB_5.0     -0.057879\n",
       "CJT_GESAMTTYP_3.0       -0.058191\n",
       "SEMIO_MAT               -0.058505\n",
       "FINANZTYP_3             -0.061106\n",
       "NATIONALITAET_KZ_2.0    -0.069836\n",
       "SEMIO_PFLICHT           -0.074853\n",
       "ZABEOTYP_5              -0.074996\n",
       "CJT_GESAMTTYP_4.0       -0.079671\n",
       "VERS_TYP                -0.080776\n",
       "SEMIO_FAM               -0.089649\n",
       "SHOPPER_TYP_1.0         -0.090188\n",
       "HH_EINKOMMEN_SCORE      -0.105795\n",
       "ZABEOTYP_4              -0.105972\n",
       "ONLINE_AFFINITAET       -0.117109\n",
       "OST_WEST_KZ             -0.128886\n",
       "DECADE                  -0.131100\n",
       "MOVEMENT                -0.137216\n",
       "SEMIO_TRADV             -0.154669\n",
       "SEMIO_SOZ               -0.198959\n",
       "SEMIO_VERT              -0.215550\n",
       "SEMIO_KULT              -0.224394\n",
       "Name: 2, Length: 150, dtype: float64"
      ]
     },
     "execution_count": 39,
     "metadata": {},
     "output_type": "execute_result"
    }
   ],
   "source": [
    "# Map weights for the third principal component to corresponding feature names\n",
    "# and then print the linked values, sorted by weight.\n",
    "\n",
    "feature_and_weight(3)"
   ]
  },
  {
   "cell_type": "markdown",
   "metadata": {},
   "source": [
    "### Discussion 2.3: Interpret Principal Components\n",
    "\n",
    "(Double-click this cell and replace this text with your own text, reporting your observations from detailed investigation of the first few principal components generated. Can we interpret positive and negative values from them in a meaningful way?)"
   ]
  },
  {
   "cell_type": "markdown",
   "metadata": {},
   "source": [
    "## Step 3: Clustering\n",
    "\n",
    "### Step 3.1: Apply Clustering to General Population\n",
    "\n",
    "You've assessed and cleaned the demographics data, then scaled and transformed them. Now, it's time to see how the data clusters in the principal components space. In this substep, you will apply k-means clustering to the dataset and use the average within-cluster distances from each point to their assigned cluster's centroid to decide on a number of clusters to keep.\n",
    "\n",
    "- Use sklearn's [KMeans](http://scikit-learn.org/stable/modules/generated/sklearn.cluster.KMeans.html#sklearn.cluster.KMeans) class to perform k-means clustering on the PCA-transformed data.\n",
    "- Then, compute the average difference from each point to its assigned cluster's center. **Hint**: The KMeans object's `.score()` method might be useful here, but note that in sklearn, scores tend to be defined so that larger is better. Try applying it to a small, toy dataset, or use an internet search to help your understanding.\n",
    "- Perform the above two steps for a number of different cluster counts. You can then see how the average distance decreases with an increasing number of clusters. However, each additional cluster provides a smaller net benefit. Use this fact to select a final number of clusters in which to group the data. **Warning**: because of the large size of the dataset, it can take a long time for the algorithm to resolve. The more clusters to fit, the longer the algorithm will take. You should test for cluster counts through at least 10 clusters to get the full picture, but you shouldn't need to test for a number of clusters above about 30.\n",
    "- Once you've selected a final number of clusters to use, re-fit a KMeans instance to perform the clustering operation. Make sure that you also obtain the cluster assignments for the general demographics data, since you'll be using them in the final Step 3.3."
   ]
  },
  {
   "cell_type": "code",
   "execution_count": 40,
   "metadata": {},
   "outputs": [
    {
     "data": {
      "text/plain": [
       "[<matplotlib.lines.Line2D at 0x7f86b2dfc2b0>]"
      ]
     },
     "execution_count": 40,
     "metadata": {},
     "output_type": "execute_result"
    },
    {
     "data": {
      "image/png": "[encoded data removed]",
      "text/plain": [
       "<matplotlib.figure.Figure at 0x7f86b2ac7da0>"
      ]
     },
     "metadata": {
      "needs_background": "light"
     },
     "output_type": "display_data"
    }
   ],
   "source": [
    "from sklearn.cluster import KMeans\n",
    "# Investigate the change in within-cluster distance across number of clusters.\n",
    "ks = range(1, 11)\n",
    "inertias = []\n",
    "for k in ks:\n",
    "    # Initialize the KMeans object using the current number of clusters (k)\n",
    "    km = KMeans(n_clusters=k, random_state=8)\n",
    "    # Fit the scaled features to the KMeans object\n",
    "    km.fit(pc)\n",
    "    # Append the inertia for `km` to the list of inertias\n",
    "    inertias.append(km.inertia_)\n",
    "    \n",
    "# Plot the results in a line plot\n",
    "plt.plot(ks, inertias, marker='o')"
   ]
  },
  {
   "cell_type": "code",
   "execution_count": 41,
   "metadata": {},
   "outputs": [],
   "source": [
    "# Re-fit the k-means model with the selected number of clusters and obtain\n",
    "# cluster predictions for the general population demographics data.\n",
    "\n",
    "km = KMeans(random_state = 1, n_clusters = 8)   "
   ]
  },
  {
   "cell_type": "markdown",
   "metadata": {},
   "source": [
    "### Discussion 3.1: Apply Clustering to General Population\n",
    "\n",
    "I decided to segment the population into 8 clusters based on the elbow plot. "
   ]
  },
  {
   "cell_type": "markdown",
   "metadata": {},
   "source": [
    "### Step 3.2: Apply All Steps to the Customer Data\n",
    "\n",
    "Now that you have clusters and cluster centers for the general population, it's time to see how the customer data maps on to those clusters. Take care to not confuse this for re-fitting all of the models to the customer data. Instead, you're going to use the fits from the general population to clean, transform, and cluster the customer data. In the last step of the project, you will interpret how the general population fits apply to the customer data.\n",
    "\n",
    "- Don't forget when loading in the customers data, that it is semicolon (`;`) delimited.\n",
    "- Apply the same feature wrangling, selection, and engineering steps to the customer demographics using the `clean_data()` function you created earlier. (You can assume that the customer demographics data has similar meaning behind missing data patterns as the general demographics data.)\n",
    "- Use the sklearn objects from the general demographics data, and apply their transformations to the customers data. That is, you should not be using a `.fit()` or `.fit_transform()` method to re-fit the old objects, nor should you be creating new sklearn objects! Carry the data through the feature scaling, PCA, and clustering steps, obtaining cluster assignments for all of the data in the customer demographics data."
   ]
  },
  {
   "cell_type": "code",
   "execution_count": 42,
   "metadata": {},
   "outputs": [],
   "source": [
    "# Load in the customer demographics data.\n",
    "customers = pd.read_csv('Udacity_CUSTOMERS_Subset.csv', sep = ';')\n",
    "azdias = pd.read_csv('Udacity_AZDIAS_Subset.csv', sep = ';')"
   ]
  },
  {
   "cell_type": "code",
   "execution_count": 43,
   "metadata": {},
   "outputs": [],
   "source": [
    "customers_clean = clean_data(customers)\n",
    "azdias_clean = clean_data(azdias)"
   ]
  },
  {
   "cell_type": "code",
   "execution_count": 64,
   "metadata": {},
   "outputs": [
    {
     "data": {
      "text/plain": [
       "['GEBAEUDETYP_5.0', 'TITEL_KZ_2.0']"
      ]
     },
     "execution_count": 64,
     "metadata": {},
     "output_type": "execute_result"
    }
   ],
   "source": [
    "old = set(azdias_clean.columns)\n",
    "new = set(customers_clean.columns)\n",
    "columns_to_drop = list(old.difference(new))\n",
    "azdias_clean = azdias_clean.drop(columns_to_drop, axis = 1)\n",
    "columns_to_drop"
   ]
  },
  {
   "cell_type": "code",
   "execution_count": 58,
   "metadata": {},
   "outputs": [],
   "source": [
    "from sklearn.pipeline import Pipeline\n",
    "from sklearn.preprocessing import Imputer, StandardScaler\n",
    "from sklearn.decomposition import PCA\n",
    "from sklearn.cluster import KMeans\n",
    "# Build the preprocessing and training pipeline\n",
    "pipe = Pipeline([\n",
    "        ('imputer', Imputer()), \n",
    "        ('scaler', StandardScaler()),\n",
    "        ('pca', PCA(n_components = 58, random_state = 0))]\n",
    ")"
   ]
  },
  {
   "cell_type": "code",
   "execution_count": 70,
   "metadata": {},
   "outputs": [],
   "source": [
    "azdias_transformed = pipe.fit_transform(azdias_clean)"
   ]
  },
  {
   "cell_type": "code",
   "execution_count": 71,
   "metadata": {},
   "outputs": [],
   "source": [
    "customer_transformed = pipe.transform(customers_clean)"
   ]
  },
  {
   "cell_type": "code",
   "execution_count": 72,
   "metadata": {},
   "outputs": [],
   "source": [
    "km = KMeans(n_clusters = 8, random_state=0)\n",
    "azdias_km = km.fit_transform(azdias_transformed)"
   ]
  },
  {
   "cell_type": "markdown",
   "metadata": {},
   "source": [
    "### Step 3.3: Compare Customer Data to Demographics Data\n",
    "\n",
    "At this point, you have clustered data based on demographics of the general population of Germany, and seen how the customer data for a mail-order sales company maps onto those demographic clusters. In this final substep, you will compare the two cluster distributions to see where the strongest customer base for the company is.\n",
    "\n",
    "Consider the proportion of persons in each cluster for the general population, and the proportions for the customers. If we think the company's customer base to be universal, then the cluster assignment proportions should be fairly similar between the two. If there are only particular segments of the population that are interested in the company's products, then we should see a mismatch from one to the other. If there is a higher proportion of persons in a cluster for the customer data compared to the general population (e.g. 5% of persons are assigned to a cluster for the general population, but 15% of the customer data is closest to that cluster's centroid) then that suggests the people in that cluster to be a target audience for the company. On the other hand, the proportion of the data in a cluster being larger in the general population than the customer data (e.g. only 2% of customers closest to a population centroid that captures 6% of the data) suggests that group of persons to be outside of the target demographics.\n",
    "\n",
    "Take a look at the following points in this step:\n",
    "\n",
    "- Compute the proportion of data points in each cluster for the general population and the customer data. Visualizations will be useful here: both for the individual dataset proportions, but also to visualize the ratios in cluster representation between groups. Seaborn's [`countplot()`](https://seaborn.pydata.org/generated/seaborn.countplot.html) or [`barplot()`](https://seaborn.pydata.org/generated/seaborn.barplot.html) function could be handy.\n",
    "  - Recall the analysis you performed in step 1.1.3 of the project, where you separated out certain data points from the dataset if they had more than a specified threshold of missing values. If you found that this group was qualitatively different from the main bulk of the data, you should treat this as an additional data cluster in this analysis. Make sure that you account for the number of data points in this subset, for both the general population and customer datasets, when making your computations!\n",
    "- Which cluster or clusters are overrepresented in the customer dataset compared to the general population? Select at least one such cluster and infer what kind of people might be represented by that cluster. Use the principal component interpretations from step 2.3 or look at additional components to help you make this inference. Alternatively, you can use the `.inverse_transform()` method of the PCA and StandardScaler objects to transform centroids back to the original data space and interpret the retrieved values directly.\n",
    "- Perform a similar investigation for the underrepresented clusters. Which cluster or clusters are underrepresented in the customer dataset compared to the general population, and what kinds of people are typified by these clusters?"
   ]
  },
  {
   "cell_type": "code",
   "execution_count": 95,
   "metadata": {},
   "outputs": [],
   "source": [
    "# # Compare the proportion of data in each cluster for the customer data to the\n",
    "# proportion of data in each cluster for the general population.\n",
    "\n",
    "def plot_percent(data, label):\n",
    "    df = pd.DataFrame(dict(cluster=data))\n",
    "    ax = sns.barplot(x=\"cluster\", y=\"cluster\", data=df, estimator=lambda x: len(x) / len(df) * 100)\n",
    "    ax.set(ylabel=\"Percent\")\n",
    "    plt.title(f'The number of individuals in each cluster from the {label} data')\n",
    "    \n",
    "demographic_clusters = km.labels_\n",
    "customer_clusters_prediction = km.predict(customer_transformed)"
   ]
  },
  {
   "cell_type": "code",
   "execution_count": 97,
   "metadata": {},
   "outputs": [
    {
     "data": {
      "image/png": "[encoded data removed]",
      "text/plain": [
       "<matplotlib.figure.Figure at 0x7f86b2ad8908>"
      ]
     },
     "metadata": {
      "needs_background": "light"
     },
     "output_type": "display_data"
    }
   ],
   "source": [
    "plot_percent(demographic_clusters, 'demographic')"
   ]
  },
  {
   "cell_type": "code",
   "execution_count": 98,
   "metadata": {},
   "outputs": [
    {
     "data": {
      "image/png": "[encoded data removed]",
      "text/plain": [
       "<matplotlib.figure.Figure at 0x7f8696bcfac8>"
      ]
     },
     "metadata": {
      "needs_background": "light"
     },
     "output_type": "display_data"
    }
   ],
   "source": [
    "plot_percent(customer_clusters_prediction, 'customer')"
   ]
  },
  {
   "cell_type": "code",
   "execution_count": 127,
   "metadata": {},
   "outputs": [],
   "source": [
    "# What kinds of people are part of a cluster that is overrepresented in the\n",
    "# customer data compared to the general population?\n",
    "index = np.where(demographic_clusters == 7)\n",
    "cluster_7 = azdias.iloc[index]"
   ]
  },
  {
   "cell_type": "code",
   "execution_count": 128,
   "metadata": {},
   "outputs": [
    {
     "name": "stdout",
     "output_type": "stream",
     "text": [
      "Age group of cluster 7 \n",
      " 3.0    0.483062\n",
      "4.0    0.447856\n",
      "2.0    0.050741\n",
      "1.0    0.018341\n",
      "Name: ALTERSKATEGORIE_GROB, dtype: float64\n",
      " \n",
      "Age group of all the clusters \n",
      " 3.0    0.403599\n",
      "4.0    0.257233\n",
      "2.0    0.178321\n",
      "1.0    0.160847\n",
      "Name: ALTERSKATEGORIE_GROB, dtype: float64\n"
     ]
    }
   ],
   "source": [
    "# Age group\n",
    "\"\"\"Estimated age based on given name analysis\n",
    "- -1: unknown (missing)\n",
    "-  0: unknown (cannot be determined)\n",
    "-  1: < 30 years old\n",
    "-  2: 30 - 45 years old\n",
    "-  3: 46 - 60 years old\n",
    "-  4: > 60 years old\n",
    "-  9: uniformly distributed\n",
    "\"\"\"\n",
    "print('Age group of cluster 7 \\n', \\\n",
    "      cluster_7['ALTERSKATEGORIE_GROB'].value_counts(normalize = True))\n",
    "print(' ')\n",
    "print('Age group of all the clusters \\n', \\\n",
    "      azdias['ALTERSKATEGORIE_GROB'].value_counts(normalize = True))"
   ]
  },
  {
   "cell_type": "code",
   "execution_count": 130,
   "metadata": {},
   "outputs": [
    {
     "name": "stdout",
     "output_type": "stream",
     "text": [
      "Gender group of cluster 7 \n",
      " 2.0    0.259376\n",
      "4.0    0.191859\n",
      "3.0    0.170447\n",
      "1.0    0.133198\n",
      "6.0    0.123795\n",
      "5.0    0.119441\n",
      "nan    0.001884\n",
      "Name: CJT_GESAMTTYP, dtype: float64\n",
      " \n",
      "Gender group of all the clusters \n",
      " 4.0    0.236712\n",
      "3.0    0.175545\n",
      "6.0    0.172701\n",
      "2.0    0.166956\n",
      "5.0    0.131702\n",
      "1.0    0.110937\n",
      "nan    0.005446\n",
      "Name: CJT_GESAMTTYP, dtype: float64\n"
     ]
    }
   ],
   "source": [
    "# Preferred information and buying channels group\n",
    "\"\"\"Customer-Journey-Typology: preferred information and buying channels for\n",
    "consumer\n",
    "- 0: unknown\n",
    "- 1: Advertising- and Consumptionminimalist\n",
    "- 2: Advertising- and Consumptiontraditionalist\n",
    "- 3: advertisinginterested Store-shopper\n",
    "- 4: advertisinginterested Online-shopper\n",
    "- 5: Advertising- and Cross-Channel-Enthusiast\n",
    "- 6: Advertising-Enthusiast with restricted Cross-Channel-Behaviour\n",
    "\"\"\"\n",
    "print('Preferred information and buying channels group of cluster 7 \\n', \\\n",
    "      cluster_7['CJT_GESAMTTYP'].value_counts(normalize = True))\n",
    "print(' ')\n",
    "print('Preferred information and buying channels group of all the clusters \\n', \\\n",
    "      azdias['CJT_GESAMTTYP'].value_counts(normalize = True))"
   ]
  },
  {
   "cell_type": "code",
   "execution_count": 131,
   "metadata": {},
   "outputs": [
    {
     "name": "stdout",
     "output_type": "stream",
     "text": [
      "Financial type of cluster 7 \n",
      " 6    0.403343\n",
      "2    0.284605\n",
      "5    0.218553\n",
      "3    0.072145\n",
      "4    0.016804\n",
      "1    0.004550\n",
      "Name: FINANZTYP, dtype: float64\n",
      " \n",
      "Financial type of all the clusters \n",
      " 6    0.325808\n",
      "1    0.223931\n",
      "4    0.146569\n",
      "2    0.124399\n",
      "5    0.119427\n",
      "3    0.059866\n",
      "Name: FINANZTYP, dtype: float64\n"
     ]
    }
   ],
   "source": [
    "# Preferred information and buying channels group\n",
    "\"\"\"Most descriptive financial type for individual\n",
    "- -1: unknown\n",
    "-  1: low financial interest (MINIMALIST)\n",
    "-  2: money-saver (SPARER)\n",
    "-  3: home ownership (HAUSBAUER)\n",
    "-  4: be prepared (VORSORGER)\n",
    "-  5: investor (ANLEGER)\n",
    "-  6: inconspicuous (UNAUFFAELLIGER)\n",
    "\"\"\"\n",
    "print('Financial type of cluster 7 \\n', \\\n",
    "      cluster_7['FINANZTYP'].value_counts(normalize = True))\n",
    "print(' ')\n",
    "print('Financial type of all the clusters \\n', \\\n",
    "      azdias['FINANZTYP'].value_counts(normalize = True))\n"
   ]
  },
  {
   "cell_type": "code",
   "execution_count": 132,
   "metadata": {},
   "outputs": [],
   "source": [
    "# What kinds of people are part of a cluster that is underrepresented in the\n",
    "# customer data compared to the general population?\n",
    "\n",
    "index = np.where(demographic_clusters == 1)\n",
    "cluster_1 = azdias.iloc[index]"
   ]
  },
  {
   "cell_type": "code",
   "execution_count": 134,
   "metadata": {},
   "outputs": [
    {
     "name": "stdout",
     "output_type": "stream",
     "text": [
      "Age group of cluster 1 \n",
      " 2.0    0.373892\n",
      "1.0    0.359280\n",
      "3.0    0.246961\n",
      "4.0    0.019867\n",
      "Name: ALTERSKATEGORIE_GROB, dtype: float64\n",
      " \n",
      "Age group of all the clusters \n",
      " 3.0    0.403599\n",
      "4.0    0.257233\n",
      "2.0    0.178321\n",
      "1.0    0.160847\n",
      "Name: ALTERSKATEGORIE_GROB, dtype: float64\n"
     ]
    }
   ],
   "source": [
    "# Age group\n",
    "\"\"\"Estimated age based on given name analysis\n",
    "- -1: unknown (missing)\n",
    "-  0: unknown (cannot be determined)\n",
    "-  1: < 30 years old\n",
    "-  2: 30 - 45 years old\n",
    "-  3: 46 - 60 years old\n",
    "-  4: > 60 years old\n",
    "-  9: uniformly distributed\n",
    "\"\"\"\n",
    "print('Age group of cluster 1 \\n', \\\n",
    "      cluster_1['ALTERSKATEGORIE_GROB'].value_counts(normalize = True))\n",
    "print(' ')\n",
    "print('Age group of all the clusters \\n', \\\n",
    "      azdias['ALTERSKATEGORIE_GROB'].value_counts(normalize = True))"
   ]
  },
  {
   "cell_type": "code",
   "execution_count": 135,
   "metadata": {},
   "outputs": [
    {
     "name": "stdout",
     "output_type": "stream",
     "text": [
      "Preferred information and buying channels group of cluster 1 \n",
      " 4.0    0.299255\n",
      "3.0    0.272153\n",
      "5.0    0.189782\n",
      "6.0    0.150537\n",
      "2.0    0.057658\n",
      "1.0    0.026629\n",
      "nan    0.003986\n",
      "Name: CJT_GESAMTTYP, dtype: float64\n",
      " \n",
      "Preferred information and buying channels group of all the clusters \n",
      " 4.0    0.236712\n",
      "3.0    0.175545\n",
      "6.0    0.172701\n",
      "2.0    0.166956\n",
      "5.0    0.131702\n",
      "1.0    0.110937\n",
      "nan    0.005446\n",
      "Name: CJT_GESAMTTYP, dtype: float64\n"
     ]
    }
   ],
   "source": [
    "# Preferred information and buying channels group\n",
    "\"\"\"Customer-Journey-Typology: preferred information and buying channels for\n",
    "consumer\n",
    "- 0: unknown\n",
    "- 1: Advertising- and Consumptionminimalist\n",
    "- 2: Advertising- and Consumptiontraditionalist\n",
    "- 3: advertisinginterested Store-shopper\n",
    "- 4: advertisinginterested Online-shopper\n",
    "- 5: Advertising- and Cross-Channel-Enthusiast\n",
    "- 6: Advertising-Enthusiast with restricted Cross-Channel-Behaviour\n",
    "\"\"\"\n",
    "print('Preferred information and buying channels group of cluster 1 \\n', \\\n",
    "      cluster_1['CJT_GESAMTTYP'].value_counts(normalize = True))\n",
    "print(' ')\n",
    "print('Preferred information and buying channels group of all the clusters \\n', \\\n",
    "      azdias['CJT_GESAMTTYP'].value_counts(normalize = True))"
   ]
  },
  {
   "cell_type": "code",
   "execution_count": 136,
   "metadata": {},
   "outputs": [
    {
     "name": "stdout",
     "output_type": "stream",
     "text": [
      "Financial type of cluster 1 \n",
      " 1    0.725288\n",
      "6    0.162628\n",
      "4    0.103787\n",
      "5    0.006153\n",
      "2    0.001102\n",
      "3    0.001043\n",
      "Name: FINANZTYP, dtype: float64\n",
      " \n",
      "Financial type of all the clusters \n",
      " 6    0.325808\n",
      "1    0.223931\n",
      "4    0.146569\n",
      "2    0.124399\n",
      "5    0.119427\n",
      "3    0.059866\n",
      "Name: FINANZTYP, dtype: float64\n"
     ]
    }
   ],
   "source": [
    "# Preferred information and buying channels group\n",
    "\"\"\"Most descriptive financial type for individual\n",
    "- -1: unknown\n",
    "-  1: low financial interest (MINIMALIST)\n",
    "-  2: money-saver (SPARER)\n",
    "-  3: home ownership (HAUSBAUER)\n",
    "-  4: be prepared (VORSORGER)\n",
    "-  5: investor (ANLEGER)\n",
    "-  6: inconspicuous (UNAUFFAELLIGER)\n",
    "\"\"\"\n",
    "print('Financial type of cluster 1 \\n', \\\n",
    "      cluster_1['FINANZTYP'].value_counts(normalize = True))\n",
    "print(' ')\n",
    "print('Financial type of all the clusters \\n', \\\n",
    "      azdias['FINANZTYP'].value_counts(normalize = True))\n"
   ]
  },
  {
   "cell_type": "markdown",
   "metadata": {},
   "source": [
    "### Discussion 3.3: Compare Customer Data to Demographics Data\n",
    "\n",
    "The segments of the population that are relatively popular with the mail-order company are older, money-saver and not interested in online shopping. The segments of the population that are relatively unpopular with the mail-order company are younger, interested in online shopping and have lower financial interest. "
   ]
  },
  {
   "cell_type": "code",
   "execution_count": null,
   "metadata": {},
   "outputs": [],
   "source": []
  }
 ],
 "metadata": {
  "kernelspec": {
   "display_name": "Python 3",
   "language": "python",
   "name": "python3"
  },
  "language_info": {
   "codemirror_mode": {
    "name": "ipython",
    "version": 3
   },
   "file_extension": ".py",
   "mimetype": "text/x-python",
   "name": "python",
   "nbconvert_exporter": "python",
   "pygments_lexer": "ipython3",
   "version": "3.6.3"
  }
 },
 "nbformat": 4,
 "nbformat_minor": 2
}
